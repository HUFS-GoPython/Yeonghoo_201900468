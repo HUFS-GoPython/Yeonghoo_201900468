{
 "cells": [
  {
   "cell_type": "markdown",
   "id": "2564f282",
   "metadata": {},
   "source": [
    "### 객체 II\n",
    "- 상속 (inheritance)\n",
    "- 재사용할 때, A vs B\n",
    "    - \"A의 대부분을 쓰고, 나머지를 추가, 변경하고 싶다\"\n",
    "    - 부모의 모든 속성을 그대로 가져와서 쓰겠다.\n",
    "- 반복되는 부분을 가져오겠다. 물려받겠다.\n",
    "- A <- B\n",
    "    - \"부모, 슈퍼, 베이스\"\n",
    "    - \"자식, 서브, derived\"\n",
    "- 자식클래스는 부모클래스를 구체화한다.\n",
    "- is-a 관계: Car is-a Vehichle (포함된다)"
   ]
  },
  {
   "cell_type": "code",
   "execution_count": 102,
   "id": "cee62182",
   "metadata": {},
   "outputs": [],
   "source": [
    "class Vehicle:  # parent, super\n",
    "    def __init__(self, speed):\n",
    "        self.speed = speed\n",
    "    \n",
    "    def go(self):\n",
    "        print(f'{self.speed}의 속도로 달린다.')\n",
    "\n",
    "# child\n",
    "class Car(Vehicle):   # child, sub\n",
    "    pass"
   ]
  },
  {
   "cell_type": "code",
   "execution_count": 103,
   "id": "472f53f3",
   "metadata": {},
   "outputs": [],
   "source": [
    "car = Car('100km/h')"
   ]
  },
  {
   "cell_type": "code",
   "execution_count": 104,
   "id": "ae22f67f",
   "metadata": {},
   "outputs": [
    {
     "name": "stdout",
     "output_type": "stream",
     "text": [
      "100km/h의 속도로 달린다.\n"
     ]
    }
   ],
   "source": [
    "# 부모클래스의 메서드가 자식클래스에 상속됨\n",
    "car.go()"
   ]
  },
  {
   "cell_type": "markdown",
   "id": "5baecc52",
   "metadata": {},
   "source": [
    "### 변수 추가, 변경"
   ]
  },
  {
   "cell_type": "code",
   "execution_count": 106,
   "id": "92f4f320",
   "metadata": {},
   "outputs": [],
   "source": [
    "class Car(Vehicle):   # chile, sub\n",
    "    def __init__(self, speed, brand):\n",
    "        # speed == 부모\n",
    "        super().__init__(speed)\n",
    "        # brand == 자식\n",
    "        self.brand = brand  # 나의 고유한 특성이 된다"
   ]
  },
  {
   "cell_type": "code",
   "execution_count": 110,
   "id": "a5c84114",
   "metadata": {},
   "outputs": [
    {
     "data": {
      "text/plain": [
       "('ferrari', '100km/h')"
      ]
     },
     "execution_count": 110,
     "metadata": {},
     "output_type": "execute_result"
    }
   ],
   "source": [
    "car2 = Car('100km/h', 'ferrari')\n",
    "car2.brand, car2.speed"
   ]
  },
  {
   "cell_type": "code",
   "execution_count": 111,
   "id": "edffd12f",
   "metadata": {},
   "outputs": [
    {
     "ename": "AttributeError",
     "evalue": "'Vehicle' object has no attribute 'brand'",
     "output_type": "error",
     "traceback": [
      "\u001b[1;31m---------------------------------------------------------------------------\u001b[0m",
      "\u001b[1;31mAttributeError\u001b[0m                            Traceback (most recent call last)",
      "\u001b[1;32m~\\AppData\\Local\\Temp/ipykernel_18572/1165267953.py\u001b[0m in \u001b[0;36m<module>\u001b[1;34m\u001b[0m\n\u001b[0;32m      1\u001b[0m \u001b[0mv\u001b[0m \u001b[1;33m=\u001b[0m \u001b[0mVehicle\u001b[0m\u001b[1;33m(\u001b[0m\u001b[1;34m'120km/h'\u001b[0m\u001b[1;33m)\u001b[0m  \u001b[1;31m# 부모는 brand가 없으므로 에러!\u001b[0m\u001b[1;33m\u001b[0m\u001b[1;33m\u001b[0m\u001b[0m\n\u001b[1;32m----> 2\u001b[1;33m \u001b[0mv\u001b[0m\u001b[1;33m.\u001b[0m\u001b[0mbrand\u001b[0m\u001b[1;33m\u001b[0m\u001b[1;33m\u001b[0m\u001b[0m\n\u001b[0m",
      "\u001b[1;31mAttributeError\u001b[0m: 'Vehicle' object has no attribute 'brand'"
     ]
    }
   ],
   "source": [
    "v = Vehicle('120km/h')  # 부모는 brand가 없으므로 에러!\n",
    "v.brand"
   ]
  },
  {
   "cell_type": "markdown",
   "id": "d288be7f",
   "metadata": {},
   "source": [
    "### 메소드 추가, 변경\n",
    "- override 하면 부모의 메서드가 잊힌다."
   ]
  },
  {
   "cell_type": "code",
   "execution_count": 112,
   "id": "78b788ab",
   "metadata": {},
   "outputs": [],
   "source": [
    "class Car(Vehicle):   # child, sub\n",
    "    def __init__(self, speed, brand):\n",
    "        super().__init__(speed)\n",
    "        self.brand = brand\n",
    "        \n",
    "    # 오버라이드(override): 재정의 -> 부모클래스의 go 메서드는 잊혀짐\n",
    "    def go(self):\n",
    "        # 부모의 go도 함께 가져오고 싶다면?\n",
    "        super().go()\n",
    "        print(f'차종 {self.brand}의 속도 {self.speed}')\n",
    "    \n",
    "    # 메소드 추가\n",
    "    def stop():\n",
    "        pass"
   ]
  },
  {
   "cell_type": "code",
   "execution_count": 113,
   "id": "64fb5c36",
   "metadata": {},
   "outputs": [
    {
     "name": "stdout",
     "output_type": "stream",
     "text": [
      "80km/h의 속도로 달린다.\n",
      "차종 tico의 속도 80km/h\n"
     ]
    }
   ],
   "source": [
    "car3 = Car('80km/h', 'tico')\n",
    "car3.go()\n",
    "# 부모의 go도 타고, 자식의 go도 탄다"
   ]
  },
  {
   "cell_type": "markdown",
   "id": "9cce70e6",
   "metadata": {},
   "source": [
    "### 실습"
   ]
  },
  {
   "cell_type": "code",
   "execution_count": 129,
   "id": "ccdcaa59",
   "metadata": {},
   "outputs": [],
   "source": [
    "class Person:\n",
    "    def __init__(self, name):\n",
    "        self.name = name   # Hoo\n",
    "\n",
    "#-------------------------------\n",
    "class Doctor(Person):  # Dr.Hoo\n",
    "    def __init__(self, name):\n",
    "        super().__init__(f'Dr.{name}')  # 이렇게도 가능\n",
    "\n",
    "class Male(Person):   # Mr.Hoo\n",
    "    def __init__(self, name):\n",
    "        super().__init__(name)\n",
    "        self.name = 'Mr.' + name\n",
    "\n",
    "class Female(Person):   # Mrs.Hoo\n",
    "    def __init__(self, name):\n",
    "        super().__init__(name)\n",
    "        self.name = 'Mrs.' + name"
   ]
  },
  {
   "cell_type": "code",
   "execution_count": 130,
   "id": "efe44221",
   "metadata": {},
   "outputs": [
    {
     "name": "stdout",
     "output_type": "stream",
     "text": [
      "Dr.Hoo\n",
      "Mr.Hoo\n",
      "Mrs.Hoo\n"
     ]
    }
   ],
   "source": [
    "name1 = Doctor('Hoo')\n",
    "name2 = Male('Hoo')\n",
    "name3 = Female('Hoo')\n",
    "print(name1.name)\n",
    "print(name2.name)\n",
    "print(name3.name)"
   ]
  },
  {
   "cell_type": "markdown",
   "id": "22f8265e",
   "metadata": {},
   "source": [
    "### 다중상속\n",
    "- method resolution order (MRO)\n",
    "- Ex)Animal <- Horse\n",
    "            <- Donkey\n",
    "                   <- Mule(Donkey > Horse)\n",
    "                   <- Hinny(Horse > Donkey) "
   ]
  },
  {
   "cell_type": "code",
   "execution_count": 131,
   "id": "9faada4f",
   "metadata": {},
   "outputs": [],
   "source": [
    "class Animal:\n",
    "    def says(self):\n",
    "        return '동물이 운다'\n",
    "\n",
    "# 자식\n",
    "class Horse(Animal):\n",
    "    def says(self):\n",
    "        # super().says()\n",
    "        return '히히힝'\n",
    "\n",
    "class Donkey(Animal):\n",
    "    def says(self):\n",
    "        return '히이호'\n",
    "\n",
    "# 손주(편의상 이렇게 부름)\n",
    "class Mule(Donkey, Horse):   # 가까운 부모부터 써줌\n",
    "    pass\n",
    "\n",
    "class Hinny(Horse, Donkey):\n",
    "    pass"
   ]
  },
  {
   "cell_type": "code",
   "execution_count": 132,
   "id": "89a6181b",
   "metadata": {},
   "outputs": [
    {
     "data": {
      "text/plain": [
       "'히이호'"
      ]
     },
     "execution_count": 132,
     "metadata": {},
     "output_type": "execute_result"
    }
   ],
   "source": [
    "m = Mule()\n",
    "m.says()"
   ]
  },
  {
   "cell_type": "code",
   "execution_count": 133,
   "id": "ac99c2b9",
   "metadata": {},
   "outputs": [
    {
     "data": {
      "text/plain": [
       "'히히힝'"
      ]
     },
     "execution_count": 133,
     "metadata": {},
     "output_type": "execute_result"
    }
   ],
   "source": [
    "Hinny().says()"
   ]
  },
  {
   "cell_type": "code",
   "execution_count": 134,
   "id": "19117465",
   "metadata": {},
   "outputs": [
    {
     "data": {
      "text/plain": [
       "[__main__.Mule, __main__.Donkey, __main__.Horse, __main__.Animal, object]"
      ]
     },
     "execution_count": 134,
     "metadata": {},
     "output_type": "execute_result"
    }
   ],
   "source": [
    "Mule.mro() # 가까운 순서대로 나열"
   ]
  },
  {
   "cell_type": "markdown",
   "id": "ada2b2ea",
   "metadata": {},
   "source": [
    "### 다형성\n",
    "- 형태는 다르지만, 기능은 같은 메서드\n",
    "- 객체가 다른데도 같은 메소드(says())를 가지고 있으면 같은 기능을 수행할 수 있다."
   ]
  },
  {
   "cell_type": "code",
   "execution_count": 46,
   "id": "7547bd57",
   "metadata": {},
   "outputs": [
    {
     "name": "stdout",
     "output_type": "stream",
     "text": [
      "히이호\n",
      "히이호\n",
      "동물이 운다\n"
     ]
    }
   ],
   "source": [
    "for animal in [Mule(), Donkey(), Animal()]:\n",
    "    print(animal.says())"
   ]
  },
  {
   "cell_type": "markdown",
   "id": "6c273636",
   "metadata": {},
   "source": [
    "### 메서드 타입\n",
    "- 인스턴스 메서드\n",
    "    - self가 1번 인자\n",
    "    - 객체 생성 -> 사용 가능\n",
    "- 클래스 메서드\n",
    "    - 객체 생성하지 않아도 사용 가능\n",
    "    - 클래스에 접근하는 메서드\n",
    "    - @classmethod\n",
    "    - 예약어: cls\n",
    "    - 함수(cls)가 첫 인자\n",
    "    - class Person, cls == Person\n",
    "- 정적 메서드\n",
    "    - 객체 생성하지 않고 접근 가능\n",
    "    - 클래스랑 전혀 상관이 없기 때문에 접근 가능한 것\n",
    "    - 내용이나 기능이 비슷해서 클래스 내에 묶어 둠\n",
    "- 추상 메서드\n",
    "    - 추상 클래스: abstract 이름만 존재하는 클래스\n",
    "    - 설계도 역할: \n",
    "    - 상속하는 자식클래스 => 반드시 구현해야 하는 메소드를 정의한다."
   ]
  },
  {
   "cell_type": "code",
   "execution_count": 48,
   "id": "24883c8c",
   "metadata": {},
   "outputs": [
    {
     "data": {
      "text/plain": [
       "'히이호'"
      ]
     },
     "execution_count": 48,
     "metadata": {},
     "output_type": "execute_result"
    }
   ],
   "source": [
    "a = Mule()  # 객체 생성\n",
    "a.says()"
   ]
  },
  {
   "cell_type": "code",
   "execution_count": 50,
   "id": "c57bb31b",
   "metadata": {},
   "outputs": [
    {
     "ename": "TypeError",
     "evalue": "says() missing 1 required positional argument: 'self'",
     "output_type": "error",
     "traceback": [
      "\u001b[1;31m---------------------------------------------------------------------------\u001b[0m",
      "\u001b[1;31mTypeError\u001b[0m                                 Traceback (most recent call last)",
      "\u001b[1;32m~\\AppData\\Local\\Temp/ipykernel_18572/3326756025.py\u001b[0m in \u001b[0;36m<module>\u001b[1;34m\u001b[0m\n\u001b[1;32m----> 1\u001b[1;33m \u001b[0mMule\u001b[0m\u001b[1;33m.\u001b[0m\u001b[0msays\u001b[0m\u001b[1;33m(\u001b[0m\u001b[1;33m)\u001b[0m  \u001b[1;31m# 객체(self)가 없으므로 오류\u001b[0m\u001b[1;33m\u001b[0m\u001b[1;33m\u001b[0m\u001b[0m\n\u001b[0m",
      "\u001b[1;31mTypeError\u001b[0m: says() missing 1 required positional argument: 'self'"
     ]
    }
   ],
   "source": [
    "Mule.says()  # 객체(self)가 없으므로 오류"
   ]
  },
  {
   "cell_type": "code",
   "execution_count": 56,
   "id": "f173dff2",
   "metadata": {},
   "outputs": [],
   "source": [
    "# 클래스 메서드\n",
    "class A:\n",
    "    cnt = 0\n",
    "    \n",
    "    @classmethod\n",
    "    def move(cls):\n",
    "        return cls.cnt"
   ]
  },
  {
   "cell_type": "code",
   "execution_count": 59,
   "id": "fc777233",
   "metadata": {},
   "outputs": [
    {
     "data": {
      "text/plain": [
       "0"
      ]
     },
     "execution_count": 59,
     "metadata": {},
     "output_type": "execute_result"
    }
   ],
   "source": [
    "A().move()\n",
    "A.move()  # A에 바로 접근 가능"
   ]
  },
  {
   "cell_type": "code",
   "execution_count": 62,
   "id": "bb5261e2",
   "metadata": {},
   "outputs": [],
   "source": [
    "class Person:\n",
    "    def __init__(self, name, age):\n",
    "        self.name = name\n",
    "        self.age = age\n",
    "    \n",
    "    @classmethod\n",
    "    def tuple_object(cls, args):\n",
    "        return cls(args[0], args[1])\n",
    "\n",
    "name = 'kim'\n",
    "age = 24\n",
    "# p = Person(name, age)  # p라는 객체를 생성하게 하고싶다\n",
    "\n",
    "info = name, age\n",
    "p = Person.tuple_object(info)"
   ]
  },
  {
   "cell_type": "code",
   "execution_count": 95,
   "id": "181cd7cd",
   "metadata": {},
   "outputs": [
    {
     "name": "stdout",
     "output_type": "stream",
     "text": [
      "kim\n",
      "24\n"
     ]
    }
   ],
   "source": [
    "print(p.name)\n",
    "print(p.age)"
   ]
  },
  {
   "cell_type": "code",
   "execution_count": 91,
   "id": "4d038122",
   "metadata": {},
   "outputs": [],
   "source": [
    "class A:\n",
    "    # 붕어빵 몇 개 찍었는지?\n",
    "    cnt = 0\n",
    "    \n",
    "    # cnt += 1 어디서?\n",
    "    def __init__(self):\n",
    "        A.cnt += 1\n",
    "    \n",
    "    @classmethod\n",
    "    def count(cls):\n",
    "        return f'객체 수: {cls.cnt}'\n"
   ]
  },
  {
   "cell_type": "code",
   "execution_count": 80,
   "id": "6d9a6d85",
   "metadata": {},
   "outputs": [
    {
     "data": {
      "text/plain": [
       "'객체 수: 3'"
      ]
     },
     "execution_count": 80,
     "metadata": {},
     "output_type": "execute_result"
    }
   ],
   "source": [
    "A()\n",
    "A()\n",
    "A()\n",
    "A.count() # = 3"
   ]
  },
  {
   "cell_type": "code",
   "execution_count": 81,
   "id": "ba6c63b2",
   "metadata": {},
   "outputs": [],
   "source": [
    "# 정적 메서드\n",
    "class Coyote:\n",
    "    @staticmethod\n",
    "    def says(): # self 없음, 딕셔너리에 변수 저장하는 것과 비슷\n",
    "        print('hi')"
   ]
  },
  {
   "cell_type": "code",
   "execution_count": 82,
   "id": "3381b789",
   "metadata": {},
   "outputs": [
    {
     "name": "stdout",
     "output_type": "stream",
     "text": [
      "hi\n"
     ]
    }
   ],
   "source": [
    "Coyote.says()"
   ]
  },
  {
   "cell_type": "code",
   "execution_count": 135,
   "id": "07993b0e",
   "metadata": {},
   "outputs": [],
   "source": [
    "# 추상 클래스\n",
    "from abc import *\n",
    "\n",
    "class Vehicle(metaclass = ABCMeta):\n",
    "    # 추상클래스 설정하는 방법\n",
    "    speed = '속도'\n",
    "    \n",
    "    @abstractmethod\n",
    "    def go(self):\n",
    "        print('어렵네..')\n",
    "    \"\"\"\n",
    "    def stop(self):\n",
    "        pass\"\"\"\n",
    "\n",
    "class Car(Vehicle):\n",
    "    def go(self):  # 자식 클래스에서 반드시 재정의 해줘야 함\n",
    "        super().go()\n",
    "        print('ㅠ')"
   ]
  },
  {
   "cell_type": "code",
   "execution_count": 136,
   "id": "5f2dd297",
   "metadata": {},
   "outputs": [
    {
     "name": "stdout",
     "output_type": "stream",
     "text": [
      "어렵네..\n",
      "ㅠ\n"
     ]
    }
   ],
   "source": [
    "Car().go()"
   ]
  },
  {
   "cell_type": "markdown",
   "id": "c90e9c94",
   "metadata": {},
   "source": [
    "### 추상 클래스 쓰는 이유\n",
    "- 구현해야할 메서드(기능)을 미리 정의하여, 누락 방지\n",
    "- 협업, 분업 과정에서 동일한 템플릿 공유하기 위함\n",
    "- 하향식 설계방식(Top-Down)방식에서 사용"
   ]
  },
  {
   "cell_type": "code",
   "execution_count": null,
   "id": "d877bfa0",
   "metadata": {},
   "outputs": [],
   "source": []
  }
 ],
 "metadata": {
  "kernelspec": {
   "display_name": "Python 3 (ipykernel)",
   "language": "python",
   "name": "python3"
  },
  "language_info": {
   "codemirror_mode": {
    "name": "ipython",
    "version": 3
   },
   "file_extension": ".py",
   "mimetype": "text/x-python",
   "name": "python",
   "nbconvert_exporter": "python",
   "pygments_lexer": "ipython3",
   "version": "3.9.7"
  }
 },
 "nbformat": 4,
 "nbformat_minor": 5
}
