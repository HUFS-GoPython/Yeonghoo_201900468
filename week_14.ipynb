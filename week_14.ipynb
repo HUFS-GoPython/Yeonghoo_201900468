{
 "cells": [
  {
   "cell_type": "markdown",
   "id": "63a87712",
   "metadata": {},
   "source": [
    "### 파일과 디렉터리\n",
    "- 디렉터리: 폴더의 다른 말. 파일이 논리적으로 묶인 단위\n",
    "- 파일: 컴퓨터를 실행하는 기본 단위.\n",
    "    - 파일명 + 확장자\n",
    "    - 확장자: 파일의 쓰임을 구분하는 글자\n",
    "        - .pdf, .xlsx, .txt, ...\n",
    "    - 종류: 바이너리 파일, 텍스트 파일\n",
    "        - 바이너리: 이진 정보로 저장됨\n",
    "            - 내용을 확인할 수 없음\n",
    "            - 해당 확장자를 열 수 있는 프로그램이 필요함.\n",
    "        - 텍스트: 사람이 이해할 수 있는 문자열로 저장됨\n",
    "            - 메모장, html, py\n",
    "            - 변경 기준: 아스키코드, 유니코드\n",
    "            - 인코딩(encoding)\n",
    "            - utf-8\n",
    "            - cp949\n"
   ]
  },
  {
   "cell_type": "markdown",
   "id": "73d36223",
   "metadata": {},
   "source": [
    "#### 파일 열기\n",
    "- open(파일명, 모드)\n",
    "- 모드\n",
    "    - r: read\n",
    "    - w: write - 파일이 있으면 덮어쓰고, 없으면 생성\n",
    "    - x: 파일이 없을 때만 생성\n",
    "    - a: add - 파일이 있을 때 마지막 라인에 추가\n",
    "    \n",
    "    추가 모드\n",
    "    - b: binary\n",
    "    - t: text (default)\n",
    "    - 'rb': 바이너리, 'rt': 텍스트\n"
   ]
  },
  {
   "cell_type": "markdown",
   "id": "f599bfe2",
   "metadata": {},
   "source": [
    "#### 파일 열기"
   ]
  },
  {
   "cell_type": "code",
   "execution_count": 14,
   "id": "03cfb7a3",
   "metadata": {},
   "outputs": [],
   "source": [
    "file = 'test.txt'\n",
    "f = open(file, 'r')"
   ]
  },
  {
   "cell_type": "code",
   "execution_count": 15,
   "id": "4afb7dae",
   "metadata": {},
   "outputs": [
    {
     "data": {
      "text/plain": [
       "<_io.TextIOWrapper name='test.txt' mode='r' encoding='cp949'>"
      ]
     },
     "execution_count": 15,
     "metadata": {},
     "output_type": "execute_result"
    }
   ],
   "source": [
    "f"
   ]
  },
  {
   "cell_type": "markdown",
   "id": "04208932",
   "metadata": {},
   "source": [
    "#### 파일 읽기\n",
    "- read(n): 전체를 하나의 str으로 읽어오기\n",
    "    - 포인터 위치의 다음부터 읽어오기\n",
    "- readline(): 한줄만 str으로 읽어오기\n",
    "- readlines(): 전체를 list, 각 줄이 한 str"
   ]
  },
  {
   "cell_type": "markdown",
   "id": "8385454a",
   "metadata": {},
   "source": [
    "#### 파일 읽기"
   ]
  },
  {
   "cell_type": "code",
   "execution_count": 16,
   "id": "a4d9b5ac",
   "metadata": {},
   "outputs": [
    {
     "data": {
      "text/plain": [
       "'Hi my'"
      ]
     },
     "execution_count": 16,
     "metadata": {},
     "output_type": "execute_result"
    }
   ],
   "source": [
    "f.read(5)"
   ]
  },
  {
   "cell_type": "code",
   "execution_count": 17,
   "id": "a7f5f798",
   "metadata": {},
   "outputs": [
    {
     "data": {
      "text/plain": [
       "' name is hoo\\n'"
      ]
     },
     "execution_count": 17,
     "metadata": {},
     "output_type": "execute_result"
    }
   ],
   "source": [
    "f.readline()  # 커서 뒤부터 읽어옴"
   ]
  },
  {
   "cell_type": "code",
   "execution_count": 18,
   "id": "4d99e9dc",
   "metadata": {},
   "outputs": [],
   "source": [
    "### 작업 종료 후 반드시 닫아줘야함\n",
    "f.close()"
   ]
  },
  {
   "cell_type": "code",
   "execution_count": 19,
   "id": "b9e0f048",
   "metadata": {},
   "outputs": [],
   "source": [
    "f = open(file, 'r')\n",
    "sents = f.readlines()\n",
    "sents = [s.strip() for s in sents]\n",
    "f.close()"
   ]
  },
  {
   "cell_type": "code",
   "execution_count": 20,
   "id": "c53592db",
   "metadata": {},
   "outputs": [
    {
     "data": {
      "text/plain": [
       "['Hi my name is hoo', 'Bye GoPaSun']"
      ]
     },
     "execution_count": 20,
     "metadata": {},
     "output_type": "execute_result"
    }
   ],
   "source": [
    "sents"
   ]
  },
  {
   "cell_type": "markdown",
   "id": "5203afb5",
   "metadata": {},
   "source": [
    "#### 파일 닫기\n",
    "- 파일 여는 즉시 닫기\n",
    "- 자원 해제"
   ]
  },
  {
   "cell_type": "code",
   "execution_count": 31,
   "id": "e0ca7730",
   "metadata": {},
   "outputs": [],
   "source": [
    "with open(file, 'r') as f: # 보통은 f로 받음\n",
    "    # open() 적용되는 블록\n",
    "    content = f.read()\n",
    "# 파일 자동으로 닫힘, f.close() 할 필요 없음"
   ]
  },
  {
   "cell_type": "code",
   "execution_count": 32,
   "id": "76351c56",
   "metadata": {},
   "outputs": [
    {
     "data": {
      "text/plain": [
       "'Hi my name is hoo\\nBye GoPaSun'"
      ]
     },
     "execution_count": 32,
     "metadata": {},
     "output_type": "execute_result"
    }
   ],
   "source": [
    "content"
   ]
  },
  {
   "cell_type": "code",
   "execution_count": 33,
   "id": "2e6251f9",
   "metadata": {},
   "outputs": [
    {
     "data": {
      "text/plain": [
       "['Hi my name is hoo', 'Bye GoPaSun']"
      ]
     },
     "execution_count": 33,
     "metadata": {},
     "output_type": "execute_result"
    }
   ],
   "source": [
    "# readline 파일 읽는데, while 사용해서 한줄씩 읽고 strip()해서 리스트에 반환하는 함수 만들기\n",
    "def readlines(file):\n",
    "    with open(file,'r') as f:\n",
    "        readlines = []\n",
    "        while True:\n",
    "            line = f.readline()\n",
    "            if not line:\n",
    "                break\n",
    "            readlines.append(line.strip())\n",
    "    return readlines\n",
    "\n",
    "readlines(file)"
   ]
  },
  {
   "cell_type": "code",
   "execution_count": 34,
   "id": "257267ad",
   "metadata": {
    "collapsed": true
   },
   "outputs": [
    {
     "ename": "IndentationError",
     "evalue": "expected an indented block (Temp/ipykernel_2672/1635469556.py, line 1)",
     "output_type": "error",
     "traceback": [
      "\u001b[1;36m  File \u001b[1;32m\"C:\\Users\\kupa1\\AppData\\Local\\Temp/ipykernel_2672/1635469556.py\"\u001b[1;36m, line \u001b[1;32m1\u001b[0m\n\u001b[1;33m    while content := f.readline().strip():  # 이렇게도 가능\u001b[0m\n\u001b[1;37m                                                     ^\u001b[0m\n\u001b[1;31mIndentationError\u001b[0m\u001b[1;31m:\u001b[0m expected an indented block\n"
     ]
    }
   ],
   "source": [
    "while content := f.readline().strip():  # 이렇게도 가능"
   ]
  },
  {
   "cell_type": "markdown",
   "id": "3e5b521c",
   "metadata": {},
   "source": [
    "#### 경로가 달라질 때\n",
    "- . : 현재 경로\n",
    "- .. : 상위 경로"
   ]
  },
  {
   "cell_type": "code",
   "execution_count": 28,
   "id": "d2233c2f",
   "metadata": {},
   "outputs": [
    {
     "name": "stdout",
     "output_type": "stream",
     "text": [
      "Hi my name is hoo\n",
      "Bye GoPaSun\n"
     ]
    }
   ],
   "source": [
    "file = './test.txt'\n",
    "\n",
    "with open(file) as f:\n",
    "    print(f.read())"
   ]
  },
  {
   "cell_type": "markdown",
   "id": "8648c8e0",
   "metadata": {},
   "source": [
    "#### 쓰기\n",
    "- 인코딩 유의\n",
    "- w: 파일이 없으면 생성, 있으면 덮어쓰기\n",
    "- a: 파일이 있는 경우 마지막 라인에 추가"
   ]
  },
  {
   "cell_type": "code",
   "execution_count": 30,
   "id": "5fc91718",
   "metadata": {},
   "outputs": [],
   "source": [
    "with open('test3.txt', 'w', encoding='utf-8') as f:\n",
    "    for i in range(10):\n",
    "        data = f'{i}번째 줄입니다.\\n'\n",
    "        f.write(data)"
   ]
  },
  {
   "cell_type": "code",
   "execution_count": 35,
   "id": "0b986965",
   "metadata": {},
   "outputs": [],
   "source": [
    "# print()로 추가하기\n",
    "file_out = open('test3.txt', 'a', encoding='utf-8')\n",
    "print('한 줄 추가했습니다.', file = file_out)\n",
    "file_out.close()"
   ]
  },
  {
   "cell_type": "code",
   "execution_count": 38,
   "id": "4623fb47",
   "metadata": {},
   "outputs": [
    {
     "name": "stdout",
     "output_type": "stream",
     "text": [
      "0번째 줄입니다.\n",
      "1번째 줄입니다.\n",
      "2번째 줄입니다.\n",
      "3번째 줄입니다.\n",
      "4번째 줄입니다.\n",
      "5번째 줄입니다.\n",
      "6번째 줄입니다.\n",
      "7번째 줄입니다.\n",
      "8번째 줄입니다.\n",
      "9번째 줄입니다.\n",
      "한 줄 추가했습니다.\n",
      "\n"
     ]
    }
   ],
   "source": [
    "with open('test3.txt', 'r', encoding='utf-8') as f:\n",
    "    print(f.read())"
   ]
  },
  {
   "cell_type": "markdown",
   "id": "00a9f7e8",
   "metadata": {},
   "source": [
    "#### folder 만들어서 추가하는 방법\n",
    "- 먼저 폴더 생성해야함\n",
    "- 그 다음 접근"
   ]
  },
  {
   "cell_type": "code",
   "execution_count": 24,
   "id": "f340274f",
   "metadata": {},
   "outputs": [],
   "source": [
    "import os"
   ]
  },
  {
   "cell_type": "code",
   "execution_count": 25,
   "id": "35554495",
   "metadata": {},
   "outputs": [],
   "source": [
    "os.mkdir('hoo')"
   ]
  },
  {
   "cell_type": "code",
   "execution_count": 26,
   "id": "36faf7d5",
   "metadata": {},
   "outputs": [],
   "source": [
    "with open('./hoo/test4.txt', 'w', encoding='utf-8') as f:\n",
    "    for i in range(10):\n",
    "        data = f'{i}번째 줄입니다.\\n'\n",
    "        f.write(data)"
   ]
  },
  {
   "cell_type": "code",
   "execution_count": 20,
   "id": "2980db6f",
   "metadata": {},
   "outputs": [],
   "source": [
    "path = 'hoo'\n",
    "# 있는지 확인하기\n",
    "if not os.path.isdir(path):\n",
    "    os.path.mkdir(path)\n",
    "\n",
    "# dir_name = './abc/test4.txt'\n",
    "dir_name = os.path.join(path, 'test4.txt')\n",
    "\n",
    "# 재확인\n",
    "if not os.path.exists(dir_name):\n",
    "    with open(dir_name, 'w') as f: # 덮어쓸 가능성 배제\n",
    "        pass"
   ]
  },
  {
   "cell_type": "code",
   "execution_count": 22,
   "id": "c7cf4f87",
   "metadata": {},
   "outputs": [],
   "source": [
    "os.remove('./hoo/test4.txt')\n",
    "os.rmdir('hoo') # 폴더 안에 파일 있으면 삭제 못함"
   ]
  },
  {
   "cell_type": "code",
   "execution_count": 27,
   "id": "1899df10",
   "metadata": {},
   "outputs": [],
   "source": [
    "# shutil 모듈로 강제로 삭제하기 \n",
    "import shutil\n",
    "shutil.rmtree('hoo')"
   ]
  },
  {
   "cell_type": "markdown",
   "id": "16e98c11",
   "metadata": {},
   "source": [
    "### 실습\n",
    "- folder 새로 만들어서\n",
    "- 파일에 내용 쓰기\n",
    "- 파일 열기"
   ]
  },
  {
   "cell_type": "code",
   "execution_count": 33,
   "id": "956886e3",
   "metadata": {},
   "outputs": [
    {
     "name": "stdout",
     "output_type": "stream",
     "text": [
      "안녕하시렵니까?\n",
      "    권영후\n",
      "    국제통상학과\n",
      "    \n"
     ]
    }
   ],
   "source": [
    "# 폴더 새로 만들기\n",
    "os.mkdir('Kwon')\n",
    "\n",
    "# 파일에 내용 쓰기\n",
    "with open('./Kwon/hoo.txt', 'w') as f:\n",
    "    f.write('''안녕하시렵니까?\n",
    "    권영후\n",
    "    국제통상학과\n",
    "    ''')\n",
    "# 파일 열기\n",
    "with open('./Kwon/hoo.txt', 'r') as f:\n",
    "    read = f.read()\n",
    "print(read)\n"
   ]
  },
  {
   "cell_type": "code",
   "execution_count": 42,
   "id": "01c2ff5d",
   "metadata": {},
   "outputs": [
    {
     "data": {
      "text/plain": [
       "'C:\\\\Users\\\\kupa1'"
      ]
     },
     "execution_count": 42,
     "metadata": {},
     "output_type": "execute_result"
    }
   ],
   "source": [
    "os.getcwd() # current working directory"
   ]
  },
  {
   "cell_type": "code",
   "execution_count": 43,
   "id": "8b68878b",
   "metadata": {},
   "outputs": [],
   "source": [
    "os.chdir('..')"
   ]
  },
  {
   "cell_type": "markdown",
   "id": "dc7f2a8b",
   "metadata": {},
   "source": [
    "#### pickle\n",
    "- 객체를 파일로 저장하는 기능 제공\n",
    "- 작업 중 중간에 사용했던 변수를 사용하고 싶을 때 활용\n",
    "- dump\n",
    "- load"
   ]
  },
  {
   "cell_type": "code",
   "execution_count": 34,
   "id": "f6a0465a",
   "metadata": {},
   "outputs": [],
   "source": [
    "import pickle"
   ]
  },
  {
   "cell_type": "code",
   "execution_count": 37,
   "id": "0b4c5f0d",
   "metadata": {},
   "outputs": [
    {
     "data": {
      "text/plain": [
       "[0, 1, 2, 3, 4, 5, 6, 7, 8, 9]"
      ]
     },
     "execution_count": 37,
     "metadata": {},
     "output_type": "execute_result"
    }
   ],
   "source": [
    "nums = list(range(10))\n",
    "nums"
   ]
  },
  {
   "cell_type": "code",
   "execution_count": 38,
   "id": "e13ec455",
   "metadata": {},
   "outputs": [],
   "source": [
    "with open('test.pickle', 'wb') as f:\n",
    "    pickle.dump(nums, f)"
   ]
  },
  {
   "cell_type": "code",
   "execution_count": 42,
   "id": "8b9611f5",
   "metadata": {},
   "outputs": [],
   "source": [
    "with open('test.pickle', 'rb') as f:\n",
    "    number = pickle.load(f)"
   ]
  },
  {
   "cell_type": "code",
   "execution_count": 43,
   "id": "210a368b",
   "metadata": {},
   "outputs": [
    {
     "data": {
      "text/plain": [
       "[0, 1, 2, 3, 4, 5, 6, 7, 8, 9]"
      ]
     },
     "execution_count": 43,
     "metadata": {},
     "output_type": "execute_result"
    }
   ],
   "source": [
    "number"
   ]
  }
 ],
 "metadata": {
  "kernelspec": {
   "display_name": "Python 3 (ipykernel)",
   "language": "python",
   "name": "python3"
  },
  "language_info": {
   "codemirror_mode": {
    "name": "ipython",
    "version": 3
   },
   "file_extension": ".py",
   "mimetype": "text/x-python",
   "name": "python",
   "nbconvert_exporter": "python",
   "pygments_lexer": "ipython3",
   "version": "3.9.7"
  }
 },
 "nbformat": 4,
 "nbformat_minor": 5
}
