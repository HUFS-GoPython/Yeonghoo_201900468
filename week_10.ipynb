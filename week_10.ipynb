{
 "cells": [
  {
   "cell_type": "markdown",
   "id": "88b6cb78",
   "metadata": {},
   "source": [
    "### 10. 객체와 클래스\n",
    "- object 객체\n",
    "    - 객체지향프로그래밍\n",
    "    - 속성과 행동을 가지는 개념, 실존하는 물체..? => 변수\n",
    "        - 예: 자동차, 강아지, 꽃, .. thing\n",
    "        - 자동차의 속성: 이름, 브랜드, 색, 속도, 모델, ..\n",
    "        - 강아지의 속성: 이름, 종, 색, 무게, ..\n",
    "    - 행동: 가다, 서다, 회전, 주차, 뛰다, 짖다, 자다, 핥다 ... => 메소드(함수)\n",
    "    - 편의점 => \"고객이 편의점에서 과자를 샀다.\"\n",
    "        => 고객 => 사람\n",
    "        - 이름, 돈\n",
    "            - 사다, 돈 내다\n",
    "        => 편의점\n",
    "        - 재고, 수익\n",
    "            - 팔다, 수익 남기다\n",
    "        => 과자 => 물건\n",
    "        - 이름, 브랜드, 가격\n",
    "            - 팔리다, ...\n",
    "        => 의 상호작용으로 코드를 구성하는 것"
   ]
  },
  {
   "cell_type": "markdown",
   "id": "9f22f17d",
   "metadata": {},
   "source": [
    "- 첫글자 대문자\n",
    "    - nice car -> Nice_car (X)\n",
    "    - NiceCar (O)\n",
    "- 정의부, 선언부\n",
    "    - 정의부 = 붕어빵 틀\n",
    "    - 선언부 = 붕어빵"
   ]
  },
  {
   "cell_type": "code",
   "execution_count": 3,
   "id": "fb58fcf9",
   "metadata": {},
   "outputs": [
    {
     "data": {
      "text/plain": [
       "<__main__.Car at 0x1f27dc072e0>"
      ]
     },
     "execution_count": 3,
     "metadata": {},
     "output_type": "execute_result"
    }
   ],
   "source": [
    "# 클래스 정의부\n",
    "class Car:   # 붕어빵 틀\n",
    "    pass\n",
    "\n",
    "# 선언부\n",
    "my_car = Car()\n",
    "my_car   # 인스턴스(instance)  == 붕어빵"
   ]
  },
  {
   "cell_type": "code",
   "execution_count": 4,
   "id": "608148db",
   "metadata": {},
   "outputs": [],
   "source": [
    "my_car.name = 'bmw'\n",
    "my_car.color = 'white'"
   ]
  },
  {
   "cell_type": "code",
   "execution_count": 5,
   "id": "b01e7b41",
   "metadata": {},
   "outputs": [
    {
     "data": {
      "text/plain": [
       "'bmw'"
      ]
     },
     "execution_count": 5,
     "metadata": {},
     "output_type": "execute_result"
    }
   ],
   "source": [
    "my_car.name"
   ]
  },
  {
   "cell_type": "code",
   "execution_count": 6,
   "id": "253d78a5",
   "metadata": {},
   "outputs": [],
   "source": [
    "class Car:\n",
    "    #1.\n",
    "    name = 'BMW'"
   ]
  },
  {
   "cell_type": "code",
   "execution_count": 7,
   "id": "4d9cd6ab",
   "metadata": {},
   "outputs": [],
   "source": [
    "your_car = Car()  # 인스턴스 생성"
   ]
  },
  {
   "cell_type": "code",
   "execution_count": 9,
   "id": "a5832aa3",
   "metadata": {},
   "outputs": [
    {
     "data": {
      "text/plain": [
       "'Kia'"
      ]
     },
     "execution_count": 9,
     "metadata": {},
     "output_type": "execute_result"
    }
   ],
   "source": [
    "your_car.name = 'Kia'  # 매번 새로운 붕어빵을 찍어야해서 번거로움\n",
    "your_car.name"
   ]
  },
  {
   "cell_type": "code",
   "execution_count": 10,
   "id": "19dd99c3",
   "metadata": {},
   "outputs": [],
   "source": [
    "#2.\n",
    "class Car:\n",
    "    def __init__(self, name): # 속성 초기화 함수\n",
    "        # 객체 만들 때 들어가는 값으로 이름을 설정하고 싶다.\n",
    "        self.name = name\n",
    "        # self == instance: 나 자신(인스턴스 자신)"
   ]
  },
  {
   "cell_type": "code",
   "execution_count": 13,
   "id": "b3092cda",
   "metadata": {},
   "outputs": [
    {
     "data": {
      "text/plain": [
       "'BMW'"
      ]
     },
     "execution_count": 13,
     "metadata": {},
     "output_type": "execute_result"
    }
   ],
   "source": [
    "her_car = Car(name = 'BMW')\n",
    "her_car.name"
   ]
  },
  {
   "cell_type": "code",
   "execution_count": 14,
   "id": "9d17c499",
   "metadata": {},
   "outputs": [
    {
     "data": {
      "text/plain": [
       "'Toyota'"
      ]
     },
     "execution_count": 14,
     "metadata": {},
     "output_type": "execute_result"
    }
   ],
   "source": [
    "his_car = Car(name = 'Toyota')\n",
    "his_car.name"
   ]
  },
  {
   "cell_type": "code",
   "execution_count": 23,
   "id": "1200ca39",
   "metadata": {},
   "outputs": [
    {
     "data": {
      "text/plain": [
       "('Lexus', 'ES 350', 'Gray')"
      ]
     },
     "execution_count": 23,
     "metadata": {},
     "output_type": "execute_result"
    }
   ],
   "source": [
    "# 모델, 색 속성 추가\n",
    "class Car:\n",
    "    def __init__(self, name, model, color):\n",
    "        self.name = name\n",
    "        self.model = model\n",
    "        self.color = color\n",
    "\n",
    "mom_car = Car('Lexus', 'ES 350', 'Gray')\n",
    "(mom_car.name, mom_car.model, mom_car.color)"
   ]
  },
  {
   "cell_type": "code",
   "execution_count": 1,
   "id": "27a64cc5",
   "metadata": {},
   "outputs": [],
   "source": [
    "class Car:\n",
    "    def __init__(self, name, model, color):  # 속성 초기화 함수\n",
    "        # 객체 만들 때 들이는 값으로  이름을 설정하고 싶다.\n",
    "        self.name = name\n",
    "        # self == instance: 나 자신(인스턴스 자신)\n",
    "        self.model = model\n",
    "        self.color = color\n",
    "        \n",
    "    def drive(self):\n",
    "        #1 {차 이름}가 출발합니다.\n",
    "        print(f'{self.name}가 출발합니다.')\n",
    "    \n",
    "    def stop(self):\n",
    "        print('차가 섭니다.')\n",
    "    \n",
    "    def change_color(self):\n",
    "        #2 gray로 바꾼다.\n",
    "        self.color = 'gray'\n",
    "        "
   ]
  },
  {
   "cell_type": "code",
   "execution_count": 2,
   "id": "1e3d3d70",
   "metadata": {},
   "outputs": [
    {
     "data": {
      "text/plain": [
       "('Lexus', 'ES 350', 'Gray')"
      ]
     },
     "execution_count": 2,
     "metadata": {},
     "output_type": "execute_result"
    }
   ],
   "source": [
    "mom_car = Car('Lexus', 'ES 350', 'Gray')\n",
    "(mom_car.name, mom_car.model, mom_car.color)"
   ]
  },
  {
   "cell_type": "code",
   "execution_count": 3,
   "id": "43dd53ff",
   "metadata": {},
   "outputs": [
    {
     "name": "stdout",
     "output_type": "stream",
     "text": [
      "Lexus가 출발합니다.\n"
     ]
    },
    {
     "data": {
      "text/plain": [
       "'gray'"
      ]
     },
     "execution_count": 3,
     "metadata": {},
     "output_type": "execute_result"
    }
   ],
   "source": [
    "mom_car.drive()\n",
    "mom_car.change_color()\n",
    "mom_car.color"
   ]
  },
  {
   "cell_type": "code",
   "execution_count": 4,
   "id": "0ffbe2ee",
   "metadata": {},
   "outputs": [],
   "source": [
    "# 4,5\n",
    "class Car:\n",
    "    def __init__(self, name, model=None, color='black'):\n",
    "        # None == 없음\n",
    "        self.name = name\n",
    "        self.model = model\n",
    "        self.color = color\n",
    "        \n",
    "    def drive(self):\n",
    "        print(f'{self.name}가 출발합니다.')\n",
    "    \n",
    "    def stop(self):\n",
    "        print('차가 섭니다.')\n",
    "    \n",
    "    def change_color(self,color):\n",
    "        self.color = color\n",
    "        #3 color를 받아서 그걸로 지정\n",
    "        \n",
    "    #4 color가 들어오면 그 값으로 설정, 아니면 'black'으로\n",
    "    #5 model을 생성할 때 안 넣어도 되게 설정하기\n",
    "\n",
    "    "
   ]
  },
  {
   "cell_type": "code",
   "execution_count": 13,
   "id": "0ed85ba3",
   "metadata": {},
   "outputs": [
    {
     "data": {
      "text/plain": [
       "('kia', 'k7', 'black')"
      ]
     },
     "execution_count": 13,
     "metadata": {},
     "output_type": "execute_result"
    }
   ],
   "source": [
    "bro_car = Car('kia', 'k7')\n",
    "(bro_car.name, bro_car.model, bro_car.color)"
   ]
  },
  {
   "cell_type": "code",
   "execution_count": 14,
   "id": "19bca1ac",
   "metadata": {},
   "outputs": [
    {
     "data": {
      "text/plain": [
       "('kia', None, 'black')"
      ]
     },
     "execution_count": 14,
     "metadata": {},
     "output_type": "execute_result"
    }
   ],
   "source": [
    "bro_car = Car('kia')  # model을 None으로 지정해줬기 때문에 model 입력값 없으면 None 반환\n",
    "(bro_car.name, bro_car.model, bro_car.color)"
   ]
  },
  {
   "cell_type": "markdown",
   "id": "b2c9c834",
   "metadata": {},
   "source": [
    "### 캡슐화, 정보 은닉\n",
    "- public -> private\n",
    "- getter, setter"
   ]
  },
  {
   "cell_type": "code",
   "execution_count": 8,
   "id": "73d0141b",
   "metadata": {},
   "outputs": [
    {
     "data": {
      "text/plain": [
       "'red'"
      ]
     },
     "execution_count": 8,
     "metadata": {},
     "output_type": "execute_result"
    }
   ],
   "source": [
    "class Fruit:\n",
    "    color = 'red'\n",
    "\n",
    "kiwi = Fruit()\n",
    "kiwi.color"
   ]
  },
  {
   "cell_type": "code",
   "execution_count": 11,
   "id": "bb01893b",
   "metadata": {},
   "outputs": [],
   "source": [
    "Fruit.color = 'black'"
   ]
  },
  {
   "cell_type": "code",
   "execution_count": 12,
   "id": "8d3add51",
   "metadata": {},
   "outputs": [
    {
     "data": {
      "text/plain": [
       "'black'"
      ]
     },
     "execution_count": 12,
     "metadata": {},
     "output_type": "execute_result"
    }
   ],
   "source": [
    "apple = Fruit()\n",
    "apple.color"
   ]
  },
  {
   "cell_type": "markdown",
   "id": "4234b9c9",
   "metadata": {},
   "source": [
    "#### getter, setter\n",
    "- getter: 클래스 내 객체 변수 반환\n",
    "- setter: == 변수 설정"
   ]
  },
  {
   "cell_type": "markdown",
   "id": "2b35579c",
   "metadata": {},
   "source": [
    "#### 1."
   ]
  },
  {
   "cell_type": "code",
   "execution_count": 71,
   "id": "9e256014",
   "metadata": {},
   "outputs": [],
   "source": [
    "class Car:\n",
    "    def __init__(self, input_name):\n",
    "        self.name = input_name\n",
    "    \n",
    "    def get_name(self):  # getter\n",
    "        # 변수 반환\n",
    "        return self.name\n",
    "    \n",
    "    def set_name(self, input_name):  # setter\n",
    "        self.name = input_name\n",
    "\n",
    "dad_car = Car('name1')"
   ]
  },
  {
   "cell_type": "code",
   "execution_count": 72,
   "id": "637cd1dd",
   "metadata": {},
   "outputs": [
    {
     "data": {
      "text/plain": [
       "'name1'"
      ]
     },
     "execution_count": 72,
     "metadata": {},
     "output_type": "execute_result"
    }
   ],
   "source": [
    "dad_car.get_name()"
   ]
  },
  {
   "cell_type": "code",
   "execution_count": 73,
   "id": "8236ed47",
   "metadata": {},
   "outputs": [
    {
     "data": {
      "text/plain": [
       "'name2'"
      ]
     },
     "execution_count": 73,
     "metadata": {},
     "output_type": "execute_result"
    }
   ],
   "source": [
    "dad_car.set_name('name2')\n",
    "dad_car.name"
   ]
  },
  {
   "cell_type": "code",
   "execution_count": 74,
   "id": "3028690a",
   "metadata": {},
   "outputs": [],
   "source": [
    "dad_car.name = 'name3'  # 이렇게 해도 이름은 바뀌지만, getter와 setter를 통해 name을 바꿔야함..?"
   ]
  },
  {
   "cell_type": "markdown",
   "id": "cab6ae1f",
   "metadata": {},
   "source": [
    "#### 2."
   ]
  },
  {
   "cell_type": "code",
   "execution_count": null,
   "id": "6d664818",
   "metadata": {},
   "outputs": [],
   "source": [
    "class Car:\n",
    "    def __init__(self, input_name):\n",
    "        self.hidden_name = input_name\n",
    "    \n",
    "    def get_name(self):  # getter\n",
    "        # 변수 반환\n",
    "        return self.name\n",
    "    \n",
    "    def set_name(self, input_name):  # setter\n",
    "        self.name = input_name\n",
    "    \n",
    "    name = property(get_name, set_name)\n",
    "\n",
    "d = Car('name_1')\n",
    "d.name   # hidden"
   ]
  },
  {
   "cell_type": "markdown",
   "id": "c4f91a57",
   "metadata": {},
   "source": [
    "#### 3."
   ]
  },
  {
   "cell_type": "code",
   "execution_count": 1,
   "id": "ac022f79",
   "metadata": {},
   "outputs": [],
   "source": [
    "class Car:\n",
    "    def __init__(self, input_name):\n",
    "        self.hidden_name = input_name\n",
    "    \n",
    "    @property # decorator\n",
    "    def name(self):  # getter\n",
    "        # 변수 반환\n",
    "        return self.hidden_name\n",
    "    @name.setter\n",
    "    def set_name(self, input_name):  # setter\n",
    "        self.hidden_name = input_name"
   ]
  },
  {
   "cell_type": "code",
   "execution_count": 2,
   "id": "9380a5e2",
   "metadata": {},
   "outputs": [
    {
     "data": {
      "text/plain": [
       "'name a'"
      ]
     },
     "execution_count": 2,
     "metadata": {},
     "output_type": "execute_result"
    }
   ],
   "source": [
    "e = Car('name a')\n",
    "e.name"
   ]
  },
  {
   "cell_type": "code",
   "execution_count": 3,
   "id": "5d4260aa",
   "metadata": {},
   "outputs": [
    {
     "data": {
      "text/plain": [
       "'name a'"
      ]
     },
     "execution_count": 3,
     "metadata": {},
     "output_type": "execute_result"
    }
   ],
   "source": [
    "e.hidden_name"
   ]
  },
  {
   "cell_type": "markdown",
   "id": "34552960",
   "metadata": {},
   "source": [
    "#### 4."
   ]
  },
  {
   "cell_type": "code",
   "execution_count": 4,
   "id": "6a11f3db",
   "metadata": {},
   "outputs": [],
   "source": [
    "class Car:\n",
    "    def __init__(self, input_name):\n",
    "        self.__name = input_name\n",
    "    \n",
    "    @property # decorator\n",
    "    def name(self):  # getter\n",
    "        # 변수 반환\n",
    "        return self.__name\n",
    "    @name.setter\n",
    "    def set_name(self, input_name):  # setter\n",
    "        self.__name = input_name"
   ]
  },
  {
   "cell_type": "code",
   "execution_count": 6,
   "id": "cca4b49b",
   "metadata": {},
   "outputs": [
    {
     "ename": "AttributeError",
     "evalue": "'Car' object has no attribute '__name'",
     "output_type": "error",
     "traceback": [
      "\u001b[1;31m---------------------------------------------------------------------------\u001b[0m",
      "\u001b[1;31mAttributeError\u001b[0m                            Traceback (most recent call last)",
      "\u001b[1;32m~\\AppData\\Local\\Temp/ipykernel_14456/229484777.py\u001b[0m in \u001b[0;36m<module>\u001b[1;34m\u001b[0m\n\u001b[0;32m      1\u001b[0m \u001b[0mf\u001b[0m \u001b[1;33m=\u001b[0m \u001b[0mCar\u001b[0m\u001b[1;33m(\u001b[0m\u001b[1;34m'name b'\u001b[0m\u001b[1;33m)\u001b[0m\u001b[1;33m\u001b[0m\u001b[1;33m\u001b[0m\u001b[0m\n\u001b[1;32m----> 2\u001b[1;33m \u001b[0mf\u001b[0m\u001b[1;33m.\u001b[0m\u001b[0m__name\u001b[0m\u001b[1;33m\u001b[0m\u001b[1;33m\u001b[0m\u001b[0m\n\u001b[0m",
      "\u001b[1;31mAttributeError\u001b[0m: 'Car' object has no attribute '__name'"
     ]
    }
   ],
   "source": [
    "f = Car('name b')\n",
    "f.__name"
   ]
  },
  {
   "cell_type": "code",
   "execution_count": 7,
   "id": "bbc9e3f9",
   "metadata": {},
   "outputs": [
    {
     "data": {
      "text/plain": [
       "10"
      ]
     },
     "execution_count": 7,
     "metadata": {},
     "output_type": "execute_result"
    }
   ],
   "source": [
    "class Circle:\n",
    "    def __init__(self, radius):\n",
    "        self.radius = radius\n",
    "    \n",
    "    @property\n",
    "    def parameter(self):\n",
    "        return self.radius * 2\n",
    "    \n",
    "ex = Circle(5)\n",
    "ex.parameter"
   ]
  },
  {
   "cell_type": "code",
   "execution_count": 8,
   "id": "e83542c8",
   "metadata": {},
   "outputs": [
    {
     "data": {
      "text/plain": [
       "38"
      ]
     },
     "execution_count": 8,
     "metadata": {},
     "output_type": "execute_result"
    }
   ],
   "source": [
    "ex.radius = 19\n",
    "ex.parameter"
   ]
  },
  {
   "cell_type": "markdown",
   "id": "ef97811a",
   "metadata": {},
   "source": [
    "### 실습 (더 연구해보겠습니다.)\n",
    "- 메모장, 메모 구현하기\n",
    "- 메모장\n",
    "    - 속성: 제목, 페이지번호, 메모\n",
    "    - 행동: 메모 추가하다, 메모 삭제하다, 페이지번호 확인하다\n",
    "- 메모\n",
    "    - 속성: 글귀\n",
    "    - 행동: 쓰다, 지우다\n",
    "        \n",
    "- 사용\n",
    "    - 메모 쓴다.\n",
    "    - 메모장에 추가\n",
    "    - 페이지 번호가 늘어난다.\n",
    "    - 메모 삭제\n",
    "    - 페이지 번호 줄어든다.\n",
    "    - 메모장 > 제목만 은닉시킨다"
   ]
  },
  {
   "cell_type": "code",
   "execution_count": 28,
   "id": "a2aee05e",
   "metadata": {},
   "outputs": [
    {
     "ename": "NameError",
     "evalue": "name 'add_note' is not defined",
     "output_type": "error",
     "traceback": [
      "\u001b[1;31m---------------------------------------------------------------------------\u001b[0m",
      "\u001b[1;31mNameError\u001b[0m                                 Traceback (most recent call last)",
      "\u001b[1;32m~\\AppData\\Local\\Temp/ipykernel_13428/3374366937.py\u001b[0m in \u001b[0;36m<module>\u001b[1;34m\u001b[0m\n\u001b[0;32m     16\u001b[0m         \u001b[0mprint\u001b[0m\u001b[1;33m(\u001b[0m\u001b[0mmy_note\u001b[0m\u001b[1;33m)\u001b[0m\u001b[1;33m\u001b[0m\u001b[1;33m\u001b[0m\u001b[0m\n\u001b[0;32m     17\u001b[0m \u001b[1;33m\u001b[0m\u001b[0m\n\u001b[1;32m---> 18\u001b[1;33m \u001b[1;32mclass\u001b[0m \u001b[0mNote\u001b[0m\u001b[1;33m:\u001b[0m\u001b[1;33m\u001b[0m\u001b[1;33m\u001b[0m\u001b[0m\n\u001b[0m\u001b[0;32m     19\u001b[0m     \u001b[1;33m@\u001b[0m\u001b[0madd_note\u001b[0m\u001b[1;33m\u001b[0m\u001b[1;33m\u001b[0m\u001b[0m\n\u001b[0;32m     20\u001b[0m     \u001b[1;32mdef\u001b[0m \u001b[0mwrite\u001b[0m\u001b[1;33m(\u001b[0m\u001b[0mself\u001b[0m\u001b[1;33m,\u001b[0m \u001b[0mline\u001b[0m\u001b[1;33m)\u001b[0m\u001b[1;33m:\u001b[0m\u001b[1;33m\u001b[0m\u001b[1;33m\u001b[0m\u001b[0m\n",
      "\u001b[1;32m~\\AppData\\Local\\Temp/ipykernel_13428/3374366937.py\u001b[0m in \u001b[0;36mNote\u001b[1;34m()\u001b[0m\n\u001b[0;32m     17\u001b[0m \u001b[1;33m\u001b[0m\u001b[0m\n\u001b[0;32m     18\u001b[0m \u001b[1;32mclass\u001b[0m \u001b[0mNote\u001b[0m\u001b[1;33m:\u001b[0m\u001b[1;33m\u001b[0m\u001b[1;33m\u001b[0m\u001b[0m\n\u001b[1;32m---> 19\u001b[1;33m     \u001b[1;33m@\u001b[0m\u001b[0madd_note\u001b[0m\u001b[1;33m\u001b[0m\u001b[1;33m\u001b[0m\u001b[0m\n\u001b[0m\u001b[0;32m     20\u001b[0m     \u001b[1;32mdef\u001b[0m \u001b[0mwrite\u001b[0m\u001b[1;33m(\u001b[0m\u001b[0mself\u001b[0m\u001b[1;33m,\u001b[0m \u001b[0mline\u001b[0m\u001b[1;33m)\u001b[0m\u001b[1;33m:\u001b[0m\u001b[1;33m\u001b[0m\u001b[1;33m\u001b[0m\u001b[0m\n\u001b[0;32m     21\u001b[0m         \u001b[0mself\u001b[0m\u001b[1;33m.\u001b[0m\u001b[0mline\u001b[0m \u001b[1;33m=\u001b[0m \u001b[0mline\u001b[0m\u001b[1;33m\u001b[0m\u001b[1;33m\u001b[0m\u001b[0m\n",
      "\u001b[1;31mNameError\u001b[0m: name 'add_note' is not defined"
     ]
    }
   ],
   "source": [
    "class Notebook:\n",
    "    def __init__(self, title, page = 0, memo = None):\n",
    "        self.title = title\n",
    "        self.page = page\n",
    "        self.memo = memo\n",
    "    \n",
    "    def add_note(self, func1):\n",
    "        Note().write(self, line)\n",
    "        self.page += 1\n",
    "    def delete_note(self, func2):\n",
    "        Note().write(self, line)\n",
    "        self.page -= 1\n",
    "    def get_page_num(self):\n",
    "        print(self.page)\n",
    "    def show_content(self):\n",
    "        print(my_note)\n",
    "\n",
    "class Note:\n",
    "    @add_note\n",
    "    def write(self, line):\n",
    "        self.line = line\n",
    "    @delete_note\n",
    "    def erase(self, line):\n",
    "        self.line = line"
   ]
  },
  {
   "cell_type": "code",
   "execution_count": 26,
   "id": "0d2d04aa",
   "metadata": {},
   "outputs": [],
   "source": [
    "# 사용\n",
    "line1 = '우리 모두 스스로가 원하는 리더가 됩시다'\n",
    "line2 = '모두가 함께 앞으로 나아가면 성공은 저절로 따라옵니다'\n",
    "line3 = '혼자서는 작은 한 방울이지만 함께 모이면 바다를 이룹니다'"
   ]
  },
  {
   "cell_type": "code",
   "execution_count": 27,
   "id": "e5bd890f",
   "metadata": {},
   "outputs": [
    {
     "ename": "NameError",
     "evalue": "name 'line' is not defined",
     "output_type": "error",
     "traceback": [
      "\u001b[1;31m---------------------------------------------------------------------------\u001b[0m",
      "\u001b[1;31mNameError\u001b[0m                                 Traceback (most recent call last)",
      "\u001b[1;32m~\\AppData\\Local\\Temp/ipykernel_13428/3667947521.py\u001b[0m in \u001b[0;36m<module>\u001b[1;34m\u001b[0m\n\u001b[0;32m      5\u001b[0m \u001b[0mmy_note\u001b[0m\u001b[1;33m.\u001b[0m\u001b[0mwrite\u001b[0m\u001b[1;33m(\u001b[0m\u001b[0mline2\u001b[0m\u001b[1;33m)\u001b[0m\u001b[1;33m\u001b[0m\u001b[1;33m\u001b[0m\u001b[0m\n\u001b[0;32m      6\u001b[0m \u001b[0mmy_note\u001b[0m\u001b[1;33m.\u001b[0m\u001b[0mwrite\u001b[0m\u001b[1;33m(\u001b[0m\u001b[0mline3\u001b[0m\u001b[1;33m)\u001b[0m\u001b[1;33m\u001b[0m\u001b[1;33m\u001b[0m\u001b[0m\n\u001b[1;32m----> 7\u001b[1;33m \u001b[0mmy_book\u001b[0m\u001b[1;33m.\u001b[0m\u001b[0madd_note\u001b[0m\u001b[1;33m(\u001b[0m\u001b[0mmy_note\u001b[0m\u001b[1;33m)\u001b[0m\u001b[1;33m\u001b[0m\u001b[1;33m\u001b[0m\u001b[0m\n\u001b[0m\u001b[0;32m      8\u001b[0m \u001b[0mmy_book\u001b[0m\u001b[1;33m.\u001b[0m\u001b[0mshow_content\u001b[0m\u001b[1;33m(\u001b[0m\u001b[1;33m)\u001b[0m\u001b[1;33m\u001b[0m\u001b[1;33m\u001b[0m\u001b[0m\n",
      "\u001b[1;32m~\\AppData\\Local\\Temp/ipykernel_13428/2198460050.py\u001b[0m in \u001b[0;36madd_note\u001b[1;34m(self, func1)\u001b[0m\n\u001b[0;32m      6\u001b[0m \u001b[1;33m\u001b[0m\u001b[0m\n\u001b[0;32m      7\u001b[0m     \u001b[1;32mdef\u001b[0m \u001b[0madd_note\u001b[0m\u001b[1;33m(\u001b[0m\u001b[0mself\u001b[0m\u001b[1;33m,\u001b[0m \u001b[0mfunc1\u001b[0m\u001b[1;33m)\u001b[0m\u001b[1;33m:\u001b[0m\u001b[1;33m\u001b[0m\u001b[1;33m\u001b[0m\u001b[0m\n\u001b[1;32m----> 8\u001b[1;33m         \u001b[0mNote\u001b[0m\u001b[1;33m(\u001b[0m\u001b[1;33m)\u001b[0m\u001b[1;33m.\u001b[0m\u001b[0mwrite\u001b[0m\u001b[1;33m(\u001b[0m\u001b[0mself\u001b[0m\u001b[1;33m,\u001b[0m \u001b[0mline\u001b[0m\u001b[1;33m)\u001b[0m\u001b[1;33m\u001b[0m\u001b[1;33m\u001b[0m\u001b[0m\n\u001b[0m\u001b[0;32m      9\u001b[0m         \u001b[0mself\u001b[0m\u001b[1;33m.\u001b[0m\u001b[0mpage\u001b[0m \u001b[1;33m+=\u001b[0m \u001b[1;36m1\u001b[0m\u001b[1;33m\u001b[0m\u001b[1;33m\u001b[0m\u001b[0m\n\u001b[0;32m     10\u001b[0m     \u001b[1;32mdef\u001b[0m \u001b[0mdelete_note\u001b[0m\u001b[1;33m(\u001b[0m\u001b[0mself\u001b[0m\u001b[1;33m,\u001b[0m \u001b[0mfunc2\u001b[0m\u001b[1;33m)\u001b[0m\u001b[1;33m:\u001b[0m\u001b[1;33m\u001b[0m\u001b[1;33m\u001b[0m\u001b[0m\n",
      "\u001b[1;31mNameError\u001b[0m: name 'line' is not defined"
     ]
    }
   ],
   "source": [
    "my_book = Notebook(title = '메모장')\n",
    "my_note = Note()\n",
    "\n",
    "my_note.write(line1)\n",
    "my_note.write(line2)\n",
    "my_note.write(line3)\n",
    "my_book.add_note(my_note)\n",
    "my_book.show_content()"
   ]
  },
  {
   "cell_type": "code",
   "execution_count": null,
   "id": "13dacddd",
   "metadata": {},
   "outputs": [],
   "source": []
  },
  {
   "cell_type": "code",
   "execution_count": null,
   "id": "3a5b1aa7",
   "metadata": {},
   "outputs": [],
   "source": []
  }
 ],
 "metadata": {
  "kernelspec": {
   "display_name": "Python 3 (ipykernel)",
   "language": "python",
   "name": "python3"
  },
  "language_info": {
   "codemirror_mode": {
    "name": "ipython",
    "version": 3
   },
   "file_extension": ".py",
   "mimetype": "text/x-python",
   "name": "python",
   "nbconvert_exporter": "python",
   "pygments_lexer": "ipython3",
   "version": "3.9.7"
  }
 },
 "nbformat": 4,
 "nbformat_minor": 5
}
