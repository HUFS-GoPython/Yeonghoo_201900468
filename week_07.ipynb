{
 "cells": [
  {
   "cell_type": "markdown",
   "id": "12feb064",
   "metadata": {},
   "source": [
    "## 함수 definition\n",
    "1. 정의\n",
    "2. 인수\n",
    "3. 호출 방식"
   ]
  },
  {
   "cell_type": "markdown",
   "id": "3b5813a5",
   "metadata": {},
   "source": [
    "### 1. 정의\n",
    "- 코드의 덩어리, 코드의 묶음\n",
    "    - ex) 구구단 프로그램\n",
    "- 간편한 재사용을 위해.\n",
    "    - 한 줄로 재사용 가능하다.\n",
    "- 정의 부분(define) + 호출 부분(call)\n",
    "    - 정의하기\n",
    "        \n",
    "        def 함수이름(매개변수1, 2, 3, ...):\n",
    "            수행문1 (매개변수를 이용)\n",
    "            수행문2\n",
    "            ....\n",
    "            return 반환값\n",
    "    - 호출하기\n",
    "        함수이름(인수1, 2, 3, ...)\n",
    "- 매개변수와 반환값이 있어도 되고, 없어도 된다. (2 * 2 = 4)\n",
    "    1. 둘 다 없는\n",
    "    2. 둘 다 있는\n",
    "    3. 매개변수만 있는\n",
    "    4. 반환값만 있는"
   ]
  },
  {
   "cell_type": "markdown",
   "id": "7ff560d5",
   "metadata": {},
   "source": []
  },
  {
   "cell_type": "code",
   "execution_count": 2,
   "id": "7bc427aa",
   "metadata": {},
   "outputs": [
    {
     "data": {
      "text/plain": [
       "2"
      ]
     },
     "execution_count": 2,
     "metadata": {},
     "output_type": "execute_result"
    }
   ],
   "source": [
    "def ex(x):   # x: 매개변수\n",
    "    y = x + 1   # x+1: 수행문\n",
    "    return y   # y: 반환값\n",
    "\n",
    "ex(1)  # 함수 호출, 매개변수 = 1"
   ]
  },
  {
   "cell_type": "code",
   "execution_count": 4,
   "id": "0cfdde31",
   "metadata": {},
   "outputs": [
    {
     "name": "stdout",
     "output_type": "stream",
     "text": [
      "quack\n"
     ]
    }
   ],
   "source": [
    "#1.  매개변수와 반환값 둘 다 없는 경우\n",
    "def make_a_sound():\n",
    "    print('quack')\n",
    "\n",
    "make_a_sound()"
   ]
  },
  {
   "cell_type": "code",
   "execution_count": 3,
   "id": "e9e6e4fc",
   "metadata": {},
   "outputs": [
    {
     "data": {
      "text/plain": [
       "2"
      ]
     },
     "execution_count": 3,
     "metadata": {},
     "output_type": "execute_result"
    }
   ],
   "source": [
    "#2. 매개변수와 반환값 모두 있는 경우\n",
    "def ex(x):\n",
    "    return x + 1\n",
    "\n",
    "ex(1)"
   ]
  },
  {
   "cell_type": "code",
   "execution_count": 5,
   "id": "98d0de8c",
   "metadata": {},
   "outputs": [
    {
     "name": "stdout",
     "output_type": "stream",
     "text": [
      "yay\n"
     ]
    }
   ],
   "source": [
    "#3.  매개변수만 있고 반환값은 없는 경우\n",
    "def make_a_sound(sound):\n",
    "    print(sound)\n",
    "\n",
    "make_a_sound('yay')"
   ]
  },
  {
   "cell_type": "code",
   "execution_count": 7,
   "id": "cc08bbd0",
   "metadata": {},
   "outputs": [
    {
     "name": "stdout",
     "output_type": "stream",
     "text": [
      "Splendid\n"
     ]
    }
   ],
   "source": [
    "#4.  매개변수는 없고 반환값만 있는 경우\n",
    "def agree():\n",
    "    return True\n",
    "\n",
    "if agree():  # 조건문으로 활용, if True 라는 뜻\n",
    "    print('Splendid')\n",
    "else:\n",
    "    print('Unexpected!')"
   ]
  },
  {
   "cell_type": "markdown",
   "id": "86374a57",
   "metadata": {},
   "source": [
    "### 함수 이름 짓기\n",
    "- 소문자만 사용한다\n",
    "    - splitWord보단 split_word 선호\n",
    "- 동작과 관련되어 있기 때문에 \"동사 + 명사\"의 형태 주로 씀\n",
    "    - def split_word(): (O)\n",
    "    - def.word(): (X)\n",
    "- i.e., 클래스는 주로 명사\n",
    "\n",
    "- 줄임말 쓰지 말 것\n",
    "    - calculate -> calc처럼 자주 쓰이는 줄임말은 예외\n",
    "    - splt_word (X)"
   ]
  },
  {
   "cell_type": "markdown",
   "id": "a7df9a47",
   "metadata": {},
   "source": [
    "### 2. 인수\n",
    "- 매개변수 vs. 인수\n",
    "    - 매개변수: 함수 내(interface)에서 유효한 변수 / 함수를 빠져나오면 유효하지 않다\n",
    "    - 인수: 실제 매개변수에 대입되는 변수 / 함수 외부에서 입력 받음\n",
    "    - \"호출 시에 인수가 매개변수에 복제된다\" \n",
    "        - 위의 make_a_sound 예시의 경우 yay가 sound에 대입된다.\n",
    "- 위치 인수\n",
    "    - positional argument\n",
    "    - 매개변수를 값에 순서에 상응하게 복제한다\n",
    "- 키워드 인수\n",
    "    - keyword argument\n",
    "    - 매개변수를 키워드에 맞는 인수로 지정 => 위치 달라도 됨\n",
    "- 디폴트 인수 ***중요\n",
    "    - default argument\n",
    "    - 매개변수를 정의할 때 미리 지정해 놓는 것\n",
    "    - 호출 시에 값이 입력되지 않으면 디폴트를 사용한다.\n",
    "    - 디폴트 값이 언디폴트값 앞에 위치할 수는 없음"
   ]
  },
  {
   "cell_type": "code",
   "execution_count": 117,
   "id": "2f7278ea",
   "metadata": {},
   "outputs": [
    {
     "name": "stdout",
     "output_type": "stream",
     "text": [
      "yay\n"
     ]
    }
   ],
   "source": [
    "# 매개변수 vs 인수\n",
    "\n",
    "def make_a_sound(sound):  # sound = 매개변수\n",
    "    print(sound)\n",
    "\n",
    "yay = 'yay'   # yay = 인수, 함수 외부에서 입력받음\n",
    "make_a_sound(yay)"
   ]
  },
  {
   "cell_type": "code",
   "execution_count": 119,
   "id": "60fc6091",
   "metadata": {},
   "outputs": [
    {
     "data": {
      "text/plain": [
       "'white'"
      ]
     },
     "execution_count": 119,
     "metadata": {},
     "output_type": "execute_result"
    }
   ],
   "source": [
    "def commentary(color):\n",
    "    if color == 'r':\n",
    "        return 'red'\n",
    "    else:\n",
    "        return 'white'\n",
    "\n",
    "color = 'blue'   # 매개변수와 인수 변수명은 같아도 상관 없음\n",
    "commentary(color)"
   ]
  },
  {
   "cell_type": "code",
   "execution_count": 120,
   "id": "209562e9",
   "metadata": {},
   "outputs": [
    {
     "name": "stdout",
     "output_type": "stream",
     "text": [
      "red\n",
      "white\n",
      "white\n"
     ]
    }
   ],
   "source": [
    "colors = ['r', 'g', 'b']\n",
    "\n",
    "for color in colors:\n",
    "    print(commentary(color))"
   ]
  },
  {
   "cell_type": "code",
   "execution_count": 121,
   "id": "138f906e",
   "metadata": {},
   "outputs": [
    {
     "data": {
      "text/plain": [
       "{'cafe': 'a', 'coffee': 'b', 'dessert': 'c'}"
      ]
     },
     "execution_count": 121,
     "metadata": {},
     "output_type": "execute_result"
    }
   ],
   "source": [
    "# 위치 인수 (positional argument)\n",
    "\n",
    "def menu(cafe, coffee, dessert):\n",
    "    return {'cafe':cafe, 'coffee':coffee, 'dessert':dessert}  # 딕셔너리\n",
    "\n",
    "menu('a', 'b', 'c')  # a,b,c의 위치를 미리 지정"
   ]
  },
  {
   "cell_type": "code",
   "execution_count": 123,
   "id": "761862c8",
   "metadata": {},
   "outputs": [
    {
     "data": {
      "text/plain": [
       "{'cafe': 'c', 'coffee': 'a', 'dessert': 'b'}"
      ]
     },
     "execution_count": 123,
     "metadata": {},
     "output_type": "execute_result"
    }
   ],
   "source": [
    "# 키워드 인수 (keyword argument)\n",
    "\n",
    "def menu(cafe, coffee, dessert):\n",
    "    return {'cafe':cafe, 'coffee':coffee, 'dessert':dessert}\n",
    "\n",
    "menu(coffee = 'a', dessert = 'b', cafe = 'c')  # 인수에 키워드를 지정"
   ]
  },
  {
   "cell_type": "code",
   "execution_count": 124,
   "id": "318da412",
   "metadata": {},
   "outputs": [
    {
     "data": {
      "text/plain": [
       "{'cafe': 'starbucks', 'coffee': 'espresso', 'dessert': 'cookie'}"
      ]
     },
     "execution_count": 124,
     "metadata": {},
     "output_type": "execute_result"
    }
   ],
   "source": [
    "# 디폴트 인수 (default argument)\n",
    "\n",
    "def menu2(cafe, coffee, dessert = 'cookie'):  # menu2(cafe = 'starbucks', coffee, dessert)  이렇게는 안됨\n",
    "    return {'cafe':cafe, 'coffee':coffee, 'dessert':dessert}\n",
    "\n",
    "menu2('starbucks', 'espresso')  # dessert의 값이 없을 경우, 디폴트인 cookie 사용"
   ]
  },
  {
   "cell_type": "code",
   "execution_count": 125,
   "id": "0e559baf",
   "metadata": {},
   "outputs": [
    {
     "data": {
      "text/plain": [
       "{'cafe': 'starbucks', 'coffee': 'espresso', 'dessert': 'croissant'}"
      ]
     },
     "execution_count": 125,
     "metadata": {},
     "output_type": "execute_result"
    }
   ],
   "source": [
    "menu2('starbucks', 'espresso', 'croissant')  # dessert의 값이 있으므로 croissant 반환"
   ]
  },
  {
   "cell_type": "markdown",
   "id": "8510e7a2",
   "metadata": {},
   "source": [
    "### 3. 호출 방식\n",
    "- 정의 부분은 호출 시 실행된다.\n",
    "- 메모리에 저장되어 있다가 호출 시에 실행\n",
    "- 매개변수 vs. 인수\n",
    "    - 참조에 의한 호출(call by reference)\n",
    "    - shallow copy\n",
    "        - \"매개변수 = 인수\" shallow copy되기 때문에 나타나는 문제점:\n",
    "            - 리스트처럼 가변 객체일 때 주소값을 공유하므로 값이 변함"
   ]
  },
  {
   "cell_type": "code",
   "execution_count": 17,
   "id": "a6082286",
   "metadata": {},
   "outputs": [
    {
     "name": "stdout",
     "output_type": "stream",
     "text": [
      "2\n",
      "3\n",
      "1\n",
      "4\n"
     ]
    }
   ],
   "source": [
    "# 함수 호출 순서\n",
    "\n",
    "def multiply(x, y):\n",
    "    print('1')   # 메모리에 저장되어 있다가 호출 시에 실행\n",
    "    return x * y\n",
    "\n",
    "print('2')\n",
    "i = 2   # 인수 지정\n",
    "j = 4\n",
    "\n",
    "print('3')    # 호출되는 시점에서 '1'번코드 실행\n",
    "multiply(i, j)   #  i = 2, j = 4 -> x = i, y = j  => shallow copy\n",
    " \n",
    "print('4')"
   ]
  },
  {
   "cell_type": "code",
   "execution_count": 126,
   "id": "891010e5",
   "metadata": {},
   "outputs": [
    {
     "name": "stdout",
     "output_type": "stream",
     "text": [
      "['a']\n",
      "['a', 'b']\n"
     ]
    }
   ],
   "source": [
    "# shallow copy로 인한 문제점\n",
    "\n",
    "def buggy(arg, result = []):  # 빈 객체 설정\n",
    "    result.append(arg)\n",
    "    print(result)\n",
    "\n",
    "a, b = 'a', 'b' \n",
    "buggy(a) # ['a']\n",
    "buggy(b) # ['b']일 것 같으나, id를 공유하고 있기 때문에 ['a', 'b']로 출력됨"
   ]
  },
  {
   "cell_type": "code",
   "execution_count": 132,
   "id": "14ae6dfd",
   "metadata": {},
   "outputs": [
    {
     "name": "stdout",
     "output_type": "stream",
     "text": [
      "['a']\n",
      "['b']\n"
     ]
    }
   ],
   "source": [
    "# 둘 다 조건식으로 포함하는 함수로 변경하기\n",
    "\n",
    "def nonbuggy(arg, result = None):\n",
    "    # 리스트가 없으면 빈 리스트 생성하고, 있으면 그거 써라.\n",
    "    if result is None: # ==(value) vs. is(id)\n",
    "        result = []\n",
    "    result.append(arg)\n",
    "    print(result)\n",
    "\n",
    "a, b = 'a', 'b' \n",
    "nonbuggy(a)\n",
    "nonbuggy(b)\n",
    "    \n",
    "# \"없는 값, 아무것도 없다\": None"
   ]
  },
  {
   "cell_type": "code",
   "execution_count": 134,
   "id": "13425303",
   "metadata": {},
   "outputs": [
    {
     "name": "stdout",
     "output_type": "stream",
     "text": [
      "['c', 'a']\n",
      "['c', 'a', 'b']\n"
     ]
    }
   ],
   "source": [
    "def nonbuggy(arg, result = None): # default\n",
    "    if result is None: \n",
    "        result = []\n",
    "    result.append(arg)\n",
    "    print(result)\n",
    "\n",
    "empty = ['c']\n",
    "nonbuggy(a, empty)  # result의 디폴트값 None 대신에 인수 empty가 들어감\n",
    "nonbuggy(b, empty)"
   ]
  },
  {
   "cell_type": "code",
   "execution_count": 135,
   "id": "428fbb11",
   "metadata": {},
   "outputs": [
    {
     "name": "stdout",
     "output_type": "stream",
     "text": [
      "None\n"
     ]
    }
   ],
   "source": [
    "thing = None  # 값이 할당된 상태가 아님. 진짜 아무 값도 없다는 뜻\n",
    "if thing:  # True\n",
    "    print('True')\n",
    "elif thing == False:  # False\n",
    "    print('False')\n",
    "else:\n",
    "    print('None')"
   ]
  },
  {
   "cell_type": "code",
   "execution_count": 28,
   "id": "d0a09713",
   "metadata": {},
   "outputs": [
    {
     "name": "stdout",
     "output_type": "stream",
     "text": [
      "london\n",
      "london\n"
     ]
    }
   ],
   "source": [
    "def fx():\n",
    "    global city  # 전역변수 설정: 함수 밖에서도 쓰겠다\n",
    "    city = 'london' # 지역변수: 함수 내부에서만 유효한 변수\n",
    "    print(city)\n",
    "    \n",
    "city = 'paris'  # 변수\n",
    "fx()\n",
    "print(city)"
   ]
  },
  {
   "cell_type": "code",
   "execution_count": 136,
   "id": "5461ac10",
   "metadata": {},
   "outputs": [
    {
     "name": "stdout",
     "output_type": "stream",
     "text": [
      "paris\n",
      "london\n"
     ]
    }
   ],
   "source": [
    "def fx():\n",
    "    global city  # 전역변수 설정: 함수 밖에서도 쓰겠다\n",
    "    city = 'london' # 지역변수: 함수 내부에서만 유효한 변수\n",
    "    print(city)\n",
    "    \n",
    "city = 'paris'  # 변수\n",
    "print(city)  # 함수 호출 전에(전역변수 값 변경하기 전에) print(city)하면 paris 출력\n",
    "fx()"
   ]
  },
  {
   "cell_type": "markdown",
   "id": "6afc8e72",
   "metadata": {},
   "source": [
    "### doc string\n",
    "- 함수 설명\n",
    "- 매개변수의 타입, 의미, 함수의 기능을 설명\n",
    "- '''\n",
    "  \n",
    "  독 스트링\n",
    "\n",
    "  '''\n"
   ]
  },
  {
   "cell_type": "code",
   "execution_count": 138,
   "id": "f81f9418",
   "metadata": {},
   "outputs": [
    {
     "name": "stdout",
     "output_type": "stream",
     "text": [
      "['rose']\n"
     ]
    }
   ],
   "source": [
    "'''arg: str, 꽃 이름\n",
    "   result: list, xxxxx\n",
    "   꽃 이름을 리스트에 추가한다.\n",
    "   '''\n",
    "def flower(arg, result = []):   \n",
    "    if result is None:\n",
    "        result = []\n",
    "    result.append(arg)\n",
    "    print(result)\n",
    "\n",
    "flower('rose')"
   ]
  },
  {
   "cell_type": "code",
   "execution_count": 139,
   "id": "7fb1c777",
   "metadata": {},
   "outputs": [
    {
     "name": "stdout",
     "output_type": "stream",
     "text": [
      "Help on function flower in module __main__:\n",
      "\n",
      "flower(arg, result=['rose'])\n",
      "\n"
     ]
    }
   ],
   "source": [
    "# 독스트링 확인\n",
    "help(flower)\n",
    "buggy.__doc__"
   ]
  },
  {
   "cell_type": "markdown",
   "id": "7009ae1f",
   "metadata": {},
   "source": [
    "### Quiz\n",
    "\n",
    "- 나이 -> 연도\n",
    "- 함수: \n",
    "    - 입력값 = 나이\n",
    "    - 반환 = 연도\n",
    "- 나이 = input 받기"
   ]
  },
  {
   "cell_type": "code",
   "execution_count": 140,
   "id": "06e0b8b5",
   "metadata": {},
   "outputs": [
    {
     "name": "stdout",
     "output_type": "stream",
     "text": [
      "현재 나이를 입력하세요>>> 23\n"
     ]
    },
    {
     "data": {
      "text/plain": [
       "2000"
      ]
     },
     "execution_count": 140,
     "metadata": {},
     "output_type": "execute_result"
    }
   ],
   "source": [
    "def age_to_year():\n",
    "    this_year = 2022\n",
    "    return this_year - age + 1\n",
    "\n",
    "age = int(input('현재 나이를 입력하세요>>> '))\n",
    "age_to_year()"
   ]
  },
  {
   "cell_type": "markdown",
   "id": "dda11ebd",
   "metadata": {},
   "source": [
    "## 브라운 정제하기\n"
   ]
  },
  {
   "cell_type": "code",
   "execution_count": 42,
   "id": "c593f278",
   "metadata": {
    "collapsed": true
   },
   "outputs": [
    {
     "name": "stderr",
     "output_type": "stream",
     "text": [
      "[nltk_data] Downloading package brown to\n",
      "[nltk_data]     C:\\Users\\kupa1\\AppData\\Roaming\\nltk_data...\n",
      "[nltk_data]   Package brown is already up-to-date!\n"
     ]
    },
    {
     "data": {
      "text/plain": [
       "\"\\n\\n\\tThey/ppss neither/cc liked/vbd nor/cc disliked/vbd the/at Old/jj-tl Man/nn-tl ./.\\nTo/in them/ppo he/pps could/md have/hv been/ben the/at broken/vbn bell/nn in/in the/at church/nn tower/nn which/wdt rang/vbd before/in and/cc after/in Mass/nn-tl ,/, and/cc at/in noon/nn ,/, and/cc at/in six/cd each/dt evening/nn --/-- its/pp$ tone/nn ,/, repetitive/jj ,/, monotonous/jj ,/, never/rb breaking/vbg the/at boredom/nn of/in the/at streets/nns ./.\\nThe/at Old/jj-tl Man/nn-tl was/bedz unimportant/jj ./.\\n\\n\\n\\tYet/rb if/cs he/pps were/bed not/* there/rb ,/, they/ppss would/md have/hv missed/vbn him/ppo ,/, as/cs they/ppss would/md have/hv missed/vbn the/at sounds/nns of/in bees/nns buzzing/vbg against/in the/at screen/nn door/nn in/in early/jj June/np ;/. ;/.\\nor/cc the/at smell/nn of/in thick/jj tomato/nn paste/nn --/-- the/at ripe/jj smell/nn that/wps was/bedz both/abx sweet/jj and/cc sour/jj --/-- rising/vbg up/rp from/in aluminum/nn trays/nns wrapped/vbn in/in fly-dotted/jj cheesecloth/nn ./.\\nOr/cc the/at surging/vbg whirling/vbg sounds/nns of/in bats/nns at/in night/nn ,/, when/wrb their/pp$ black/jj bodies/nns dived/vbd into/in the/at blackness/nn above/in and/cc below/in the/at amber/jj street/nn lights/nns ./.\\nOr/cc the/at bay/nn of/in female/nn dogs/nns in/in heat/nn ./.\\n\\n\\n\\tThey/ppss never/rb called/vbd him/ppo by/in name/nn ,/, although/cs he/pps had/hvd one/pn ./.\\nFilippo/np Rossi/np ,/, that's/dt+bez what/wdt he/pps was/bedz called/vbn in/in the/at old/jj country/nn ;/. ;/.\\nbut/cc here/rb he/pps was/bedz just/rb Signore/np or/cc the/at Old/jj-tl Man/nn-tl ./.\\nBut/cc this/dt was/bedz not/* unusual/jj ,/, because/cs youth/nn in/in these/dts quarters/nns was/bedz always/rb pushed/vbn at/in a/at distance/nn from/in its/pp$ elders/nns ./.\\nYouth/nn obeyed/vbd when/wrb commanded/vbn ./.\\nIt/pps went/vbd to/in church/nn on/in Sunday/nr and/cc one/cd Saturday/nr a/at month/nn went/vbd to/in confession/nn ./.\\nBut/cc youth/nn asked/vbd nothing/pn of/in its/pp$ parents/nns --/-- not/* a/at touch/nn of/in the/at hand/nn or/cc a/at kiss/nn given/vbn in/in passing/vbg ./.\\n\\n\\n\\tThe/at only/ap thing/nn unusual/jj about/in the/at Old/jj-tl Man/nn-tl had/hvd long/jj since/rb happened/vbn ./.\\nBut/cc the/at past/nn was/bedz dead/jj here/rb as/cs the/at present/jj was/bedz dead/jj ./.\\nOnce/cs the/at Old/jj-tl Man/nn-tl had/hvd had/hvn a/at wife/nn ./.\\nAnd/cc once/cs she/pps ,/, too/rb ,/, ignored/vbd him/ppo ./.\\nWith/in a/at tiny/jj fur-piece/nn wrapped/vbd around/in her/pp$ shoulders/nns ,/, she/pps wiggled/vbd her/pp$ satin-covered/jj buttocks/nns down/in the/at street/nn before/in him/ppo and/cc didn't/dod* stop/vb ./.\\nIn/in one/cd hand/nn she/pps clutched/vbd a/at hundred/cd dollar/nn bill/nn and/cc in/in the/at other/ap a/at straw/nn suitcase/nn ./.\\nThe/at way/nn she/pps strutted/vbd down/in the/at street/nn ,/, the/at Old/jj-tl Man/nn-tl would/md have/hv been/ben blind/jj not/* to/to have/hv noticed/vbn both/abx ./.\\nWithout/in looking/vbg at/in him/ppo ,/, without/in looking/vbg at/in anything/pn except/in Drexel/np-tl Street/nn-tl directly/rb in/in front/nn of/in her/ppo ,/, she/pps climbed/vbd up/rp into/in one/cd of/in those/dts orange/jj streetcars/nns ,/, rode/vbd away/rb in/in it/ppo ,/, and/cc never/rb came/vbd back/rb ./.\\n\\n\\n\\t``/`` But/cc she/pps shouldn't/md* have/hv come/vbn here/rb in/in the/at first/od place/nn ''/'' ,/, the/at women/nns had/hvd said/vbn ./.\\n\\n\\n\\t``/`` No/rb ,/, no/rb ./.\\nNot/* that/dt one/pn ./.\\nShe/pps thought/vbd she/pps was/bedz bigger/jjr than/cs we/ppss are/ber because/cs she/pps came/vbd from/in Torino/np ''/'' ./.\\n\\n\\n\\t``/`` Eh/uh ,/, Torino/np !/. !/.\\nShe/pps gave/vbd herself/ppl fancy/jj airs/nns !/. !/.\\nJust/rb because/cs she/pps had/hvd a/at part/nn on/in the/at stage/nn in/in the/at old/jj country/nn ,/, she/pps thought/vbd she/pps could/md carry/vb her/pp$ head/nn higher/rbr than/cs ours/pp$$ ''/'' ./.\\nThey/ppss had/hvd slapped/vbn their/pp$ thighs/nns ./.\\n\\n\\n\\t``/`` It's/pps+bez not/* for/in making/vbg pretty/jj speeches/nns about/in Dante/np those/dts actresses/nns get/vb paid/vbn so/ql good/rb ''/'' ./.\\n\\n\\n\\t``/`` Henh/uh ''/'' !/. !/.\\nCalloused/vbn fingers/nns ,/, caressed/vbn only/rb by/in the/at smoothness/nn of/in polished/vbn rosaries/nns ,/, had/hvd swayed/vbn excitedly/rb beneath/in puckered/vbn chins/nns where/wrb tiny/jj black/jj hairs/nns sprouted/vbd ,/, never/rb to/to be/be tweezed/vbn away/rb ./.\\nMauve-colored/jj mouths/nns that/wps had/hvd never/rb known/vbn anything/pn sweeter/jjr than/cs the/at taste/nn of/in new/jj wine/nn and/cc the/at passion/nn of/in man's/nn$ tongue/nn had/hvd not/* smiled/vbn ,/, but/cc had/hvd condemned/vbn again/rb and/cc again/rb ./.\\n``/`` Puttana/fw-nn ''/'' !/. !/.\\n\\n\\n\\tBut/cc if/cs the/at Old/jj-tl Man/nn-tl even/rb thought/vbd about/in his/pp$ wife/nn now/rb ,/, nobody/pn cared/vbd a/at fig/nn ./.\\nIt/pps was/bedz enough/ap for/in people/nns to/to know/vb that/cs at/in one/cd time/nn he/pps had/hvd looked/vbn down/in the/at street/nn at/in the/at f\""
      ]
     },
     "execution_count": 42,
     "metadata": {},
     "output_type": "execute_result"
    }
   ],
   "source": [
    "import string\n",
    "import nltk\n",
    "nltk.download('brown')\n",
    "brown = nltk.corpus.brown\n",
    "romance = brown.raw(categories = 'romance')[:5000]\n",
    "romance"
   ]
  },
  {
   "cell_type": "code",
   "execution_count": 106,
   "id": "29f03f25",
   "metadata": {
    "collapsed": true
   },
   "outputs": [
    {
     "data": {
      "text/plain": [
       "['They/ppss neither/cc liked/vbd nor/cc disliked/vbd the/at Old/jj-tl Man/nn-tl .',\n",
       " 'To/in them/ppo he/pps could/md have/hv been/ben the/at broken/vbn bell/nn in/in the/at church/nn tower/nn which/wdt rang/vbd before/in and/cc after/in Mass/nn-tl ,/, and/cc at/in noon/nn ,/, and/cc at/in six/cd each/dt evening/nn --/-- its/pp$ tone/nn ,/, repetitive/jj ,/, monotonous/jj ,/, never/rb breaking/vbg the/at boredom/nn of/in the/at streets/nns .',\n",
       " 'The/at Old/jj-tl Man/nn-tl was/bedz unimportant/jj .',\n",
       " 'Yet/rb if/cs he/pps were/bed not/* there/rb ,/, they/ppss would/md have/hv missed/vbn him/ppo ,/, as/cs they/ppss would/md have/hv missed/vbn the/at sounds/nns of/in bees/nns buzzing/vbg against/in the/at screen/nn door/nn in/in early/jj June/np ;',\n",
       " ';',\n",
       " 'or/cc the/at smell/nn of/in thick/jj tomato/nn paste/nn --/-- the/at ripe/jj smell/nn that/wps was/bedz both/abx sweet/jj and/cc sour/jj --/-- rising/vbg up/rp from/in aluminum/nn trays/nns wrapped/vbn in/in fly-dotted/jj cheesecloth/nn .',\n",
       " 'Or/cc the/at surging/vbg whirling/vbg sounds/nns of/in bats/nns at/in night/nn ,/, when/wrb their/pp$ black/jj bodies/nns dived/vbd into/in the/at blackness/nn above/in and/cc below/in the/at amber/jj street/nn lights/nns .',\n",
       " 'Or/cc the/at bay/nn of/in female/nn dogs/nns in/in heat/nn .',\n",
       " 'They/ppss never/rb called/vbd him/ppo by/in name/nn ,/, although/cs he/pps had/hvd one/pn .',\n",
       " \"Filippo/np Rossi/np ,/, that's/dt+bez what/wdt he/pps was/bedz called/vbn in/in the/at old/jj country/nn ;\",\n",
       " ';',\n",
       " 'but/cc here/rb he/pps was/bedz just/rb Signore/np or/cc the/at Old/jj-tl Man/nn-tl .',\n",
       " 'But/cc this/dt was/bedz not/* unusual/jj ,/, because/cs youth/nn in/in these/dts quarters/nns was/bedz always/rb pushed/vbn at/in a/at distance/nn from/in its/pp$ elders/nns .',\n",
       " 'Youth/nn obeyed/vbd when/wrb commanded/vbn .',\n",
       " 'It/pps went/vbd to/in church/nn on/in Sunday/nr and/cc one/cd Saturday/nr a/at month/nn went/vbd to/in confession/nn .',\n",
       " 'But/cc youth/nn asked/vbd nothing/pn of/in its/pp$ parents/nns --/-- not/* a/at touch/nn of/in the/at hand/nn or/cc a/at kiss/nn given/vbn in/in passing/vbg .',\n",
       " 'The/at only/ap thing/nn unusual/jj about/in the/at Old/jj-tl Man/nn-tl had/hvd long/jj since/rb happened/vbn .',\n",
       " 'But/cc the/at past/nn was/bedz dead/jj here/rb as/cs the/at present/jj was/bedz dead/jj .',\n",
       " 'Once/cs the/at Old/jj-tl Man/nn-tl had/hvd had/hvn a/at wife/nn .',\n",
       " 'And/cc once/cs she/pps ,/, too/rb ,/, ignored/vbd him/ppo .',\n",
       " \"With/in a/at tiny/jj fur-piece/nn wrapped/vbd around/in her/pp$ shoulders/nns ,/, she/pps wiggled/vbd her/pp$ satin-covered/jj buttocks/nns down/in the/at street/nn before/in him/ppo and/cc didn't/dod* stop/vb .\",\n",
       " 'In/in one/cd hand/nn she/pps clutched/vbd a/at hundred/cd dollar/nn bill/nn and/cc in/in the/at other/ap a/at straw/nn suitcase/nn .',\n",
       " 'The/at way/nn she/pps strutted/vbd down/in the/at street/nn ,/, the/at Old/jj-tl Man/nn-tl would/md have/hv been/ben blind/jj not/* to/to have/hv noticed/vbn both/abx .',\n",
       " 'Without/in looking/vbg at/in him/ppo ,/, without/in looking/vbg at/in anything/pn except/in Drexel/np-tl Street/nn-tl directly/rb in/in front/nn of/in her/ppo ,/, she/pps climbed/vbd up/rp into/in one/cd of/in those/dts orange/jj streetcars/nns ,/, rode/vbd away/rb in/in it/ppo ,/, and/cc never/rb came/vbd back/rb .',\n",
       " \"``/`` But/cc she/pps shouldn't/md* have/hv come/vbn here/rb in/in the/at first/od place/nn ''/'' ,/, the/at women/nns had/hvd said/vbn .\",\n",
       " '``/`` No/rb ,/, no/rb .',\n",
       " 'Not/* that/dt one/pn .',\n",
       " \"She/pps thought/vbd she/pps was/bedz bigger/jjr than/cs we/ppss are/ber because/cs she/pps came/vbd from/in Torino/np ''/'' .\",\n",
       " '``/`` Eh/uh ,/, Torino/np !',\n",
       " 'She/pps gave/vbd herself/ppl fancy/jj airs/nns !',\n",
       " \"Just/rb because/cs she/pps had/hvd a/at part/nn on/in the/at stage/nn in/in the/at old/jj country/nn ,/, she/pps thought/vbd she/pps could/md carry/vb her/pp$ head/nn higher/rbr than/cs ours/pp$$ ''/'' .\",\n",
       " 'They/ppss had/hvd slapped/vbn their/pp$ thighs/nns .',\n",
       " \"``/`` It's/pps+bez not/* for/in making/vbg pretty/jj speeches/nns about/in Dante/np those/dts actresses/nns get/vb paid/vbn so/ql good/rb ''/'' .\",\n",
       " \"``/`` Henh/uh ''/'' !\",\n",
       " 'Calloused/vbn fingers/nns ,/, caressed/vbn only/rb by/in the/at smoothness/nn of/in polished/vbn rosaries/nns ,/, had/hvd swayed/vbn excitedly/rb beneath/in puckered/vbn chins/nns where/wrb tiny/jj black/jj hairs/nns sprouted/vbd ,/, never/rb to/to be/be tweezed/vbn away/rb .',\n",
       " \"Mauve-colored/jj mouths/nns that/wps had/hvd never/rb known/vbn anything/pn sweeter/jjr than/cs the/at taste/nn of/in new/jj wine/nn and/cc the/at passion/nn of/in man's/nn$ tongue/nn had/hvd not/* smiled/vbn ,/, but/cc had/hvd condemned/vbn again/rb and/cc again/rb .\",\n",
       " \"``/`` Puttana/fw-nn ''/'' !\",\n",
       " 'But/cc if/cs the/at Old/jj-tl Man/nn-tl even/rb thought/vbd about/in his/pp$ wife/nn now/rb ,/, nobody/pn cared/vbd a/at fig/nn .',\n",
       " 'It/pps was/bedz enough/ap for/in people/nns to/to know/vb that/cs at/in one/cd time/nn he/pps had/hvd looked/vbn down/in the/at street/nn at/in the/at f']"
      ]
     },
     "execution_count": 106,
     "metadata": {},
     "output_type": "execute_result"
    }
   ],
   "source": [
    "# 문장 분절\n",
    "sentences = [sent.strip() for sent in romance.split('/.')]\n",
    "sentences = [s for s in sentences if s != '!'] # ! 문장에서 제외\n",
    "sentences"
   ]
  },
  {
   "cell_type": "markdown",
   "id": "7d88c518",
   "metadata": {},
   "source": [
    "#### 단어 분절\n",
    "- sentences -> POS 제거, 단어 분절"
   ]
  },
  {
   "cell_type": "code",
   "execution_count": 80,
   "id": "3fdfd58f",
   "metadata": {},
   "outputs": [],
   "source": [
    "SLASH = '/'"
   ]
  },
  {
   "cell_type": "code",
   "execution_count": 109,
   "id": "bfacd9ff",
   "metadata": {},
   "outputs": [
    {
     "data": {
      "text/plain": [
       "['They', 'neither', 'liked', 'nor', 'disliked', 'the', 'Old', 'Man', '.']"
      ]
     },
     "execution_count": 109,
     "metadata": {},
     "output_type": "execute_result"
    }
   ],
   "source": [
    "# 단어 분절\n",
    "example = sentences[0]\n",
    "[word[:word.find(SLASH)] for word in example.split() if SLASH in word]  # if문으로 없는 단어는 삭제\n",
    "[word[:word.find(SLASH)] if word[:word.find(SLASH)] else word for word in example.split()]"
   ]
  },
  {
   "cell_type": "code",
   "execution_count": 145,
   "id": "07fcd3a6",
   "metadata": {},
   "outputs": [],
   "source": [
    "sentence_tokens = [[word[:word.find(SLASH)] \\\n",
    "                    if word[:word.find(SLASH)] else word \\\n",
    "                    for word in example.split()] for example in sentences]"
   ]
  },
  {
   "cell_type": "code",
   "execution_count": 146,
   "id": "1de7d77a",
   "metadata": {},
   "outputs": [],
   "source": [
    "# text 내에 있는 문장부호들\n",
    "punct = list(string.punctuation)  "
   ]
  },
  {
   "cell_type": "code",
   "execution_count": 148,
   "id": "5d221209",
   "metadata": {},
   "outputs": [],
   "source": [
    "# punctuation 제거하기\n",
    "no_punct_tokens = [[word for word in sent if word not in punct] for sent in sentence_tokens]"
   ]
  },
  {
   "cell_type": "code",
   "execution_count": 98,
   "id": "c9ecf4d3",
   "metadata": {},
   "outputs": [
    {
     "data": {
      "text/plain": [
       "{'!', \"''\", ',', '--', '.', ';', '``'}"
      ]
     },
     "execution_count": 98,
     "metadata": {},
     "output_type": "execute_result"
    }
   ],
   "source": [
    "my_punct = set([word for sent in sentence_tokens for word in sent if not word[0].isalnum()])"
   ]
  },
  {
   "cell_type": "code",
   "execution_count": 100,
   "id": "ee165d0b",
   "metadata": {
    "collapsed": true
   },
   "outputs": [
    {
     "data": {
      "text/plain": [
       "('she', \"'s\")"
      ]
     },
     "execution_count": 100,
     "metadata": {},
     "output_type": "execute_result"
    }
   ],
   "source": [
    "# 하이픈 fly-dotted\n",
    "'fly-dotted'.split('-') \n",
    "# split 하고 extend 시키기\n",
    "# or\n",
    "# replace('-',' ')하기\n",
    "\n",
    "# apostrophe\n",
    "word = 'she\\'s'\n",
    "index = word.find('\\'')\n",
    "word[:index], word[index:] # 위의 SLASH와 동일한 방법으로 제거해주기\n",
    "\n",
    "# word'word 의 경우\n",
    "    # 's, 'nt, 'd -> 조건 달아서 따로 분절해주기\n",
    "    # 나머지 word'word의 경우는 그냥 붙인다"
   ]
  },
  {
   "cell_type": "code",
   "execution_count": 157,
   "id": "c5a1346e",
   "metadata": {},
   "outputs": [
    {
     "data": {
      "text/plain": [
       "['They', 'neither', 'liked', 'nor', 'disliked', 'the', 'Old', 'Man']"
      ]
     },
     "execution_count": 157,
     "metadata": {},
     "output_type": "execute_result"
    }
   ],
   "source": [
    "# 단어 분절하는 함수\n",
    "# 문장이 들어왔을 때 POS 제거하고, punct 제거하고, 토큰 리스트로 변환한다.\n",
    "\n",
    "def tokenize_word(text):\n",
    "    token_list = text\n",
    "    word_tokens = [word[:word.find(SLASH)] for word in text.split() if word not in punct]\n",
    "    return word_tokens\n",
    "\n",
    "tokenize_word(example)"
   ]
  },
  {
   "cell_type": "code",
   "execution_count": null,
   "id": "40e21945",
   "metadata": {},
   "outputs": [],
   "source": []
  }
 ],
 "metadata": {
  "kernelspec": {
   "display_name": "Python 3 (ipykernel)",
   "language": "python",
   "name": "python3"
  },
  "language_info": {
   "codemirror_mode": {
    "name": "ipython",
    "version": 3
   },
   "file_extension": ".py",
   "mimetype": "text/x-python",
   "name": "python",
   "nbconvert_exporter": "python",
   "pygments_lexer": "ipython3",
   "version": "3.9.7"
  }
 },
 "nbformat": 4,
 "nbformat_minor": 5
}
