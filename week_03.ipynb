{
 "cells": [
  {
   "cell_type": "markdown",
   "id": "befc56c1",
   "metadata": {},
   "source": [
    "## 중첩조건문 | nested conditional\n",
    "- if 블록 안에 또 if 블록이 만들어지는 경우\n",
    "    - 예: \n",
    "          if...\n",
    "             if...\n",
    "                if...\n",
    "    - 구분은 들여쓰기로 한다.(tab or space x 4)\n",
    "    - 조건이 여러 개일 경우 사용한다.\n",
    "    - 웬만하면 지양한다. 더 예쁜 방법을 찾아본다.(가독성 좋은 방법)\n",
    "    "
   ]
  },
  {
   "cell_type": "code",
   "execution_count": 7,
   "id": "28b9f81a",
   "metadata": {},
   "outputs": [
    {
     "name": "stdout",
     "output_type": "stream",
     "text": [
      "Block B\n"
     ]
    }
   ],
   "source": [
    "x = 0\n",
    "y = 4\n",
    "\n",
    "if x == y:\n",
    "    print('Block A')\n",
    "else:\n",
    "    if x < y:\n",
    "        print('Block B')\n",
    "    else:\n",
    "        print('Block C')"
   ]
  },
  {
   "cell_type": "code",
   "execution_count": 10,
   "id": "0d1bf182",
   "metadata": {},
   "outputs": [
    {
     "name": "stdout",
     "output_type": "stream",
     "text": [
      "Block C\n"
     ]
    }
   ],
   "source": [
    "# 개선안\n",
    "a = 9\n",
    "b = 3\n",
    "\n",
    "if a == b:\n",
    "    print('Block A')\n",
    "elif a < b:\n",
    "    print('Block B')\n",
    "else:\n",
    "    print('Block C')"
   ]
  },
  {
   "cell_type": "code",
   "execution_count": 2,
   "id": "3af3f82c",
   "metadata": {},
   "outputs": [
    {
     "name": "stdout",
     "output_type": "stream",
     "text": [
      "D\n"
     ]
    }
   ],
   "source": [
    "# 0 < x < 10 인 경우\n",
    "if x > 0:\n",
    "    print('A')\n",
    "    if x < 10:\n",
    "        print('B')\n",
    "    else:\n",
    "        print('C')\n",
    "else:\n",
    "    print('D')"
   ]
  },
  {
   "cell_type": "code",
   "execution_count": 15,
   "id": "cab76b69",
   "metadata": {},
   "outputs": [
    {
     "name": "stdout",
     "output_type": "stream",
     "text": [
      "Block B\n"
     ]
    }
   ],
   "source": [
    "# 개선안 방법 1\n",
    "if (x > 0) and (x < 10):   # 논리연산자 활용\n",
    "    print('Block A')\n",
    "else:\n",
    "    print('Block B')"
   ]
  },
  {
   "cell_type": "code",
   "execution_count": 14,
   "id": "c6066fa5",
   "metadata": {},
   "outputs": [
    {
     "name": "stdout",
     "output_type": "stream",
     "text": [
      "Block B\n"
     ]
    }
   ],
   "source": [
    "# 개선안 방법 2\n",
    "if 0 < x < 10:   # 파이썬에서만 가능한 방법\n",
    "    print('Block A')\n",
    "else:\n",
    "    print('Block B')"
   ]
  },
  {
   "cell_type": "markdown",
   "id": "ec616337",
   "metadata": {},
   "source": [
    "### 논리 연산자\n",
    "- 비교연산 조건을 여러 번 사용하는 경우\n",
    "    - x > 0, x < 10\n",
    "- and, or, not\n",
    "    - A and B:  A 그리고 B\n",
    "        - A, B 둘 다 참일 때 True(&)\n",
    "    - A or B:  A 혹은 B\n",
    "        - 둘 중 하나만 참이면 True(|)\n",
    "    - not A:  \n",
    "        - A 참이면 False, 거짓이면 True(~)\n",
    "    "
   ]
  },
  {
   "cell_type": "markdown",
   "id": "1094c708",
   "metadata": {},
   "source": [
    "### True / False\n",
    "\n",
    "- A = True\n",
    "- \"만약 A가 참이면, ...\""
   ]
  },
  {
   "cell_type": "code",
   "execution_count": 1,
   "id": "c1913679",
   "metadata": {},
   "outputs": [
    {
     "ename": "NameError",
     "evalue": "name 'a' is not defined",
     "output_type": "error",
     "traceback": [
      "\u001b[1;31m---------------------------------------------------------------------------\u001b[0m",
      "\u001b[1;31mNameError\u001b[0m                                 Traceback (most recent call last)",
      "\u001b[1;32m~\\AppData\\Local\\Temp/ipykernel_16152/3768261284.py\u001b[0m in \u001b[0;36m<module>\u001b[1;34m\u001b[0m\n\u001b[1;32m----> 1\u001b[1;33m \u001b[1;32mif\u001b[0m \u001b[0ma\u001b[0m \u001b[1;33m==\u001b[0m \u001b[1;32mTrue\u001b[0m\u001b[1;33m:\u001b[0m  \u001b[1;31m# 잘못된 방법\u001b[0m\u001b[1;33m\u001b[0m\u001b[1;33m\u001b[0m\u001b[0m\n\u001b[0m\u001b[0;32m      2\u001b[0m     \u001b[0mprint\u001b[0m\u001b[1;33m(\u001b[0m\u001b[1;34m'잘못된 방법'\u001b[0m\u001b[1;33m)\u001b[0m\u001b[1;33m\u001b[0m\u001b[1;33m\u001b[0m\u001b[0m\n",
      "\u001b[1;31mNameError\u001b[0m: name 'a' is not defined"
     ]
    }
   ],
   "source": [
    "if a == True:  # 잘못된 방법\n",
    "    print('잘못된 방법')"
   ]
  },
  {
   "cell_type": "code",
   "execution_count": 4,
   "id": "0aa388f3",
   "metadata": {},
   "outputs": [
    {
     "name": "stdout",
     "output_type": "stream",
     "text": [
      "참입니다\n"
     ]
    }
   ],
   "source": [
    "a = True\n",
    "if a:   # 올바른 방법, 'a가 참이면'이라는 뜻\n",
    "    print('참입니다')"
   ]
  },
  {
   "cell_type": "markdown",
   "id": "b918f705",
   "metadata": {},
   "source": [
    "### in\n",
    "- membership operator\n",
    "- 요소가 안에 포함되어 있는가 or 비슷한 조건문이 여럿일 때\n",
    "- A in B = A가 B에 포함되어 있는가\n"
   ]
  },
  {
   "cell_type": "code",
   "execution_count": 5,
   "id": "f3a3538f",
   "metadata": {},
   "outputs": [
    {
     "name": "stdout",
     "output_type": "stream",
     "text": [
      "자음\n"
     ]
    }
   ],
   "source": [
    "# ex 1) 모음인지 아닌지(i, a, e, o, u)\n",
    "letter = 'w'\n",
    "# if letter == 'a' or letter == 'e', ....  # 비효율적\n",
    "if letter in ['a', 'e', 'i', 'o', 'u']:\n",
    "    print('모음')\n",
    "else:\n",
    "    print('자음')"
   ]
  },
  {
   "cell_type": "code",
   "execution_count": 28,
   "id": "547fcbad",
   "metadata": {},
   "outputs": [
    {
     "name": "stdout",
     "output_type": "stream",
     "text": [
      "모음 있음\n"
     ]
    }
   ],
   "source": [
    "# 단어에 모음이 있나 없나\n",
    "word = 'banana'\n",
    "if 'a' or 'e' or 'i' or 'o' or 'u' in word:\n",
    "    print('모음 있음')\n",
    "else:\n",
    "    print('모음 없음')"
   ]
  },
  {
   "cell_type": "code",
   "execution_count": 16,
   "id": "f2a9f7b8",
   "metadata": {},
   "outputs": [
    {
     "name": "stdout",
     "output_type": "stream",
     "text": [
      "숫자를 입력하세요>>> 123456789\n",
      "홀수입니다\n"
     ]
    }
   ],
   "source": [
    "# 숫자\n",
    "num = input('숫자를 입력하세요>>> ')\n",
    "number = num[-1]\n",
    "\n",
    "if number in '13579':\n",
    "    print('홀수입니다')\n",
    "else:\n",
    "    print('짝수입니다.')"
   ]
  },
  {
   "cell_type": "markdown",
   "id": "b3aa250f",
   "metadata": {},
   "source": [
    "### 코끼리 연산자\n",
    "- walrus operator\n",
    "- :=\n",
    "- 할당과 테스트 동시에 하는 기능"
   ]
  },
  {
   "cell_type": "code",
   "execution_count": 31,
   "id": "8fc8cb42",
   "metadata": {},
   "outputs": [
    {
     "data": {
      "text/plain": [
       "'blahblahblahblahblahblahblahblahblahblahblahblahblahblahblahblahblahblahblahblahblahblahblahblahblahblahblahblahblahblahblahblahblahblahblahblahblahblahblahblahblahblahblahblahblahblahblahblahblahblah'"
      ]
     },
     "execution_count": 31,
     "metadata": {},
     "output_type": "execute_result"
    }
   ],
   "source": [
    "tweet_limit = 200\n",
    "tweet_string = 'blah' * 50  # blah 50번 이어붙이기\n",
    "# len(tweet_string) == 200\n",
    "tweet_string"
   ]
  },
  {
   "cell_type": "code",
   "execution_count": 24,
   "id": "58f0dbf6",
   "metadata": {},
   "outputs": [
    {
     "name": "stdout",
     "output_type": "stream",
     "text": [
      "가능하다\n"
     ]
    }
   ],
   "source": [
    "diff = tweet_limit - len(tweet_string)\n",
    "if diff > 0:\n",
    "    print('가능하다')\n",
    "else:\n",
    "    print('불가능하다')\n"
   ]
  },
  {
   "cell_type": "code",
   "execution_count": 25,
   "id": "bf6fac0c",
   "metadata": {},
   "outputs": [
    {
     "name": "stdout",
     "output_type": "stream",
     "text": [
      "불가능\n"
     ]
    }
   ],
   "source": [
    "if diff := tweet_limit - len(tweet_string) > 0:\n",
    "        print('가능')\n",
    "else:\n",
    "    print('불가능')"
   ]
  },
  {
   "cell_type": "markdown",
   "id": "e412b91d",
   "metadata": {},
   "source": [
    "### Quiz 1\n",
    "- 윤년을 구해봅시다.\n",
    "    - 연도 입력받는다.\n",
    "    - 4로 나누어지면 윤년\n",
    "    - 100으로 나눠지면 안된다.\n",
    "    - 400으로 나눠지면 윤년\n",
    "- 출력: '{}은 윤년입니다./ 아닙니다.'"
   ]
  },
  {
   "cell_type": "code",
   "execution_count": 32,
   "id": "97da458e",
   "metadata": {},
   "outputs": [
    {
     "name": "stdout",
     "output_type": "stream",
     "text": [
      "연도를 입력하세요>>> 2012\n",
      "윤년입니다.\n"
     ]
    }
   ],
   "source": [
    "year = int(input('연도를 입력하세요>>> '))\n",
    "\n",
    "if (year % 4 == 0 and year % 100 != 0) or (year % 400 == 0):\n",
    "    print('윤년입니다.')\n",
    "else:\n",
    "    print('윤년이 아닙니다.')"
   ]
  },
  {
   "cell_type": "markdown",
   "id": "89f07bae",
   "metadata": {},
   "source": [
    "## String | 문자열\n",
    "- 시스템에서 가장 작은 단위(차지하는 바이트가 가장 작다)\n",
    "- 불변적인 성격을 가진다. immutable\n",
    "    - 예: jack -> jeck (부분만 수정할 순 없다)\n",
    "- ' 또는 ''으로 선언한다.\n",
    "    - 예: \"25.5\"\n",
    "    - ''', \"\"\"은 주석이다\n",
    "- 형변환은 str()\n",
    "\n",
    "### escape character | 이스케이프 문자\n",
    "- 특수한 형태의 문자열, 눈에 보이는 대로 인식되지 않는 문자\n",
    "- \\ + ch\n",
    "- 예: \\n(line feed), \\t(tab), \\b(back space), \\'(single quote), \\\"(double quote)\n",
    "    - \\n을 출력하고 싶다면?\n",
    "        - \\\\n\n",
    "        - r''\n",
    "- 다른 스트링을 만드는 것이 아님."
   ]
  },
  {
   "cell_type": "code",
   "execution_count": 33,
   "id": "736a6875",
   "metadata": {},
   "outputs": [
    {
     "name": "stdout",
     "output_type": "stream",
     "text": [
      "Hello\n",
      "world\n"
     ]
    }
   ],
   "source": [
    "sent = 'Hello\\nworld' \n",
    "print(sent)"
   ]
  },
  {
   "cell_type": "code",
   "execution_count": 44,
   "id": "88b61d13",
   "metadata": {},
   "outputs": [
    {
     "data": {
      "text/plain": [
       "\"I'm a student.\""
      ]
     },
     "execution_count": 44,
     "metadata": {},
     "output_type": "execute_result"
    }
   ],
   "source": [
    "'I\\'m a student.'"
   ]
  },
  {
   "cell_type": "code",
   "execution_count": 34,
   "id": "5b83ca45",
   "metadata": {},
   "outputs": [
    {
     "name": "stdout",
     "output_type": "stream",
     "text": [
      "Hello\\nworld\n"
     ]
    }
   ],
   "source": [
    "sent = r'Hello\\nworld'   # r'' , \\n 그대로 출력\n",
    "sent\n",
    "print(sent)"
   ]
  },
  {
   "cell_type": "markdown",
   "id": "cc525303",
   "metadata": {},
   "source": [
    "### 연산\n",
    "- concatenation\n",
    "    = '' + '' => 공백없이 결합하는 방법\n",
    "- 곱하기\n",
    "    - n * 5 => nnnnn\n"
   ]
  },
  {
   "cell_type": "code",
   "execution_count": 36,
   "id": "5406abe5",
   "metadata": {},
   "outputs": [
    {
     "data": {
      "text/plain": [
       "'jackjack'"
      ]
     },
     "execution_count": 36,
     "metadata": {},
     "output_type": "execute_result"
    }
   ],
   "source": [
    "name = 'jack'\n",
    "name + name"
   ]
  },
  {
   "cell_type": "code",
   "execution_count": 50,
   "id": "8a5589a3",
   "metadata": {},
   "outputs": [
    {
     "data": {
      "text/plain": [
       "'jackjackjackjack'"
      ]
     },
     "execution_count": 50,
     "metadata": {},
     "output_type": "execute_result"
    }
   ],
   "source": [
    "name * 4"
   ]
  },
  {
   "cell_type": "code",
   "execution_count": 38,
   "id": "deead03a",
   "metadata": {},
   "outputs": [
    {
     "ename": "TypeError",
     "evalue": "'str' object does not support item assignment",
     "output_type": "error",
     "traceback": [
      "\u001b[1;31m---------------------------------------------------------------------------\u001b[0m",
      "\u001b[1;31mTypeError\u001b[0m                                 Traceback (most recent call last)",
      "\u001b[1;32m~\\AppData\\Local\\Temp/ipykernel_16152/1895036245.py\u001b[0m in \u001b[0;36m<module>\u001b[1;34m\u001b[0m\n\u001b[0;32m      1\u001b[0m \u001b[1;31m# immutable\u001b[0m\u001b[1;33m\u001b[0m\u001b[1;33m\u001b[0m\u001b[0m\n\u001b[1;32m----> 2\u001b[1;33m \u001b[0mname\u001b[0m\u001b[1;33m[\u001b[0m\u001b[1;36m1\u001b[0m\u001b[1;33m]\u001b[0m \u001b[1;33m=\u001b[0m \u001b[1;34m'e'\u001b[0m  \u001b[1;31m# 부분 변경 불가능\u001b[0m\u001b[1;33m\u001b[0m\u001b[1;33m\u001b[0m\u001b[0m\n\u001b[0m",
      "\u001b[1;31mTypeError\u001b[0m: 'str' object does not support item assignment"
     ]
    }
   ],
   "source": [
    "# immutable\n",
    "name[1] = 'e'  # a -> e 부분 변경 불가능"
   ]
  },
  {
   "cell_type": "markdown",
   "id": "f076841b",
   "metadata": {},
   "source": [
    "### 슬라이싱: 추출\n",
    "- 문자열의 일부분을 떼어내는 작업\n",
    "- 대괄호 사용, 그 안에 오프셋(인덱스)을 지정\n",
    "- 오프셋은 0부터 시작한다.\n",
    "    - 'jack' = 0 1 2 3 = -4 -3 -2 -1\n",
    "- 음수는 -1부터 시작.\n",
    "- 오프셋은 [시작:끝:스텝] 으로 이루어짐\n",
    "    - 스텝 default는 1\n",
    "- 시작은 포함, 끝은 포함하지 않는다. (이상 - 미만)\n",
    "    - [1:3]은 1,2번 인덱스 출력, 3번 인덱스는 출력X"
   ]
  },
  {
   "cell_type": "code",
   "execution_count": 39,
   "id": "6545bea4",
   "metadata": {},
   "outputs": [
    {
     "data": {
      "text/plain": [
       "'k'"
      ]
     },
     "execution_count": 39,
     "metadata": {},
     "output_type": "execute_result"
    }
   ],
   "source": [
    "name = 'jack'\n",
    "name[-1]   # name의 마지막 인덱스 출력"
   ]
  },
  {
   "cell_type": "code",
   "execution_count": 42,
   "id": "b5befcc8",
   "metadata": {},
   "outputs": [
    {
     "data": {
      "text/plain": [
       "'el'"
      ]
     },
     "execution_count": 42,
     "metadata": {},
     "output_type": "execute_result"
    }
   ],
   "source": [
    "sent='Hello\\nworld'\n",
    "sent[1:3]  # 1,2번 인데스 출력"
   ]
  },
  {
   "cell_type": "code",
   "execution_count": 60,
   "id": "5b3bb93c",
   "metadata": {},
   "outputs": [
    {
     "data": {
      "text/plain": [
       "('Hello\\n', 'Hello\\n')"
      ]
     },
     "execution_count": 60,
     "metadata": {},
     "output_type": "execute_result"
    }
   ],
   "source": [
    "# 처음부터 5까지 출력\n",
    "sent[0:6], sent[:6]  # 0은 생략"
   ]
  },
  {
   "cell_type": "code",
   "execution_count": 48,
   "id": "7836710d",
   "metadata": {},
   "outputs": [
    {
     "data": {
      "text/plain": [
       "('Hlowrd', 'Hlowrd')"
      ]
     },
     "execution_count": 48,
     "metadata": {},
     "output_type": "execute_result"
    }
   ],
   "source": [
    "# 처음부터 끝까지 2스텝씩 출력\n",
    "sent[::2], sent[-11::2]\n",
    "# sent[:11:2] X\n",
    "# sent[:-1:2] X\n"
   ]
  },
  {
   "cell_type": "code",
   "execution_count": 100,
   "id": "f55a33e6",
   "metadata": {},
   "outputs": [
    {
     "data": {
      "text/plain": [
       "'dlrow\\nolleH'"
      ]
     },
     "execution_count": 100,
     "metadata": {},
     "output_type": "execute_result"
    }
   ],
   "source": [
    "# 모든 글자를 거꾸로 출력하세요\n",
    "sent[::-1]   # 처음부터 끝까지 스텝 -1씩 출력"
   ]
  },
  {
   "cell_type": "code",
   "execution_count": 50,
   "id": "6b4a25e9",
   "metadata": {},
   "outputs": [
    {
     "data": {
      "text/plain": [
       "'lifting'"
      ]
     },
     "execution_count": 50,
     "metadata": {},
     "output_type": "execute_result"
    }
   ],
   "source": [
    "# 리스트 슬라이싱\n",
    "sports = ['soccer', 'boxing', 'lifting']\n",
    "sports[2]"
   ]
  },
  {
   "cell_type": "markdown",
   "id": "d28997db",
   "metadata": {},
   "source": [
    "## NLTK\n",
    "- natural language toolkit\n",
    "- 자연어 분석을 위해 교육용으로 배포된 패키지\n",
    "- 내장함수, 기능들이 추가됨\n",
    "    - 토크나이즈, 파싱, 태깅, ..."
   ]
  },
  {
   "cell_type": "code",
   "execution_count": 104,
   "id": "bfc1cdbe",
   "metadata": {},
   "outputs": [
    {
     "name": "stdout",
     "output_type": "stream",
     "text": [
      "Requirement already satisfied: nltk in c:\\users\\kupa1\\anaconda3\\lib\\site-packages (3.6.5)\n",
      "Requirement already satisfied: click in c:\\users\\kupa1\\anaconda3\\lib\\site-packages (from nltk) (8.0.3)\n",
      "Requirement already satisfied: joblib in c:\\users\\kupa1\\anaconda3\\lib\\site-packages (from nltk) (1.1.0)\n",
      "Requirement already satisfied: regex>=2021.8.3 in c:\\users\\kupa1\\anaconda3\\lib\\site-packages (from nltk) (2021.8.3)\n",
      "Requirement already satisfied: tqdm in c:\\users\\kupa1\\anaconda3\\lib\\site-packages (from nltk) (4.62.3)\n",
      "Requirement already satisfied: colorama in c:\\users\\kupa1\\anaconda3\\lib\\site-packages (from click->nltk) (0.4.4)\n"
     ]
    }
   ],
   "source": [
    "# !pip install nltk"
   ]
  },
  {
   "cell_type": "code",
   "execution_count": 55,
   "id": "7c917b51",
   "metadata": {
    "scrolled": false
   },
   "outputs": [
    {
     "data": {
      "text/plain": [
       "True"
      ]
     },
     "execution_count": 55,
     "metadata": {},
     "output_type": "execute_result"
    }
   ],
   "source": [
    "import nltk # 가져오기\n",
    "nltk.download('book', quiet = True)  # 부분적으로 다운받기"
   ]
  },
  {
   "cell_type": "code",
   "execution_count": 57,
   "id": "af265e1a",
   "metadata": {},
   "outputs": [
    {
     "name": "stdout",
     "output_type": "stream",
     "text": [
      "*** Introductory Examples for the NLTK Book ***\n",
      "Loading text1, ..., text9 and sent1, ..., sent9\n",
      "Type the name of the text or sentence to view it.\n",
      "Type: 'texts()' or 'sents()' to list the materials.\n",
      "text1: Moby Dick by Herman Melville 1851\n",
      "text2: Sense and Sensibility by Jane Austen 1811\n",
      "text3: The Book of Genesis\n",
      "text4: Inaugural Address Corpus\n",
      "text5: Chat Corpus\n",
      "text6: Monty Python and the Holy Grail\n",
      "text7: Wall Street Journal\n",
      "text8: Personals Corpus\n",
      "text9: The Man Who Was Thursday by G . K . Chesterton 1908\n"
     ]
    }
   ],
   "source": [
    "from nltk import book  # 가져오기"
   ]
  },
  {
   "cell_type": "code",
   "execution_count": 80,
   "id": "93e5c3b5",
   "metadata": {},
   "outputs": [
    {
     "data": {
      "text/plain": [
       "['In',\n",
       " 'the',\n",
       " 'beginning',\n",
       " 'God',\n",
       " 'created',\n",
       " 'the',\n",
       " 'heaven',\n",
       " 'and',\n",
       " 'the',\n",
       " 'earth']"
      ]
     },
     "execution_count": 80,
     "metadata": {},
     "output_type": "execute_result"
    }
   ],
   "source": [
    "genesis = book.text3\n",
    "genesis.tokens[:10]  # moby의 단어들/ 토큰에 접근하는 방법\n",
    "# 토큰: 프로그래밍에서 사용하는 단어 단위: hello, world\n",
    "    # I'm not a coward.\n",
    "        # I'm / I, 'm / I, am 등등"
   ]
  },
  {
   "cell_type": "code",
   "execution_count": 81,
   "id": "1121a9b8",
   "metadata": {},
   "outputs": [
    {
     "data": {
      "text/plain": [
       "44764"
      ]
     },
     "execution_count": 81,
     "metadata": {},
     "output_type": "execute_result"
    }
   ],
   "source": [
    "# 1. 길이 세기\n",
    "len(genesis)  # 4만자"
   ]
  },
  {
   "cell_type": "code",
   "execution_count": 82,
   "id": "32bf2ad2",
   "metadata": {},
   "outputs": [
    {
     "data": {
      "text/plain": [
       "2789"
      ]
     },
     "execution_count": 82,
     "metadata": {},
     "output_type": "execute_result"
    }
   ],
   "source": [
    "# 2. 중복 없이 단어 몇 개?\n",
    "len(set(genesis))  # 2700자\n",
    "# set은 순서가 없음, 중복 불가"
   ]
  },
  {
   "cell_type": "code",
   "execution_count": 84,
   "id": "b7bab1fa",
   "metadata": {},
   "outputs": [
    {
     "data": {
      "text/plain": [
       "0.06230453042623537"
      ]
     },
     "execution_count": 84,
     "metadata": {},
     "output_type": "execute_result"
    }
   ],
   "source": [
    "# lexical diversity 얼마나 다양한 단어를 썼는지\n",
    "len(set(genesis)) / len (genesis)  # 약 6%"
   ]
  },
  {
   "cell_type": "markdown",
   "id": "79a0ee1c",
   "metadata": {},
   "source": [
    "#### list\n",
    "    - ['a', a, True]\n",
    "    - 순서가 있고\n",
    "    - 중복 허용\n",
    "    - list()\n",
    "#### set\n",
    "    - {'a', 2, True}\n",
    "    - 순서가 없고\n",
    "    - 중복 허용 안됨\n",
    "    - set()\n",
    "    - 수학의 집합 개념이랑 동일"
   ]
  },
  {
   "cell_type": "code",
   "execution_count": 75,
   "id": "48c89d0b",
   "metadata": {},
   "outputs": [
    {
     "data": {
      "text/plain": [
       "['spaghetti', 'hamburger', 'chicken', 'chicken', 'pizza', 'hamburger']"
      ]
     },
     "execution_count": 75,
     "metadata": {},
     "output_type": "execute_result"
    }
   ],
   "source": [
    "food = ['spaghetti', 'hamburger', 'chicken', 'chicken', 'pizza', 'hamburger']\n",
    "food"
   ]
  },
  {
   "cell_type": "code",
   "execution_count": 76,
   "id": "8f128481",
   "metadata": {},
   "outputs": [
    {
     "data": {
      "text/plain": [
       "{'chicken', 'hamburger', 'pizza', 'spaghetti'}"
      ]
     },
     "execution_count": 76,
     "metadata": {},
     "output_type": "execute_result"
    }
   ],
   "source": [
    "set(food)"
   ]
  },
  {
   "cell_type": "code",
   "execution_count": 78,
   "id": "5b8cecb8",
   "metadata": {},
   "outputs": [
    {
     "data": {
      "text/plain": [
       "['spaghetti', 'pizza', 'hamburger', 'hamburger', 'chicken', 'chicken']"
      ]
     },
     "execution_count": 78,
     "metadata": {},
     "output_type": "execute_result"
    }
   ],
   "source": [
    "# 정렬, 내림차순\n",
    "sorted(food)\n",
    "# 정렬, 오름차순\n",
    "sorted(food, reverse = True)"
   ]
  },
  {
   "cell_type": "code",
   "execution_count": 85,
   "id": "54d8da01",
   "metadata": {},
   "outputs": [
    {
     "ename": "TypeError",
     "evalue": "'set' object is not subscriptable",
     "output_type": "error",
     "traceback": [
      "\u001b[1;31m---------------------------------------------------------------------------\u001b[0m",
      "\u001b[1;31mTypeError\u001b[0m                                 Traceback (most recent call last)",
      "\u001b[1;32m~\\AppData\\Local\\Temp/ipykernel_16152/3726079495.py\u001b[0m in \u001b[0;36m<module>\u001b[1;34m\u001b[0m\n\u001b[0;32m      1\u001b[0m \u001b[0msorted\u001b[0m\u001b[1;33m(\u001b[0m\u001b[0mgenesis\u001b[0m\u001b[1;33m)\u001b[0m\u001b[1;33m[\u001b[0m\u001b[1;33m:\u001b[0m\u001b[1;36m10\u001b[0m\u001b[1;33m]\u001b[0m\u001b[1;33m\u001b[0m\u001b[1;33m\u001b[0m\u001b[0m\n\u001b[0;32m      2\u001b[0m \u001b[0msorted\u001b[0m\u001b[1;33m(\u001b[0m\u001b[0mgenesis\u001b[0m\u001b[1;33m[\u001b[0m\u001b[1;33m:\u001b[0m\u001b[1;36m10\u001b[0m\u001b[1;33m]\u001b[0m\u001b[1;33m)\u001b[0m\u001b[1;33m\u001b[0m\u001b[1;33m\u001b[0m\u001b[0m\n\u001b[1;32m----> 3\u001b[1;33m \u001b[0mset\u001b[0m\u001b[1;33m(\u001b[0m\u001b[0mgenesis\u001b[0m\u001b[1;33m)\u001b[0m\u001b[1;33m[\u001b[0m\u001b[1;33m:\u001b[0m\u001b[1;36m10\u001b[0m\u001b[1;33m]\u001b[0m\u001b[1;33m\u001b[0m\u001b[1;33m\u001b[0m\u001b[0m\n\u001b[0m\u001b[0;32m      4\u001b[0m \u001b[1;33m\u001b[0m\u001b[0m\n\u001b[0;32m      5\u001b[0m \u001b[1;31m# 세트는 슬라이싱 안됨\u001b[0m\u001b[1;33m\u001b[0m\u001b[1;33m\u001b[0m\u001b[0m\n",
      "\u001b[1;31mTypeError\u001b[0m: 'set' object is not subscriptable"
     ]
    }
   ],
   "source": [
    "sorted(genesis)[:10]   \n",
    "sorted(genesis[:10])\n",
    "set(genesis)[:10]\n",
    "\n",
    "# 세트는 슬라이싱 안됨"
   ]
  },
  {
   "cell_type": "markdown",
   "id": "605d619e",
   "metadata": {},
   "source": [
    "### Quiz 1\n",
    "- text 6 가져와서 토큰을 변수에 담고\n",
    "- 중복 없는 셋으로 저장하고 내림차순\n",
    "    - 앞에서 10개 단어 출력\n",
    "    - 단어에 z가 있으면 대문자로 바꾸시오.\n",
    "    - z 가 없는데 4자 이상이면 끝 글자를 대문자로 바꿔라.\n",
    "\n",
    "#### Quiz 2\n",
    "- 주민번호, 휴대폰 번호, 이메일 주소 입력 받는다.\n",
    "- 주민번호, 휴대폰번호는 숫자만 입력받는다.\n",
    "- 이메일 주소는 아이디만 입력받는다.\n",
    "    - 1. \"당신은 {}년 {}월 {}일 출생의 {남성/여성}입니다.\"  # 주민번호 앞자리로 판별\n",
    "    - 2. 휴대폰 번호: 000-0000-0000\n",
    "    - 3. 이메일 주소: xxxx@gmail.com"
   ]
  },
  {
   "cell_type": "code",
   "execution_count": 87,
   "id": "bf6f2d0d",
   "metadata": {},
   "outputs": [
    {
     "name": "stdout",
     "output_type": "stream",
     "text": [
      "['Zoosh', 'Zoop', 'Zoo', 'Zone', 'Zhiv', 'yourselF', 'yourS', 'youR', 'younG', 'you']\n"
     ]
    }
   ],
   "source": [
    "### Quiz 1\n",
    "\n",
    "monty = book.text6\n",
    "sorted_monty = sorted(set(monty), reverse=True)[:10]\n",
    "final_list = []\n",
    "for i in sorted_monty:\n",
    "    if 'z' in i:\n",
    "        capital = i.capitalize()\n",
    "        final_list.append(capital)\n",
    "    elif ('z' not in i) and (len(i) >= 4):\n",
    "        backward = i[::-1].capitalize()\n",
    "        forward = backward[::-1]\n",
    "        final_list.append(forward)\n",
    "    else:\n",
    "        final_list.append(i)\n",
    "\n",
    "print(final_list)\n",
    "    \n",
    "\n"
   ]
  },
  {
   "cell_type": "code",
   "execution_count": 89,
   "id": "75b4fe52",
   "metadata": {},
   "outputs": [
    {
     "name": "stdout",
     "output_type": "stream",
     "text": [
      "휴대폰 번호를 입력하세요>>> 01099274685\n",
      "주민번호를 입력하세요>>> 0005273333333\n",
      "이메일을 입력하세요(아이디만)>>> yeonghoo105\n",
      "\n",
      "당신은 2000년 5월 27일 출생의 남성입니다.\n",
      "휴대폰 번호: 010-9927-4685\n",
      "이메일 주소: yeonghoo105@gmail.com\n"
     ]
    }
   ],
   "source": [
    "### Quiz 2\n",
    "\n",
    "phone = input('휴대폰 번호를 입력하세요>>> ')\n",
    "residentNum = input('주민번호를 입력하세요>>> ')\n",
    "email = input('이메일을 입력하세요(아이디만)>>> ')\n",
    "\n",
    "year = '20{}'.format(residentNum[:2])\n",
    "month = residentNum[2:4].strip('0')\n",
    "day = residentNum[4:6]\n",
    "if residentNum[6] in '1' or '3':\n",
    "    sex = '남성'\n",
    "else: \n",
    "    sex = '여성'\n",
    "\n",
    "info_1 = '당신은 {}년 {}월 {}일 출생의 {}입니다.'.format(year, month, day, sex)\n",
    "info_2 = '휴대폰 번호: {}-{}-{}'.format(phone[:3], phone[3:7], phone[7:])\n",
    "info_3 = '이메일 주소: {}@gmail.com'.format(email)\n",
    "\n",
    "print()\n",
    "print(info_1)\n",
    "print(info_2)\n",
    "print(info_3)"
   ]
  },
  {
   "cell_type": "code",
   "execution_count": null,
   "id": "8293ea22",
   "metadata": {},
   "outputs": [],
   "source": []
  }
 ],
 "metadata": {
  "kernelspec": {
   "display_name": "Python 3 (ipykernel)",
   "language": "python",
   "name": "python3"
  },
  "language_info": {
   "codemirror_mode": {
    "name": "ipython",
    "version": 3
   },
   "file_extension": ".py",
   "mimetype": "text/x-python",
   "name": "python",
   "nbconvert_exporter": "python",
   "pygments_lexer": "ipython3",
   "version": "3.9.7"
  }
 },
 "nbformat": 4,
 "nbformat_minor": 5
}
