{
 "cells": [
  {
   "cell_type": "markdown",
   "id": "012150be",
   "metadata": {},
   "source": [
    "### NLTK Inaugural"
   ]
  },
  {
   "cell_type": "code",
   "execution_count": 1,
   "id": "2462c815",
   "metadata": {},
   "outputs": [
    {
     "name": "stderr",
     "output_type": "stream",
     "text": [
      "[nltk_data] Downloading package brown to\n",
      "[nltk_data]     C:\\Users\\kupa1\\AppData\\Roaming\\nltk_data...\n",
      "[nltk_data]   Package brown is already up-to-date!\n",
      "[nltk_data] Downloading package inaugural to\n",
      "[nltk_data]     C:\\Users\\kupa1\\AppData\\Roaming\\nltk_data...\n",
      "[nltk_data]   Package inaugural is already up-to-date!\n"
     ]
    },
    {
     "data": {
      "text/plain": [
       "True"
      ]
     },
     "execution_count": 1,
     "metadata": {},
     "output_type": "execute_result"
    }
   ],
   "source": [
    "import nltk\n",
    "nltk.download(['brown', 'inaugural'])  # lookup error"
   ]
  },
  {
   "cell_type": "code",
   "execution_count": 2,
   "id": "c04cb1f0",
   "metadata": {},
   "outputs": [],
   "source": [
    "brown = nltk.corpus.brown"
   ]
  },
  {
   "cell_type": "code",
   "execution_count": 4,
   "id": "f1f9a458",
   "metadata": {},
   "outputs": [
    {
     "name": "stdout",
     "output_type": "stream",
     "text": [
      "                  can could would  will might   may \n",
      "      adventure    46   151   191    50    58     5 \n",
      " belles_lettres   246   213   392   236   113   207 \n",
      "      editorial   121    56   180   233    39    74 \n",
      "        fiction    37   166   287    52    44     8 \n",
      "     government   117    38   120   244    13   153 \n",
      "        hobbies   268    58    78   264    22   131 \n",
      "          humor    16    30    56    13     8     8 \n",
      "        learned   365   159   319   340   128   324 \n",
      "           lore   170   141   186   175    49   165 \n",
      "        mystery    42   141   186    20    57    13 \n",
      "           news    93    86   244   389    38    66 \n",
      "       religion    82    59    68    71    12    78 \n",
      "        reviews    45    40    47    58    26    45 \n",
      "        romance    74   193   244    43    51    11 \n",
      "science_fiction    16    49    79    16    12     4 \n"
     ]
    }
   ],
   "source": [
    "# cfd\n",
    "cfd = nltk.ConditionalFreqDist(\n",
    "    (genre, word)\n",
    "    for genre in brown.categories()\n",
    "    for word in brown.words(categories=genre)\n",
    ")\n",
    "modals = ['can', 'could', 'would', 'will', 'might', 'may']\n",
    "cfd.tabulate(conditions=brown.categories(), samples = modals)"
   ]
  },
  {
   "cell_type": "code",
   "execution_count": 5,
   "id": "0dc02507",
   "metadata": {},
   "outputs": [
    {
     "name": "stdout",
     "output_type": "stream",
     "text": [
      "                  can could   may might  will would \n",
      "      adventure    48   154     7    59    51   194 \n",
      " belles_lettres   249   216   221   113   246   397 \n",
      "      editorial   124    57    79    39   235   185 \n",
      "        fiction    39   168    10    44    56   291 \n",
      "     government   119    38   179    13   244   120 \n",
      "        hobbies   276    59   143    22   269    83 \n",
      "          humor    17    33     8     8    13    56 \n",
      "        learned   367   159   336   128   340   321 \n",
      "           lore   170   142   170    50   178   188 \n",
      "        mystery    45   145    15    57    25   189 \n",
      "           news    94    87    93    38   389   246 \n",
      "       religion    84    59    79    12    72    69 \n",
      "        reviews    45    40    47    26    61    48 \n",
      "        romance    79   195    11    51    49   247 \n",
      "science_fiction    16    49     4    12    17    80 \n"
     ]
    }
   ],
   "source": [
    "# modals의 빈도수가 포함된 cfd (word -> modal_verb)\n",
    "cfd1 = nltk.ConditionalFreqDist(\n",
    "    (genre, modal)\n",
    "    for genre in brown.categories()\n",
    "    for modal in ['can', 'could', 'would', 'will', 'might', 'may']\n",
    "    \n",
    "    for word in brown.words(categories=genre)  # 위 두 코드를 연결해주는 코드\n",
    "        if word.lower() == modal\n",
    ")\n",
    "cfd1.tabulate()"
   ]
  },
  {
   "cell_type": "markdown",
   "id": "9be269e1",
   "metadata": {},
   "source": [
    "#### Inaugural\n",
    "- 연설문 코퍼스"
   ]
  },
  {
   "cell_type": "code",
   "execution_count": 6,
   "id": "45914db4",
   "metadata": {},
   "outputs": [],
   "source": [
    "inaugural = nltk.corpus.inaugural"
   ]
  },
  {
   "cell_type": "code",
   "execution_count": 7,
   "id": "421da458",
   "metadata": {
    "collapsed": true
   },
   "outputs": [
    {
     "data": {
      "text/plain": [
       "['1789-Washington.txt',\n",
       " '1793-Washington.txt',\n",
       " '1797-Adams.txt',\n",
       " '1801-Jefferson.txt',\n",
       " '1805-Jefferson.txt',\n",
       " '1809-Madison.txt',\n",
       " '1813-Madison.txt',\n",
       " '1817-Monroe.txt',\n",
       " '1821-Monroe.txt',\n",
       " '1825-Adams.txt',\n",
       " '1829-Jackson.txt',\n",
       " '1833-Jackson.txt',\n",
       " '1837-VanBuren.txt',\n",
       " '1841-Harrison.txt',\n",
       " '1845-Polk.txt',\n",
       " '1849-Taylor.txt',\n",
       " '1853-Pierce.txt',\n",
       " '1857-Buchanan.txt',\n",
       " '1861-Lincoln.txt',\n",
       " '1865-Lincoln.txt',\n",
       " '1869-Grant.txt',\n",
       " '1873-Grant.txt',\n",
       " '1877-Hayes.txt',\n",
       " '1881-Garfield.txt',\n",
       " '1885-Cleveland.txt',\n",
       " '1889-Harrison.txt',\n",
       " '1893-Cleveland.txt',\n",
       " '1897-McKinley.txt',\n",
       " '1901-McKinley.txt',\n",
       " '1905-Roosevelt.txt',\n",
       " '1909-Taft.txt',\n",
       " '1913-Wilson.txt',\n",
       " '1917-Wilson.txt',\n",
       " '1921-Harding.txt',\n",
       " '1925-Coolidge.txt',\n",
       " '1929-Hoover.txt',\n",
       " '1933-Roosevelt.txt',\n",
       " '1937-Roosevelt.txt',\n",
       " '1941-Roosevelt.txt',\n",
       " '1945-Roosevelt.txt',\n",
       " '1949-Truman.txt',\n",
       " '1953-Eisenhower.txt',\n",
       " '1957-Eisenhower.txt',\n",
       " '1961-Kennedy.txt',\n",
       " '1965-Johnson.txt',\n",
       " '1969-Nixon.txt',\n",
       " '1973-Nixon.txt',\n",
       " '1977-Carter.txt',\n",
       " '1981-Reagan.txt',\n",
       " '1985-Reagan.txt',\n",
       " '1989-Bush.txt',\n",
       " '1993-Clinton.txt',\n",
       " '1997-Clinton.txt',\n",
       " '2001-Bush.txt',\n",
       " '2005-Bush.txt',\n",
       " '2009-Obama.txt',\n",
       " '2013-Obama.txt',\n",
       " '2017-Trump.txt',\n",
       " '2021-Biden.txt']"
      ]
     },
     "execution_count": 7,
     "metadata": {},
     "output_type": "execute_result"
    }
   ],
   "source": [
    "inaugural.fileids()  # 연도-대통령이름.txt | '2021-Biden.txt'"
   ]
  },
  {
   "cell_type": "code",
   "execution_count": 164,
   "id": "986da5bd",
   "metadata": {},
   "outputs": [
    {
     "name": "stdout",
     "output_type": "stream",
     "text": [
      "                    america citizen \n",
      "1793-Washington.txt       1       0 \n",
      "     1797-Adams.txt       5       1 \n",
      "    1817-Monroe.txt       0       5 \n",
      "    1821-Monroe.txt       2       0 \n",
      "     1825-Adams.txt       0       1 \n",
      "  1837-VanBuren.txt       1       1 \n",
      "  1841-Harrison.txt       0      11 \n",
      "    1853-Pierce.txt       0       1 \n",
      "  1857-Buchanan.txt       1       0 \n",
      "   1861-Lincoln.txt       0       1 \n",
      "     1869-Grant.txt       0       2 \n",
      "     1873-Grant.txt       0       1 \n",
      "     1877-Hayes.txt       0       1 \n",
      "  1881-Garfield.txt       1       2 \n",
      " 1885-Cleveland.txt       0       5 \n",
      "  1889-Harrison.txt       0       3 \n",
      " 1893-Cleveland.txt       0       3 \n",
      "      1909-Taft.txt       4       0 \n",
      "    1917-Wilson.txt       2       0 \n",
      "   1921-Harding.txt      15       0 \n",
      "  1925-Coolidge.txt       8       2 \n",
      "    1929-Hoover.txt       6       2 \n",
      " 1937-Roosevelt.txt       1       1 \n",
      " 1941-Roosevelt.txt       7       1 \n",
      " 1945-Roosevelt.txt       1       0 \n",
      "1953-Eisenhower.txt       3       3 \n",
      "1957-Eisenhower.txt       5       0 \n",
      "   1961-Kennedy.txt       2       0 \n",
      "   1965-Johnson.txt       3       3 \n",
      "     1969-Nixon.txt       6       0 \n",
      "     1973-Nixon.txt      21       0 \n",
      "    1977-Carter.txt       2       0 \n",
      "    1981-Reagan.txt       6       0 \n",
      "    1985-Reagan.txt       7       0 \n",
      "      1989-Bush.txt       7       1 \n",
      "   1993-Clinton.txt      19       0 \n",
      "   1997-Clinton.txt      15       1 \n",
      "      2001-Bush.txt      11       1 \n",
      "      2005-Bush.txt      20       1 \n",
      "     2009-Obama.txt      10       0 \n",
      "     2013-Obama.txt       8       2 \n",
      "     2017-Trump.txt      20       0 \n",
      "     2021-Biden.txt      20       0 \n"
     ]
    }
   ],
   "source": [
    "# cfd ['america', 'citizien'] 빈도수를 cfd로 만드시오.\n",
    "cfd2 = nltk.ConditionalFreqDist(\n",
    "(speech, target)\n",
    "for speech in inaugural.fileids()\n",
    "for target in ['america', 'citizen']\n",
    "\n",
    "for word in inaugural.words(fileids = speech)\n",
    "    if word.lower() == target\n",
    ")\n",
    "cfd2.tabulate()"
   ]
  },
  {
   "cell_type": "code",
   "execution_count": 165,
   "id": "fa080dbb",
   "metadata": {},
   "outputs": [
    {
     "data": {
      "image/png": "[encoded data removed]",
      "text/plain": [
       "<Figure size 432x288 with 1 Axes>"
      ]
     },
     "metadata": {
      "needs_background": "light"
     },
     "output_type": "display_data"
    },
    {
     "data": {
      "text/plain": [
       "<AxesSubplot:xlabel='Samples', ylabel='Counts'>"
      ]
     },
     "execution_count": 165,
     "metadata": {},
     "output_type": "execute_result"
    }
   ],
   "source": [
    "cfd2.plot()"
   ]
  },
  {
   "cell_type": "code",
   "execution_count": 166,
   "id": "7c093aa9",
   "metadata": {},
   "outputs": [
    {
     "name": "stdout",
     "output_type": "stream",
     "text": [
      "        1793-Washington.txt      1797-Adams.txt     1817-Monroe.txt     1821-Monroe.txt      1825-Adams.txt   1837-VanBuren.txt   1841-Harrison.txt     1853-Pierce.txt   1857-Buchanan.txt    1861-Lincoln.txt      1869-Grant.txt      1873-Grant.txt      1877-Hayes.txt   1881-Garfield.txt  1885-Cleveland.txt   1889-Harrison.txt  1893-Cleveland.txt       1909-Taft.txt     1917-Wilson.txt    1921-Harding.txt   1925-Coolidge.txt     1929-Hoover.txt  1937-Roosevelt.txt  1941-Roosevelt.txt  1945-Roosevelt.txt 1953-Eisenhower.txt 1957-Eisenhower.txt    1961-Kennedy.txt    1965-Johnson.txt      1969-Nixon.txt      1973-Nixon.txt     1977-Carter.txt     1981-Reagan.txt     1985-Reagan.txt       1989-Bush.txt    1993-Clinton.txt    1997-Clinton.txt       2001-Bush.txt       2005-Bush.txt      2009-Obama.txt      2013-Obama.txt      2017-Trump.txt      2021-Biden.txt \n",
      "america                   1                   5                   0                   2                   0                   1                   0                   0                   1                   0                   0                   0                   0                   1                   0                   0                   0                   4                   2                  15                   8                   6                   1                   7                   1                   3                   5                   2                   3                   6                  21                   2                   6                   7                   7                  19                  15                  11                  20                  10                   8                  20                  20 \n",
      "citizen                   0                   1                   5                   0                   1                   1                  11                   1                   0                   1                   2                   1                   1                   2                   5                   3                   3                   0                   0                   0                   2                   2                   1                   1                   0                   3                   0                   0                   3                   0                   0                   0                   0                   0                   1                   0                   1                   1                   1                   0                   2                   0                   0 \n"
     ]
    }
   ],
   "source": [
    "cfd2 = nltk.ConditionalFreqDist(\n",
    "(target, speech)  # x,y축 변환\n",
    "for speech in inaugural.fileids()\n",
    "for target in ['america', 'citizen']\n",
    "\n",
    "for word in inaugural.words(fileids = speech)\n",
    "    if word.lower() == target\n",
    ")\n",
    "cfd2.tabulate()"
   ]
  },
  {
   "cell_type": "code",
   "execution_count": 167,
   "id": "7148e9e8",
   "metadata": {},
   "outputs": [
    {
     "data": {
      "image/png": "[encoded data removed]",
      "text/plain": [
       "<Figure size 432x288 with 1 Axes>"
      ]
     },
     "metadata": {
      "needs_background": "light"
     },
     "output_type": "display_data"
    },
    {
     "data": {
      "text/plain": [
       "<AxesSubplot:xlabel='Samples', ylabel='Counts'>"
      ]
     },
     "execution_count": 167,
     "metadata": {},
     "output_type": "execute_result"
    }
   ],
   "source": [
    "cfd2.plot()"
   ]
  },
  {
   "cell_type": "markdown",
   "id": "8be583b6",
   "metadata": {},
   "source": [
    "### Tuple & List\n",
    "- 튜플은 불변객체, 리스트는 가변객체\n",
    "- 둘 다 중복 가능"
   ]
  },
  {
   "cell_type": "code",
   "execution_count": 17,
   "id": "fa627c40",
   "metadata": {},
   "outputs": [
    {
     "data": {
      "text/plain": [
       "((), [])"
      ]
     },
     "execution_count": 17,
     "metadata": {},
     "output_type": "execute_result"
    }
   ],
   "source": [
    "#1. 생성\n",
    "emptyT = ()  # 괄호로 빈 튜플 생성\n",
    "emptyT = tuple()\n",
    "\n",
    "emptyL = []\n",
    "emptyL = list()\n",
    "\n",
    "emptyT, emptyL"
   ]
  },
  {
   "cell_type": "code",
   "execution_count": 19,
   "id": "8134586f",
   "metadata": {},
   "outputs": [
    {
     "data": {
      "text/plain": [
       "('a', 'b')"
      ]
     },
     "execution_count": 19,
     "metadata": {},
     "output_type": "execute_result"
    }
   ],
   "source": [
    "#1.1 요소가 여러 개일 때\n",
    "alphabetT = ('a', 'b')\n",
    "alphabetT = 'a', 'b'\n",
    "alphabetT"
   ]
  },
  {
   "cell_type": "code",
   "execution_count": 20,
   "id": "0989bf10",
   "metadata": {},
   "outputs": [],
   "source": [
    "alphabetL = ['a', 'b']"
   ]
  },
  {
   "cell_type": "code",
   "execution_count": 21,
   "id": "d1b419cd",
   "metadata": {},
   "outputs": [
    {
     "data": {
      "text/plain": [
       "str"
      ]
     },
     "execution_count": 21,
     "metadata": {},
     "output_type": "execute_result"
    }
   ],
   "source": [
    "#1.2 요소가 1개일 때\n",
    "alphaT = ('a')  # str\n",
    "type(alphaT)"
   ]
  },
  {
   "cell_type": "code",
   "execution_count": 22,
   "id": "9dd3d7c5",
   "metadata": {},
   "outputs": [
    {
     "data": {
      "text/plain": [
       "tuple"
      ]
     },
     "execution_count": 22,
     "metadata": {},
     "output_type": "execute_result"
    }
   ],
   "source": [
    "alphaT = ('b',)  # 쉼표(,)를 찍어주면 자료형 tuple\n",
    "type(alphaT)"
   ]
  },
  {
   "cell_type": "markdown",
   "id": "320ebc8e",
   "metadata": {},
   "source": [
    "### packing \n",
    "- 한 변수에 여러 데이터를 할당하는 것\n",
    "    - list, tuple 자체 \n",
    "    - a = [1,2,3,4]\n",
    "\n",
    "### unpacking \n",
    "- 한 변수에 여러 데이터가 들어있을 때 여러 변수에 나누는 것\n",
    "    - a = 'k', b = 'i', c = 'm'"
   ]
  },
  {
   "cell_type": "code",
   "execution_count": 23,
   "id": "880078f5",
   "metadata": {},
   "outputs": [
    {
     "data": {
      "text/plain": [
       "('k', 'i', 'm')"
      ]
     },
     "execution_count": 23,
     "metadata": {},
     "output_type": "execute_result"
    }
   ],
   "source": [
    "a, b, c ='kim'  # unpacking\n",
    "a, b, c"
   ]
  },
  {
   "cell_type": "code",
   "execution_count": 169,
   "id": "a7d849da",
   "metadata": {},
   "outputs": [],
   "source": [
    "# 값 교환하기\n",
    "pwd = 'abcd'\n",
    "userId = 'sky'\n",
    "\n",
    "#temp1 = userId  # 임시변수 설정\n",
    "#temp2 = pwd    # 비효율적인 방법\n",
    "#pwd = temp1\n",
    "#userId = temp2"
   ]
  },
  {
   "cell_type": "code",
   "execution_count": 170,
   "id": "5cad44fe",
   "metadata": {},
   "outputs": [
    {
     "data": {
      "text/plain": [
       "('sky', 'abcd')"
      ]
     },
     "execution_count": 170,
     "metadata": {},
     "output_type": "execute_result"
    }
   ],
   "source": [
    "# 파이썬 방식 값 교환\n",
    "pwd, userId = userId, pwd\n",
    "pwd, userId"
   ]
  },
  {
   "cell_type": "code",
   "execution_count": 173,
   "id": "fcc2c5bd",
   "metadata": {},
   "outputs": [
    {
     "data": {
      "text/plain": [
       "('a', 1, 2)"
      ]
     },
     "execution_count": 173,
     "metadata": {},
     "output_type": "execute_result"
    }
   ],
   "source": [
    "# 연산\n",
    "('a',) + (1,2)   # tuple  + tuple"
   ]
  },
  {
   "cell_type": "code",
   "execution_count": 174,
   "id": "21d81449",
   "metadata": {},
   "outputs": [
    {
     "data": {
      "text/plain": [
       "(1, 2, 1, 2, 1, 2)"
      ]
     },
     "execution_count": 174,
     "metadata": {},
     "output_type": "execute_result"
    }
   ],
   "source": [
    "(1,2) * 3   # tuple x int"
   ]
  },
  {
   "cell_type": "code",
   "execution_count": 175,
   "id": "116eb9fb",
   "metadata": {},
   "outputs": [
    {
     "data": {
      "text/plain": [
       "(2421939704400, 2421896196224, 2421906712192)"
      ]
     },
     "execution_count": 175,
     "metadata": {},
     "output_type": "execute_result"
    }
   ],
   "source": [
    "x = ('a',)\n",
    "y = (1, 2)\n",
    "id(x), id(y), id(x+y)  # x+y는 새로운 변수에 할당(id로 확인)"
   ]
  },
  {
   "cell_type": "code",
   "execution_count": 426,
   "id": "e8535230",
   "metadata": {},
   "outputs": [
    {
     "data": {
      "text/plain": [
       "True"
      ]
     },
     "execution_count": 426,
     "metadata": {},
     "output_type": "execute_result"
    }
   ],
   "source": [
    "# 비교\n",
    "x = 1,2\n",
    "y = 1,6   # 첫번째 값끼리 먼저 비교, 동일하면 두번째 값 비교하는 형식\n",
    "\n",
    "x < y"
   ]
  },
  {
   "cell_type": "code",
   "execution_count": 427,
   "id": "9b925515",
   "metadata": {},
   "outputs": [
    {
     "name": "stdout",
     "output_type": "stream",
     "text": [
      "1번\n",
      "2번\n"
     ]
    }
   ],
   "source": [
    "# 순회: 리스트와 동일\n",
    "for i in x:\n",
    "    print(f'{i}번')"
   ]
  },
  {
   "cell_type": "code",
   "execution_count": 33,
   "id": "c4d552e4",
   "metadata": {},
   "outputs": [
    {
     "data": {
      "text/plain": [
       "[1, 2]"
      ]
     },
     "execution_count": 33,
     "metadata": {},
     "output_type": "execute_result"
    }
   ],
   "source": [
    "[i for i in x]  # 튜플로 컴프리헨션은 잘 안씀"
   ]
  },
  {
   "cell_type": "code",
   "execution_count": 35,
   "id": "0a522900",
   "metadata": {},
   "outputs": [
    {
     "data": {
      "text/plain": [
       "(1, 2)"
      ]
     },
     "execution_count": 35,
     "metadata": {},
     "output_type": "execute_result"
    }
   ],
   "source": [
    "# tuple comprehension이 있나요?\n",
    "# 없습니다. 튜플로 변경은 가능\n",
    "tuple([i for i in x])\n",
    "*[i for i in x],  # 위에꺼보다 느림"
   ]
  },
  {
   "cell_type": "code",
   "execution_count": 428,
   "id": "3e1ca7c8",
   "metadata": {},
   "outputs": [
    {
     "data": {
      "text/plain": [
       "(('n', 'a', 'm', 'e'), 'name')"
      ]
     },
     "execution_count": 428,
     "metadata": {},
     "output_type": "execute_result"
    }
   ],
   "source": [
    "# 형 변환\n",
    "name = 'name'\n",
    "tuple(name), (name)  # 형변환할 때 차이점"
   ]
  },
  {
   "cell_type": "code",
   "execution_count": 429,
   "id": "fe1b4675",
   "metadata": {},
   "outputs": [
    {
     "data": {
      "text/plain": [
       "(tuple, str)"
      ]
     },
     "execution_count": 429,
     "metadata": {},
     "output_type": "execute_result"
    }
   ],
   "source": [
    "type(tuple(name)), type((name))"
   ]
  },
  {
   "cell_type": "code",
   "execution_count": 430,
   "id": "a6c72725",
   "metadata": {},
   "outputs": [
    {
     "data": {
      "text/plain": [
       "['n', 'a', 'm', 'e']"
      ]
     },
     "execution_count": 430,
     "metadata": {},
     "output_type": "execute_result"
    }
   ],
   "source": [
    "list(name)"
   ]
  },
  {
   "cell_type": "code",
   "execution_count": 431,
   "id": "b46c9558",
   "metadata": {},
   "outputs": [
    {
     "data": {
      "text/plain": [
       "'n'"
      ]
     },
     "execution_count": 431,
     "metadata": {},
     "output_type": "execute_result"
    }
   ],
   "source": [
    "# slicing 동일하게 가능\n",
    "nameT = tuple(name)\n",
    "nameT[0]"
   ]
  },
  {
   "cell_type": "markdown",
   "id": "34470a41",
   "metadata": {},
   "source": [
    "### 정리\n",
    "- tuple 장점\n",
    "    - 변하지 않는 데이터 시퀀스를 만들 수 있다. 타인의 접근을 막는다.\n",
    "        - blue = 1, white = 2, ....  => 변경 불가\n",
    "    - 메모리 사용이 적다.\n",
    "\n",
    "- list 장점\n",
    "    - 튜플 장점 필요없을 때 전부 리스트 사용\n",
    "    - 데이터를 순차적으로 파악할 때\n",
    "    - 중복 데이터를 쓸 수 있다느 점 (vs. set)\n",
    "    "
   ]
  },
  {
   "cell_type": "markdown",
   "id": "4c32e797",
   "metadata": {},
   "source": [
    "### 리스트의 유용한 함수들\n",
    "- 변경, 삭제, 추가, \n",
    "- 리스트 컴프리헨션 업그레이드"
   ]
  },
  {
   "cell_type": "code",
   "execution_count": 181,
   "id": "dfe1a8d9",
   "metadata": {},
   "outputs": [
    {
     "data": {
      "text/plain": [
       "['a', 'b', 'c', 'd']"
      ]
     },
     "execution_count": 181,
     "metadata": {},
     "output_type": "execute_result"
    }
   ],
   "source": [
    "list('abcd')"
   ]
  },
  {
   "cell_type": "code",
   "execution_count": 1,
   "id": "5bd605db",
   "metadata": {},
   "outputs": [
    {
     "data": {
      "text/plain": [
       "[0, 1, 2, 3, 4]"
      ]
     },
     "execution_count": 1,
     "metadata": {},
     "output_type": "execute_result"
    }
   ],
   "source": [
    "num = list(range(5))\n",
    "num"
   ]
  },
  {
   "cell_type": "code",
   "execution_count": 2,
   "id": "31e881e5",
   "metadata": {},
   "outputs": [
    {
     "data": {
      "text/plain": [
       "[0, 1, 2, 3, 4, 5]"
      ]
     },
     "execution_count": 2,
     "metadata": {},
     "output_type": "execute_result"
    }
   ],
   "source": [
    "# 추가 함수들\n",
    "num.append(5)  # 마지막에 요소 추가, 하나만 가능\n",
    "num"
   ]
  },
  {
   "cell_type": "code",
   "execution_count": 3,
   "id": "8d3ef5d1",
   "metadata": {},
   "outputs": [
    {
     "data": {
      "text/plain": [
       "[8, 0, 1, 2, 3, 4, 5]"
      ]
     },
     "execution_count": 3,
     "metadata": {},
     "output_type": "execute_result"
    }
   ],
   "source": [
    "# insert(index, item)\n",
    "num.insert(0, 8)\n",
    "num"
   ]
  },
  {
   "cell_type": "code",
   "execution_count": 4,
   "id": "421b1a2a",
   "metadata": {},
   "outputs": [
    {
     "data": {
      "text/plain": [
       "[8, 0, 1, 2, 3, 4, 5, 6, 6, 6]"
      ]
     },
     "execution_count": 4,
     "metadata": {},
     "output_type": "execute_result"
    }
   ],
   "source": [
    "# 여러 개 추가\n",
    "x = [6, 6, 6]\n",
    "num.extend(x)  # 리스트를 리스트로 확장\n",
    "num"
   ]
  },
  {
   "cell_type": "code",
   "execution_count": 5,
   "id": "0acc6901",
   "metadata": {},
   "outputs": [
    {
     "data": {
      "text/plain": [
       "[8, 0, 1, 2, 3, 4, 5, 6, 6, 6, [6, 6, 6]]"
      ]
     },
     "execution_count": 5,
     "metadata": {},
     "output_type": "execute_result"
    }
   ],
   "source": [
    "num.append(x)  # extend와 append 차이점\n",
    "num"
   ]
  },
  {
   "cell_type": "code",
   "execution_count": 67,
   "id": "3ef04751",
   "metadata": {},
   "outputs": [
    {
     "data": {
      "text/plain": [
       "[8, 0, 1, 2, 3, 4, 5, 6, 6, 6, [6, 6, 6], 6, 6, 6]"
      ]
     },
     "execution_count": 67,
     "metadata": {},
     "output_type": "execute_result"
    }
   ],
   "source": [
    "# extend 원리(?)\n",
    "# num += x\n",
    "# num"
   ]
  },
  {
   "cell_type": "code",
   "execution_count": 6,
   "id": "1cdcdddf",
   "metadata": {},
   "outputs": [
    {
     "data": {
      "text/plain": [
       "[2, 2, 2, 2, 3, 4, 5, 6, 6, 6, [6, 6, 6]]"
      ]
     },
     "execution_count": 6,
     "metadata": {},
     "output_type": "execute_result"
    }
   ],
   "source": [
    "# slice\n",
    "num[:3] = 2, 2, 2   # 8,0,1 => 2,2,2\n",
    "num"
   ]
  },
  {
   "cell_type": "code",
   "execution_count": 7,
   "id": "2b07d452",
   "metadata": {},
   "outputs": [
    {
     "data": {
      "text/plain": [
       "['c', 'a', 't', 2, 3, 4, 5, 6, 6, 6, [6, 6, 6]]"
      ]
     },
     "execution_count": 7,
     "metadata": {},
     "output_type": "execute_result"
    }
   ],
   "source": [
    "num[:3] = 'cat'  # unpacking 후 추가(2,2,2 => c,a,t)\n",
    "num"
   ]
  },
  {
   "cell_type": "code",
   "execution_count": 8,
   "id": "2765c9f0",
   "metadata": {},
   "outputs": [
    {
     "data": {
      "text/plain": [
       "[2, 3, 4, 5, 6, 6, 6, [6, 6, 6]]"
      ]
     },
     "execution_count": 8,
     "metadata": {},
     "output_type": "execute_result"
    }
   ],
   "source": [
    "# 삭제\n",
    "del num[:3]\n",
    "num"
   ]
  },
  {
   "cell_type": "code",
   "execution_count": 9,
   "id": "ab9d70ed",
   "metadata": {},
   "outputs": [
    {
     "data": {
      "text/plain": [
       "[2, 3, 4, 5, 6, 6, 6]"
      ]
     },
     "execution_count": 9,
     "metadata": {},
     "output_type": "execute_result"
    }
   ],
   "source": [
    "# remove(value)  # index 아님\n",
    "num.remove([6,6,6])\n",
    "num"
   ]
  },
  {
   "cell_type": "code",
   "execution_count": 10,
   "id": "70bd5a49",
   "metadata": {},
   "outputs": [
    {
     "data": {
      "text/plain": [
       "[2, 3, 4, 5, 6, 6]"
      ]
     },
     "execution_count": 10,
     "metadata": {},
     "output_type": "execute_result"
    }
   ],
   "source": [
    "# pop(index) 기본값 = -1\n",
    "num.pop()\n",
    "num"
   ]
  },
  {
   "cell_type": "code",
   "execution_count": 11,
   "id": "34efb62e",
   "metadata": {},
   "outputs": [
    {
     "data": {
      "text/plain": [
       "[3, 4, 5, 6, 6]"
      ]
     },
     "execution_count": 11,
     "metadata": {},
     "output_type": "execute_result"
    }
   ],
   "source": [
    "num.pop(0)\n",
    "num"
   ]
  },
  {
   "cell_type": "code",
   "execution_count": 12,
   "id": "36cbdbcc",
   "metadata": {},
   "outputs": [
    {
     "data": {
      "text/plain": [
       "[]"
      ]
     },
     "execution_count": 12,
     "metadata": {},
     "output_type": "execute_result"
    }
   ],
   "source": [
    "# clear\n",
    "num.clear()\n",
    "num"
   ]
  },
  {
   "cell_type": "code",
   "execution_count": 13,
   "id": "5dbb4f84",
   "metadata": {},
   "outputs": [
    {
     "data": {
      "text/plain": [
       "4"
      ]
     },
     "execution_count": 13,
     "metadata": {},
     "output_type": "execute_result"
    }
   ],
   "source": [
    "# 인덱스: 해당 인덱스의 값 반환\n",
    "num = list(range(5))\n",
    "num.index(4)"
   ]
  },
  {
   "cell_type": "code",
   "execution_count": 14,
   "id": "bde8464c",
   "metadata": {},
   "outputs": [
    {
     "data": {
      "text/plain": [
       "True"
      ]
     },
     "execution_count": 14,
     "metadata": {},
     "output_type": "execute_result"
    }
   ],
   "source": [
    "0 in num"
   ]
  },
  {
   "cell_type": "code",
   "execution_count": 15,
   "id": "ec0b75b8",
   "metadata": {},
   "outputs": [
    {
     "data": {
      "text/plain": [
       "[4, 3, 2, 1, 0]"
      ]
     },
     "execution_count": 15,
     "metadata": {},
     "output_type": "execute_result"
    }
   ],
   "source": [
    "# 정렬: sort(), sorted()\n",
    "sorted(num, reverse = True) # 변한 값 출력하는 것일 뿐, 값이 저장되진 않음"
   ]
  },
  {
   "cell_type": "code",
   "execution_count": 16,
   "id": "a705150b",
   "metadata": {},
   "outputs": [
    {
     "data": {
      "text/plain": [
       "[0, 1, 2, 3, 4]"
      ]
     },
     "execution_count": 16,
     "metadata": {},
     "output_type": "execute_result"
    }
   ],
   "source": [
    "num  # 값 바뀌지 않음"
   ]
  },
  {
   "cell_type": "code",
   "execution_count": 17,
   "id": "3e912087",
   "metadata": {},
   "outputs": [
    {
     "data": {
      "text/plain": [
       "[4, 3, 2, 1, 0]"
      ]
     },
     "execution_count": 17,
     "metadata": {},
     "output_type": "execute_result"
    }
   ],
   "source": [
    "num.sort(reverse = True) # 리스트.sort(), 값을 할당하지 않아도 된다\n",
    "num"
   ]
  },
  {
   "cell_type": "code",
   "execution_count": 18,
   "id": "d4f4dbe9",
   "metadata": {},
   "outputs": [
    {
     "data": {
      "text/plain": [
       "[4, 3, 2, 1, 0]"
      ]
     },
     "execution_count": 18,
     "metadata": {},
     "output_type": "execute_result"
    }
   ],
   "source": [
    "# reversed(), list.reverse()\n",
    "\n",
    "reversed(num)  # 변한 값 출력하는 것일 뿐, 값이 저장되진 않음\n",
    "num"
   ]
  },
  {
   "cell_type": "code",
   "execution_count": 19,
   "id": "c004c762",
   "metadata": {},
   "outputs": [
    {
     "data": {
      "text/plain": [
       "[0, 1, 2, 3, 4]"
      ]
     },
     "execution_count": 19,
     "metadata": {},
     "output_type": "execute_result"
    }
   ],
   "source": [
    "num.reverse()  # 값을 할당하지 않아도 된다\n",
    "num"
   ]
  },
  {
   "cell_type": "code",
   "execution_count": 20,
   "id": "8806a246",
   "metadata": {},
   "outputs": [
    {
     "data": {
      "text/plain": [
       "[1, 2, 3, 4]"
      ]
     },
     "execution_count": 20,
     "metadata": {},
     "output_type": "execute_result"
    }
   ],
   "source": [
    "# 할당\n",
    "a = list(range(1,5))\n",
    "a"
   ]
  },
  {
   "cell_type": "code",
   "execution_count": 21,
   "id": "d8a1def6",
   "metadata": {},
   "outputs": [
    {
     "data": {
      "text/plain": [
       "([6, 2, 3, 4], [6, 2, 3, 4])"
      ]
     },
     "execution_count": 21,
     "metadata": {},
     "output_type": "execute_result"
    }
   ],
   "source": [
    "b = a  # 같은 메모리 주소를 참조하는 것\n",
    "b[0] = 6\n",
    "a,b # 따라서 a, b 모두 변한다"
   ]
  },
  {
   "cell_type": "code",
   "execution_count": 22,
   "id": "fac8636b",
   "metadata": {},
   "outputs": [
    {
     "data": {
      "text/plain": [
       "(1904132661376, 1904132661376)"
      ]
     },
     "execution_count": 22,
     "metadata": {},
     "output_type": "execute_result"
    }
   ],
   "source": [
    "id(a), id(b)  # 동일함"
   ]
  },
  {
   "cell_type": "code",
   "execution_count": 23,
   "id": "894f8c51",
   "metadata": {},
   "outputs": [
    {
     "data": {
      "text/plain": [
       "(1904132661376, 1904133462080, 1904133412672, 1904133465536)"
      ]
     },
     "execution_count": 23,
     "metadata": {},
     "output_type": "execute_result"
    }
   ],
   "source": [
    "# shallow copy: 참조하지 않고 새로운 객체에 할당하는 방법. 얕은 복사\n",
    "c = a.copy()\n",
    "d = list(a)\n",
    "e = a[:]\n",
    "\n",
    "id(a), id(c), id(d), id(e)  # 모두 다른 리스트"
   ]
  },
  {
   "cell_type": "code",
   "execution_count": 24,
   "id": "0cfca252",
   "metadata": {},
   "outputs": [
    {
     "data": {
      "text/plain": [
       "[6, 2, 3, 4, [1, 2, 3]]"
      ]
     },
     "execution_count": 24,
     "metadata": {},
     "output_type": "execute_result"
    }
   ],
   "source": [
    "a.append([1,2,3])\n",
    "a"
   ]
  },
  {
   "cell_type": "code",
   "execution_count": 25,
   "id": "b809f0c0",
   "metadata": {},
   "outputs": [
    {
     "data": {
      "text/plain": [
       "[6, 2, 3, 4, [1, 2, 3]]"
      ]
     },
     "execution_count": 25,
     "metadata": {},
     "output_type": "execute_result"
    }
   ],
   "source": [
    "f = a.copy()\n",
    "f"
   ]
  },
  {
   "cell_type": "code",
   "execution_count": 26,
   "id": "d2db8cb4",
   "metadata": {},
   "outputs": [
    {
     "data": {
      "text/plain": [
       "([6, 2, 3, 4, [9, 2, 3]], [6, 2, 3, 4, [9, 2, 3]])"
      ]
     },
     "execution_count": 26,
     "metadata": {},
     "output_type": "execute_result"
    }
   ],
   "source": [
    "f[-1][0] = 9\n",
    "a, f   # 얕은복사 했기 때문에 a,f 모두 바뀜"
   ]
  },
  {
   "cell_type": "code",
   "execution_count": 27,
   "id": "d1b835a9",
   "metadata": {},
   "outputs": [
    {
     "data": {
      "text/plain": [
       "[6, 2, 3, 4, [9, 2, 3]]"
      ]
     },
     "execution_count": 27,
     "metadata": {},
     "output_type": "execute_result"
    }
   ],
   "source": [
    "# deep copy: 깊은 복사, 하위에 중첩된 리스트 요소가 안 바뀌도록\n",
    "\n",
    "import copy\n",
    "g = copy.deepcopy(a)\n",
    "g"
   ]
  },
  {
   "cell_type": "code",
   "execution_count": 28,
   "id": "fab6dddd",
   "metadata": {},
   "outputs": [
    {
     "data": {
      "text/plain": [
       "([6, 2, 3, 4, [9, 2, 3]], [6, 2, 3, 4, [10, 2, 3]])"
      ]
     },
     "execution_count": 28,
     "metadata": {},
     "output_type": "execute_result"
    }
   ],
   "source": [
    "g[-1][0] = 10\n",
    "a, g   # deep copy이기 때문에 a의 값만 바뀜"
   ]
  },
  {
   "cell_type": "code",
   "execution_count": 29,
   "id": "f167c657",
   "metadata": {},
   "outputs": [
    {
     "name": "stdout",
     "output_type": "stream",
     "text": [
      "('kate', 77)\n",
      "('royce', 44)\n",
      "('phill', 54)\n"
     ]
    }
   ],
   "source": [
    "# 순회: zip, enumerate\n",
    "name = ['kate', 'royce', 'phill']\n",
    "age = [77, 44, 54, 99]   # name은 값이 3개라서, 99는 생략됨\n",
    "\n",
    "# zip(name, age) = ('kate', 77), ('royce', 44), ('phill', 54)\n",
    "\n",
    "# (name, age)\n",
    "for item1, item2 in zip(name, age):\n",
    "    print((item1, item2))"
   ]
  },
  {
   "cell_type": "code",
   "execution_count": 30,
   "id": "797102b0",
   "metadata": {},
   "outputs": [
    {
     "name": "stdout",
     "output_type": "stream",
     "text": [
      "('kate', 77)\n",
      "('kate', 44)\n",
      "('kate', 54)\n",
      "('kate', 99)\n",
      "('royce', 77)\n",
      "('royce', 44)\n",
      "('royce', 54)\n",
      "('royce', 99)\n",
      "('phill', 77)\n",
      "('phill', 44)\n",
      "('phill', 54)\n",
      "('phill', 99)\n"
     ]
    }
   ],
   "source": [
    "for item1 in name:\n",
    "    for item2 in age:\n",
    "        print((item1, item2))"
   ]
  },
  {
   "cell_type": "code",
   "execution_count": 99,
   "id": "f1d685ac",
   "metadata": {},
   "outputs": [
    {
     "data": {
      "text/plain": [
       "[('kate', 77), ('royce', 44), ('phill', 54)]"
      ]
     },
     "execution_count": 99,
     "metadata": {},
     "output_type": "execute_result"
    }
   ],
   "source": [
    "list(zip(name,age))"
   ]
  },
  {
   "cell_type": "code",
   "execution_count": 100,
   "id": "7fa035e0",
   "metadata": {},
   "outputs": [
    {
     "name": "stdout",
     "output_type": "stream",
     "text": [
      "0 kate\n",
      "1 royce\n",
      "2 phill\n"
     ]
    }
   ],
   "source": [
    "# 리스트 + 인덱스 enumerate\n",
    "for idx, item in enumerate(name):\n",
    "    print(idx, item)"
   ]
  },
  {
   "cell_type": "code",
   "execution_count": 246,
   "id": "2ff2a703",
   "metadata": {},
   "outputs": [
    {
     "data": {
      "text/plain": [
       "[('kate', 77), ('royce', 44), ('phill', 54)]"
      ]
     },
     "execution_count": 246,
     "metadata": {},
     "output_type": "execute_result"
    }
   ],
   "source": [
    "# 리스트 컴프리헨션\n",
    "[word for word in zip(name, age)]\n",
    "[(i, j) for i, j in zip(name, age)]"
   ]
  },
  {
   "cell_type": "code",
   "execution_count": 248,
   "id": "fbcd85b9",
   "metadata": {},
   "outputs": [
    {
     "name": "stdout",
     "output_type": "stream",
     "text": [
      "[('kate', 77), ('royce', 44), ('phill', 54)]\n"
     ]
    }
   ],
   "source": [
    "# name, age를 이용해서 새로운 리스트를 생성하는데 (이름, 나이)의 형태, for문 사용(리.컴 사용 X)\n",
    "new_list = []\n",
    "for i, j in zip(name, age):\n",
    "    new_list.append((i, j)) # append 사용\n",
    "print(new_list)"
   ]
  },
  {
   "cell_type": "markdown",
   "id": "9375751d",
   "metadata": {},
   "source": [
    "### Quiz\n",
    "\n",
    "#1. for문을 리.컴으로 바꿔보기\n",
    "\n",
    "#2. [i, j] 리스트의 리스트로 바꿔보기(리.컴)"
   ]
  },
  {
   "cell_type": "code",
   "execution_count": 122,
   "id": "51437d94",
   "metadata": {},
   "outputs": [
    {
     "data": {
      "text/plain": [
       "[('kate', 77),\n",
       " ('kate', 44),\n",
       " ('kate', 54),\n",
       " ('royce', 77),\n",
       " ('royce', 44),\n",
       " ('royce', 54),\n",
       " ('phill', 77),\n",
       " ('phill', 44),\n",
       " ('phill', 54)]"
      ]
     },
     "execution_count": 122,
     "metadata": {},
     "output_type": "execute_result"
    }
   ],
   "source": [
    "#1.\n",
    "for i in name:\n",
    "    for j in age:\n",
    "        print(i, j)\n",
    "\n",
    "list_com = [(i,j) for i in name for j in age]\n",
    "list_com"
   ]
  },
  {
   "cell_type": "code",
   "execution_count": 131,
   "id": "f46aadfe",
   "metadata": {},
   "outputs": [
    {
     "data": {
      "text/plain": [
       "[[('kate', 77), ('kate', 44), ('kate', 54)],\n",
       " [('royce', 77), ('royce', 44), ('royce', 54)],\n",
       " [('phill', 77), ('phill', 44), ('phill', 54)]]"
      ]
     },
     "execution_count": 131,
     "metadata": {},
     "output_type": "execute_result"
    }
   ],
   "source": [
    "#2. \n",
    "output = []\n",
    "for i in name:\n",
    "    empty = []\n",
    "    for j in age:\n",
    "        empty.append((i,j))\n",
    "    output.append(empty)\n",
    "output"
   ]
  },
  {
   "cell_type": "code",
   "execution_count": 249,
   "id": "13348008",
   "metadata": {},
   "outputs": [
    {
     "data": {
      "text/plain": [
       "[[('kate', 77), ('royce', 77), ('phill', 77)],\n",
       " [('kate', 44), ('royce', 44), ('phill', 44)],\n",
       " [('kate', 54), ('royce', 54), ('phill', 54)]]"
      ]
     },
     "execution_count": 249,
     "metadata": {},
     "output_type": "execute_result"
    }
   ],
   "source": [
    "[[(i,j) for i in name] for j in age]"
   ]
  },
  {
   "cell_type": "code",
   "execution_count": 137,
   "id": "e15cc194",
   "metadata": {},
   "outputs": [
    {
     "data": {
      "text/plain": [
       "[('DO', 'Do', 2),\n",
       " ('NOT', 'Not', 3),\n",
       " ('JUDGE', 'Judge', 5),\n",
       " ('A', 'A', 1),\n",
       " ('BOOK', 'Book', 4),\n",
       " ('BY', 'By', 2),\n",
       " ('ITS', 'Its', 3),\n",
       " ('COVER', 'Cover', 5)]"
      ]
     },
     "execution_count": 137,
     "metadata": {},
     "output_type": "execute_result"
    }
   ],
   "source": [
    "sentence = 'do not judge a book by its cover'\n",
    "# [(대문자, 첫글자 대문자, 글자수),..]의 리스트 만들기\n",
    "[(word.upper(), word.title(), len(word)) for word in sentence.split(' ')]"
   ]
  },
  {
   "cell_type": "code",
   "execution_count": 138,
   "id": "06a48248",
   "metadata": {},
   "outputs": [],
   "source": [
    "text = [\n",
    "    ['Sunja', 'said', 'goodnight', 'to', 'her', 'mother'],\n",
    "    ['Hansu', 'was', 'no', 'longer', 'in', 'Busan']\n",
    "]\n",
    "#1. 문장마다 스트링으로 변환해서 리스트로 변환\n",
    "    # ['문장1', '문장2']\n",
    "#2. 전체를 스트링으로 변환\n",
    "    # '문장1 문장2'\n",
    "#3. 전체 단어 리스트 가져오기\n",
    "    # [sunja, said, goodnight, ...]"
   ]
  },
  {
   "cell_type": "code",
   "execution_count": 147,
   "id": "5a10ecf5",
   "metadata": {},
   "outputs": [
    {
     "data": {
      "text/plain": [
       "['Sunja said goodnight to her mother', 'Hansu was no longer in Busan']"
      ]
     },
     "execution_count": 147,
     "metadata": {},
     "output_type": "execute_result"
    }
   ],
   "source": [
    "#1. \n",
    "[' '.join(sent) for sent in text]"
   ]
  },
  {
   "cell_type": "code",
   "execution_count": 151,
   "id": "8ee86493",
   "metadata": {},
   "outputs": [
    {
     "data": {
      "text/plain": [
       "'Sunja said goodnight to her mother Hansu was no longer in Busan'"
      ]
     },
     "execution_count": 151,
     "metadata": {},
     "output_type": "execute_result"
    }
   ],
   "source": [
    "#2.\n",
    "' '.join([' '.join(sent) for sent in text])"
   ]
  },
  {
   "cell_type": "code",
   "execution_count": 254,
   "id": "226f0ab5",
   "metadata": {},
   "outputs": [
    {
     "data": {
      "text/plain": [
       "['Sunja',\n",
       " 'said',\n",
       " 'goodnight',\n",
       " 'to',\n",
       " 'her',\n",
       " 'mother',\n",
       " 'Hansu',\n",
       " 'was',\n",
       " 'no',\n",
       " 'longer',\n",
       " 'in',\n",
       " 'Busan']"
      ]
     },
     "execution_count": 254,
     "metadata": {},
     "output_type": "execute_result"
    }
   ],
   "source": [
    "#3.\n",
    "[word for sent in text for word in sent]"
   ]
  },
  {
   "cell_type": "code",
   "execution_count": 153,
   "id": "fac51825",
   "metadata": {},
   "outputs": [
    {
     "data": {
      "text/plain": [
       "[0, 1, 2, 3, 4, 5, 6, 7, 8, 9]"
      ]
     },
     "execution_count": 153,
     "metadata": {},
     "output_type": "execute_result"
    }
   ],
   "source": [
    "# if문 - else 리컴에서 구현\n",
    "[i for i in range(10)]  # 짝수 가져오고, 홀수 = '홀수'"
   ]
  },
  {
   "cell_type": "code",
   "execution_count": 255,
   "id": "fa9a3ebe",
   "metadata": {},
   "outputs": [
    {
     "ename": "SyntaxError",
     "evalue": "invalid syntax (Temp/ipykernel_23160/1504297968.py, line 1)",
     "output_type": "error",
     "traceback": [
      "\u001b[1;36m  File \u001b[1;32m\"C:\\Users\\kupa1\\AppData\\Local\\Temp/ipykernel_23160/1504297968.py\"\u001b[1;36m, line \u001b[1;32m1\u001b[0m\n\u001b[1;33m    [i for i in range(10) if i%2 == 0 else '홀수']  # X\u001b[0m\n\u001b[1;37m                                      ^\u001b[0m\n\u001b[1;31mSyntaxError\u001b[0m\u001b[1;31m:\u001b[0m invalid syntax\n"
     ]
    }
   ],
   "source": [
    "[i for i in range(10) if i%2 == 0 else '홀수']  # X"
   ]
  },
  {
   "cell_type": "code",
   "execution_count": 31,
   "id": "ff5358c5",
   "metadata": {},
   "outputs": [
    {
     "data": {
      "text/plain": [
       "[0, '홀수', 2, '홀수', 4, '홀수', 6, '홀수', 8, '홀수']"
      ]
     },
     "execution_count": 31,
     "metadata": {},
     "output_type": "execute_result"
    }
   ],
   "source": [
    "[i if i%2 == 0 else '홀수' for i in range(10)]  # O\n",
    "# for 앞에 if문이 와야하고,\n",
    "# 반드시 else문도 함께 있어야함"
   ]
  },
  {
   "cell_type": "markdown",
   "id": "1e2a2286",
   "metadata": {},
   "source": [
    "# Quiz: brown 정제하기\n",
    "\n",
    "- [ ['They', 'neither', 'liked', ...], [] ] 형식 지키기\n",
    "- 문장 분절 -> 단어 분절\n",
    "- 불필요한 것들 제거하기\n",
    "    - 문장부호, POS제거\n",
    "    - 's, 'nt (she's -> she, 's) (don't -> don, 't)\n",
    "    - 'fly-dotted' -> fly, dotted"
   ]
  },
  {
   "cell_type": "code",
   "execution_count": 424,
   "id": "b8b12602",
   "metadata": {
    "collapsed": true
   },
   "outputs": [
    {
     "name": "stderr",
     "output_type": "stream",
     "text": [
      "[nltk_data] Downloading package brown to\n",
      "[nltk_data]     C:\\Users\\kupa1\\AppData\\Roaming\\nltk_data...\n",
      "[nltk_data]   Package brown is already up-to-date!\n"
     ]
    },
    {
     "data": {
      "text/plain": [
       "\"\\n\\n\\tThey/ppss neither/cc liked/vbd nor/cc disliked/vbd the/at Old/jj-tl Man/nn-tl ./.\\nTo/in them/ppo he/pps could/md have/hv been/ben the/at broken/vbn bell/nn in/in the/at church/nn tower/nn which/wdt rang/vbd before/in and/cc after/in Mass/nn-tl ,/, and/cc at/in noon/nn ,/, and/cc at/in six/cd each/dt evening/nn --/-- its/pp$ tone/nn ,/, repetitive/jj ,/, monotonous/jj ,/, never/rb breaking/vbg the/at boredom/nn of/in the/at streets/nns ./.\\nThe/at Old/jj-tl Man/nn-tl was/bedz unimportant/jj ./.\\n\\n\\n\\tYet/rb if/cs he/pps were/bed not/* there/rb ,/, they/ppss would/md have/hv missed/vbn him/ppo ,/, as/cs they/ppss would/md have/hv missed/vbn the/at sounds/nns of/in bees/nns buzzing/vbg against/in the/at screen/nn door/nn in/in early/jj June/np ;/. ;/.\\nor/cc the/at smell/nn of/in thick/jj tomato/nn paste/nn --/-- the/at ripe/jj smell/nn that/wps was/bedz both/abx sweet/jj and/cc sour/jj --/-- rising/vbg up/rp from/in aluminum/nn trays/nns wrapped/vbn in/in fly-dotted/jj cheesecloth/nn ./.\\nOr/cc the/at surging/vbg whirling/vbg sounds/nns of/in bats/nns at/in night/nn ,/, when/wrb their/pp$ black/jj bodies/nns dived/vbd into/in the/at blackness/nn above/in and/cc below/in the/at amber/jj street/nn lights/nns ./.\\nOr/cc the/at bay/nn of/in female/nn dogs/nns in/in heat/nn ./.\\n\\n\\n\\tThey/ppss never/rb called/vbd him/ppo by/in name/nn ,/, although/cs he/pps had/hvd one/pn ./.\\nFilippo/np Rossi/np ,/, that's/dt+bez what/wdt he/pps was/bedz called/vbn in/in the/at old/jj country/nn ;/. ;/.\\nbut/cc here/rb he/pps was/bedz just/rb Signore/np or/cc the/at Old/jj-tl Man/nn-tl ./.\\nBut/cc this/dt was/bedz not/* unusual/jj ,/, because/cs youth/nn in/in these/dts quarters/nns was/bedz always/rb pushed/vbn at/in a/at distance/nn from/in its/pp$ elders/nns ./.\\nYouth/nn obeyed/vbd when/wrb commanded/vbn ./.\\nIt/pps went/vbd to/in church/nn on/in Sunday/nr and/cc one/cd Saturday/nr a/at month/nn went/vbd to/in confession/nn ./.\\nBut/cc youth/nn asked/vbd nothing/pn of/in its/pp$ parents/nns --/-- not/* a/at touch/nn of/in the/at hand/nn or/cc a/at kiss/nn given/vbn in/in passing/vbg ./.\\n\\n\\n\\tThe/at only/ap thing/nn unusual/jj about/in the/at Old/jj-tl Man/nn-tl had/hvd long/jj since/rb happened/vbn ./.\\nBut/cc the/at past/nn was/bedz dead/jj here/rb as/cs the/at present/jj was/bedz dead/jj ./.\\nOnce/cs the/at Old/jj-tl Man/nn-tl had/hvd had/hvn a/at wife/nn ./.\\nAnd/cc once/cs she/pps ,/, too/rb ,/, ignored/vbd him/ppo ./.\\nWith/in a/at tiny/jj fur-piece/nn wrapped/vbd around/in her/pp$ shoulders/nns ,/, she/pps wiggled/vbd her/pp$ satin-covered/jj buttocks/nns down/in the/at street/nn before/in him/ppo and/cc didn't/dod* stop/vb ./.\\nIn/in one/cd hand/nn she/pps clutched/vbd a/at hundred/cd dollar/nn bill/nn and/cc in/in the/at other/ap a/at straw/nn suitcase/nn ./.\\nThe/at way/nn she/pps strutted/vbd down/in the/at street/nn ,/, the/at Old/jj-tl Man/nn-tl would/md have/hv been/ben blind/jj not/* to/to have/hv noticed/vbn both/abx ./.\\nWithout/in looking/vbg at/in him/ppo ,/, without/in looking/vbg at/in anything/pn except/in Drexel/np-tl Street/nn-tl directly/rb in/in front/nn of/in her/ppo ,/, she/pps climbed/vbd up/rp into/in one/cd of/in those/dts orange/jj streetcars/nns ,/, rode/vbd away/rb in/in it/ppo ,/, and/cc never/rb came/vbd back/rb ./.\\n\\n\\n\\t``/`` But/cc she/pps shouldn't/md* have/hv come/vbn here/rb in/in the/at first/od place/nn ''/'' ,/, the/at women/nns had/hvd said/vbn ./.\\n\\n\\n\\t``/`` No/rb ,/, no/rb ./.\\nNot/* that/dt one/pn ./.\\nShe/pps thought/vbd she/pps was/bedz bigger/jjr than/cs we/ppss are/ber because/cs she/pps came/vbd from/in Torino/np ''/'' ./.\\n\\n\\n\\t``/`` Eh/uh ,/, Torino/np !/. !/.\\nShe/pps gave/vbd herself/ppl fancy/jj airs/nns !/. !/.\\nJust/rb because/cs she/pps had/hvd a/at part/nn on/in the/at stage/nn in/in the/at old/jj country/nn ,/, she/pps thought/vbd she/pps could/md carry/vb her/pp$ head/nn higher/rbr than/cs ours/pp$$ ''/'' ./.\\nThey/ppss had/hvd slapped/vbn their/pp$ thighs/nns ./.\\n\\n\\n\\t``/`` It's/pps+bez not/* for/in making/vbg pretty/jj speeches/nns about/in Dante/np those/dts actresses/nns get/vb paid/vbn so/ql good/rb ''/'' ./.\\n\\n\\n\\t``/`` Henh/uh ''/'' !/. !/.\\nCalloused/vbn fingers/nns ,/, caressed/vbn only/rb by/in the/at smoothness/nn of/in polished/vbn rosaries/nns ,/, had/hvd swayed/vbn excitedly/rb beneath/in puckered/vbn chins/nns where/wrb tiny/jj black/jj hairs/nns sprouted/vbd ,/, never/rb to/to be/be tweezed/vbn away/rb ./.\\nMauve-colored/jj mouths/nns that/wps had/hvd never/rb known/vbn anything/pn sweeter/jjr than/cs the/at taste/nn of/in new/jj wine/nn and/cc the/at passion/nn of/in man's/nn$ tongue/nn had/hvd not/* smiled/vbn ,/, but/cc had/hvd condemned/vbn again/rb and/cc again/rb ./.\\n``/`` Puttana/fw-nn ''/'' !/. !/.\\n\\n\\n\\tBut/cc if/cs the/at Old/jj-tl Man/nn-tl even/rb thought/vbd about/in his/pp$ wife/nn now/rb ,/, nobody/pn cared/vbd a/at fig/nn ./.\\nIt/pps was/bedz enough/ap for/in people/nns to/to know/vb that/cs at/in one/cd time/nn he/pps had/hvd looked/vbn down/in the/at street/nn at/in the/at f\""
      ]
     },
     "execution_count": 424,
     "metadata": {},
     "output_type": "execute_result"
    }
   ],
   "source": [
    "import nltk\n",
    "nltk.download('brown')\n",
    "brown = nltk.corpus.brown\n",
    "\n",
    "brown.raw(categories = 'romance')[:5000] "
   ]
  },
  {
   "cell_type": "code",
   "execution_count": null,
   "id": "9c91cd59",
   "metadata": {},
   "outputs": [],
   "source": []
  }
 ],
 "metadata": {
  "kernelspec": {
   "display_name": "Python 3 (ipykernel)",
   "language": "python",
   "name": "python3"
  },
  "language_info": {
   "codemirror_mode": {
    "name": "ipython",
    "version": 3
   },
   "file_extension": ".py",
   "mimetype": "text/x-python",
   "name": "python",
   "nbconvert_exporter": "python",
   "pygments_lexer": "ipython3",
   "version": "3.9.7"
  }
 },
 "nbformat": 4,
 "nbformat_minor": 5
}
