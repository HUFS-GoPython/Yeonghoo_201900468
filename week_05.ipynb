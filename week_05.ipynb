{
 "cells": [
  {
   "cell_type": "markdown",
   "id": "7c8efed8",
   "metadata": {},
   "source": [
    "## 반복문\n",
    "- while loop\n",
    "- for loop\n",
    "\n",
    "### while loop\n",
    "- 어떤 조건이 만족하는 동안 명령 블록을 수행한다.\n",
    "- if + for loop의 형태\n",
    "- 해당 조건이 거짓이면 멈춘다. => 언제 멈추는지 그 시점을 정확히 파악해야함.\n",
    "\n",
    "### for vs. while\n",
    "- for: 반복 횟수가 정해짐, 정확함, 변하지 않음\n",
    "    - ex) 20명 성적 산출\n",
    "- while: 횟수 정해지지 않음(중요하지 않다). \n",
    "    - 어떤 조건을 만족시킬 때 빠져나오게 하는 게 중요할 때 사용\n",
    "    - ex) 가위바위보 이겼을 때 빠져나온다."
   ]
  },
  {
   "cell_type": "code",
   "execution_count": 1,
   "id": "63541a04",
   "metadata": {},
   "outputs": [
    {
     "name": "stdout",
     "output_type": "stream",
     "text": [
      "0\n",
      "1\n",
      "2\n",
      "3\n",
      "4\n",
      "5\n",
      "6\n",
      "7\n",
      "8\n",
      "9\n"
     ]
    }
   ],
   "source": [
    "for i in range(10):  # range(0,10,1)\n",
    "    print(i)   # 0~9까지 출력"
   ]
  },
  {
   "cell_type": "code",
   "execution_count": 68,
   "id": "de141eac",
   "metadata": {},
   "outputs": [
    {
     "name": "stdout",
     "output_type": "stream",
     "text": [
      "1\n",
      "2\n",
      "3\n",
      "4\n",
      "5\n",
      "6\n",
      "7\n",
      "8\n",
      "9\n",
      "10\n"
     ]
    }
   ],
   "source": [
    "for i in range(1,11):  # 1~10까지 출력하고 싶을 때\n",
    "    print(i)"
   ]
  },
  {
   "cell_type": "code",
   "execution_count": 4,
   "id": "3ae99039",
   "metadata": {},
   "outputs": [
    {
     "name": "stdout",
     "output_type": "stream",
     "text": [
      "0\n",
      "1\n",
      "2\n"
     ]
    }
   ],
   "source": [
    "# 1번 케이스)\n",
    "\n",
    "j = 0   # 변수 초기화\n",
    "while j < 3:  # 0, 1, 2, False(3)\n",
    "    print(j)  # 0, 1, 2\n",
    "    j += 1  # 1, 2, 3   # for loop이랑 다르게 변수 값 직접 변화시켜줘야함"
   ]
  },
  {
   "cell_type": "code",
   "execution_count": 3,
   "id": "c69a0df2",
   "metadata": {},
   "outputs": [
    {
     "name": "stdout",
     "output_type": "stream",
     "text": [
      "1\n",
      "2\n",
      "3\n"
     ]
    }
   ],
   "source": [
    "# 2번 케이스)\n",
    "\n",
    "j = 0   # 초기화\n",
    "while j < 3:  # 0, 1, 2, False(3)\n",
    "    j += 1  # 1, 2, 3\n",
    "    print(j)  # 1, 2, 3\n",
    "# 루프가 언제 멈추는지 중요!!\n",
    "# 코드의 순서에 따라 출력값 달라지므로, 주의!"
   ]
  },
  {
   "cell_type": "code",
   "execution_count": 69,
   "id": "ba70b654",
   "metadata": {},
   "outputs": [
    {
     "name": "stdout",
     "output_type": "stream",
     "text": [
      "burger\n",
      "pizza\n",
      "rice\n",
      "spaghetti\n"
     ]
    }
   ],
   "source": [
    "### 예제)\n",
    "\n",
    "food = ['burger', 'pizza', 'rice', 'spaghetti']\n",
    "for ch in food:\n",
    "    print(ch)"
   ]
  },
  {
   "cell_type": "code",
   "execution_count": 73,
   "id": "3446b4dc",
   "metadata": {},
   "outputs": [
    {
     "name": "stdout",
     "output_type": "stream",
     "text": [
      "burger\n",
      "pizza\n",
      "rice\n",
      "spaghetti\n"
     ]
    }
   ],
   "source": [
    "i = 0\n",
    "num = len(food)  # 리스트의 길이가 변하는 경우, len()을 활용하면 좋다\n",
    "while i < num:\n",
    "    print(food[i])  # 0,1,2,3,False(4)\n",
    "    i += 1  # 1,2,3,4"
   ]
  },
  {
   "cell_type": "markdown",
   "id": "bf9ad72a",
   "metadata": {},
   "source": [
    "### 반복문 제어\n",
    "- 되도록 사용하지 않는다.\n",
    "    - 의도치 않은 오류를 위해\n",
    "- break: 논리적으로 반복을 종료시킬 때\n",
    "- else: 어떤 조건이 완전히 끝났을 때 한번 더 실행함. break 시에는 실행 안됨\n",
    "    - 어느 지점에서 종료되었는지 확인할 때 사용\n",
    "- continue: 특정 조건을 건너뛰고 다음 조건 실행(처음으로 돌아감)"
   ]
  },
  {
   "cell_type": "code",
   "execution_count": 74,
   "id": "ee5edfc6",
   "metadata": {},
   "outputs": [
    {
     "name": "stdout",
     "output_type": "stream",
     "text": [
      "0\n",
      "1\n",
      "2\n",
      "3\n",
      "4\n",
      "5\n",
      "6\n",
      "7\n",
      "8\n",
      "9\n",
      "ended\n"
     ]
    }
   ],
   "source": [
    "j = 0   # 초기화\n",
    "while j < 10:  \n",
    "    print(j)  \n",
    "    j += 1  \n",
    "else:\n",
    "    print('ended')  # 조건 끝난 후"
   ]
  },
  {
   "cell_type": "code",
   "execution_count": 75,
   "id": "05dfb96c",
   "metadata": {},
   "outputs": [
    {
     "name": "stdout",
     "output_type": "stream",
     "text": [
      "0\n",
      "1\n",
      "2\n",
      "3\n",
      "4\n",
      "5\n",
      "6\n",
      "7\n",
      "8\n",
      "9\n",
      "10\n",
      "11\n",
      "12\n",
      "13\n",
      "14\n",
      "15\n"
     ]
    }
   ],
   "source": [
    "j = 0   # 초기화\n",
    "while True:  \n",
    "    print(j)  \n",
    "    j += 1\n",
    "    if j == 16:\n",
    "        break\n",
    "else:\n",
    "    print('ended') # break에 걸리면 else는 실행되지 않음"
   ]
  },
  {
   "cell_type": "code",
   "execution_count": 5,
   "id": "de52bfac",
   "metadata": {},
   "outputs": [
    {
     "name": "stdout",
     "output_type": "stream",
     "text": [
      "0\n",
      "1\n",
      "2\n",
      "3\n",
      "4\n",
      "5\n"
     ]
    }
   ],
   "source": [
    "for i in range(10):\n",
    "    if i == 6:\n",
    "        break\n",
    "    print(i) # 6 출력 안됨\n",
    "else:\n",
    "    print('ended')"
   ]
  },
  {
   "cell_type": "markdown",
   "id": "1e1969fc",
   "metadata": {},
   "source": [
    "### 구구단 프로그램\n",
    "\n",
    "변수는 입력을 받아서 사용함\n",
    "- 1. n단 출력\n",
    "- 2. 1 ~ n단 까지 출력\n",
    "- 3. n, m 모두 입력 받아서 출력\n",
    "    - n > m 일 때?\n",
    "- 4. 프로그램으로 만듦\n",
    "    - 메뉴: 1) n, 2) 1 ~ n, 3) n ~ m단\n",
    "    - 메뉴에 없는 옵션 선택할 때?\n",
    "    - print format 사용할 것"
   ]
  },
  {
   "cell_type": "code",
   "execution_count": 1,
   "id": "efebb144",
   "metadata": {},
   "outputs": [
    {
     "name": "stdout",
     "output_type": "stream",
     "text": [
      "출력할 단을 입력하세요(9 이하)>>> 3\n",
      "-----3단-----\n",
      "3 x 1 = 3\n",
      "3 x 2 = 6\n",
      "3 x 3 = 9\n",
      "3 x 4 = 12\n",
      "3 x 5 = 15\n",
      "3 x 6 = 18\n",
      "3 x 7 = 21\n",
      "3 x 8 = 24\n",
      "3 x 9 = 27\n"
     ]
    }
   ],
   "source": [
    "# n 단 출력하는 코드\n",
    "\n",
    "while True:\n",
    "    dan = int(input('출력할 단을 입력하세요(9 이하)>>> '))\n",
    "    if dan > 9:\n",
    "        print('구구단은 9단까지입니다.')\n",
    "        continue\n",
    "    print('-----{}단-----'.format(dan))\n",
    "    for i in range(1,10):\n",
    "        print('{} x {} = {}'.format(dan, i, dan * i))\n",
    "    break"
   ]
  },
  {
   "cell_type": "code",
   "execution_count": 77,
   "id": "3e064a57",
   "metadata": {},
   "outputs": [
    {
     "name": "stdout",
     "output_type": "stream",
     "text": [
      "숫자를 입력하세요(9 이하)>>>3\n",
      "-----1단-----\n",
      "1 x 1 = 1\n",
      "1 x 2 = 2\n",
      "1 x 3 = 3\n",
      "1 x 4 = 4\n",
      "1 x 5 = 5\n",
      "1 x 6 = 6\n",
      "1 x 7 = 7\n",
      "1 x 8 = 8\n",
      "1 x 9 = 9\n",
      "\n",
      "-----2단-----\n",
      "2 x 1 = 2\n",
      "2 x 2 = 4\n",
      "2 x 3 = 6\n",
      "2 x 4 = 8\n",
      "2 x 5 = 10\n",
      "2 x 6 = 12\n",
      "2 x 7 = 14\n",
      "2 x 8 = 16\n",
      "2 x 9 = 18\n",
      "\n",
      "-----3단-----\n",
      "3 x 1 = 3\n",
      "3 x 2 = 6\n",
      "3 x 3 = 9\n",
      "3 x 4 = 12\n",
      "3 x 5 = 15\n",
      "3 x 6 = 18\n",
      "3 x 7 = 21\n",
      "3 x 8 = 24\n",
      "3 x 9 = 27\n",
      "\n"
     ]
    }
   ],
   "source": [
    "# 1 ~ n 단 출력하는 코드\n",
    "\n",
    "dan = int(input('숫자를 입력하세요(9 이하)>>>'))\n",
    "for i in range(1,dan+1):\n",
    "    print('-----{}단-----'.format(i))\n",
    "    for j in range(1,10):\n",
    "        print('{} x {} = {}'.format(i, j, i * j))\n",
    "    print()"
   ]
  },
  {
   "cell_type": "code",
   "execution_count": 79,
   "id": "8ff4faeb",
   "metadata": {},
   "outputs": [
    {
     "name": "stdout",
     "output_type": "stream",
     "text": [
      "시작 단을 입력하세요(9 이하)>>>3\n",
      "끝 단을 입력하세요(9 이하)>>>7\n",
      "-----3단-----\n",
      "3 x 1 = 3\n",
      "3 x 2 = 6\n",
      "3 x 3 = 9\n",
      "3 x 4 = 12\n",
      "3 x 5 = 15\n",
      "3 x 6 = 18\n",
      "3 x 7 = 21\n",
      "3 x 8 = 24\n",
      "3 x 9 = 27\n",
      "\n",
      "-----4단-----\n",
      "4 x 1 = 4\n",
      "4 x 2 = 8\n",
      "4 x 3 = 12\n",
      "4 x 4 = 16\n",
      "4 x 5 = 20\n",
      "4 x 6 = 24\n",
      "4 x 7 = 28\n",
      "4 x 8 = 32\n",
      "4 x 9 = 36\n",
      "\n",
      "-----5단-----\n",
      "5 x 1 = 5\n",
      "5 x 2 = 10\n",
      "5 x 3 = 15\n",
      "5 x 4 = 20\n",
      "5 x 5 = 25\n",
      "5 x 6 = 30\n",
      "5 x 7 = 35\n",
      "5 x 8 = 40\n",
      "5 x 9 = 45\n",
      "\n",
      "-----6단-----\n",
      "6 x 1 = 6\n",
      "6 x 2 = 12\n",
      "6 x 3 = 18\n",
      "6 x 4 = 24\n",
      "6 x 5 = 30\n",
      "6 x 6 = 36\n",
      "6 x 7 = 42\n",
      "6 x 8 = 48\n",
      "6 x 9 = 54\n",
      "\n",
      "-----7단-----\n",
      "7 x 1 = 7\n",
      "7 x 2 = 14\n",
      "7 x 3 = 21\n",
      "7 x 4 = 28\n",
      "7 x 5 = 35\n",
      "7 x 6 = 42\n",
      "7 x 7 = 49\n",
      "7 x 8 = 56\n",
      "7 x 9 = 63\n",
      "\n"
     ]
    }
   ],
   "source": [
    "# n ~ m단 출력하는 프로그램\n",
    "\n",
    "while True:\n",
    "    n = int(input('시작 단을 입력하세요(9 이하)>>>'))\n",
    "    m = int(input('끝 단을 입력하세요(9 이하)>>>'))\n",
    "    if n > 9 or m > 9:\n",
    "        print('9 이상의 수는 입력받지 않습니다.')\n",
    "        continue\n",
    "        \n",
    "    if n < m:\n",
    "        for i in range(n, m+1):\n",
    "            print('-----{}단-----'.format(i))\n",
    "            for j in range(1,10):\n",
    "                print('{} x {} = {}'.format(i,j,i*j))\n",
    "            print()\n",
    "        break\n",
    "    else:  # n > m 일 때\n",
    "        print('잘못된 입력입니다.')"
   ]
  },
  {
   "cell_type": "code",
   "execution_count": 1,
   "id": "17b3e65a",
   "metadata": {},
   "outputs": [
    {
     "name": "stdout",
     "output_type": "stream",
     "text": [
      "1) n단 출력\n",
      "2) 1 ~ n단 출력\n",
      "3) n ~ m단 출력\n",
      "프로그램을 선택하세요(1~3 입력)>>> 0\n",
      "1 ~ 3 사이의 수만 입력하세요.\n",
      "프로그램을 선택하세요(1~3 입력)>>> 2\n",
      "몇 단까지 출력하시겠습니까?>>> 3\n",
      "-----1단----\n",
      "1 x 1 = 1\n",
      "1 x 2 = 2\n",
      "1 x 3 = 3\n",
      "1 x 4 = 4\n",
      "1 x 5 = 5\n",
      "1 x 6 = 6\n",
      "1 x 7 = 7\n",
      "1 x 8 = 8\n",
      "1 x 9 = 9\n",
      "-----2단----\n",
      "2 x 1 = 2\n",
      "2 x 2 = 4\n",
      "2 x 3 = 6\n",
      "2 x 4 = 8\n",
      "2 x 5 = 10\n",
      "2 x 6 = 12\n",
      "2 x 7 = 14\n",
      "2 x 8 = 16\n",
      "2 x 9 = 18\n",
      "-----3단----\n",
      "3 x 1 = 3\n",
      "3 x 2 = 6\n",
      "3 x 3 = 9\n",
      "3 x 4 = 12\n",
      "3 x 5 = 15\n",
      "3 x 6 = 18\n",
      "3 x 7 = 21\n",
      "3 x 8 = 24\n",
      "3 x 9 = 27\n"
     ]
    }
   ],
   "source": [
    "### 구구단 출력 프로그램\n",
    "\n",
    "print('''1) n단 출력\n",
    "2) 1 ~ n단 출력\n",
    "3) n ~ m단 출력''')\n",
    "\n",
    "while True:\n",
    "    menu_num = int(input('프로그램을 선택하세요(1~3 입력)>>> '))\n",
    "    if menu_num < 1 or menu_num > 3:\n",
    "        print('1 ~ 3 사이의 수만 입력하세요.')\n",
    "        continue\n",
    "\n",
    "\n",
    "    elif menu_num == 1:\n",
    "        while True:\n",
    "            dan = int(input('몇 단을 출력하시겠습니까?(9 이하)>>> '))\n",
    "            if dan > 9:\n",
    "                print('숫자를 다시 입력하시오.')\n",
    "                continue\n",
    "            print('-----{}단----'.format(dan))\n",
    "            for i in range(1,10):\n",
    "                print('{} x {} = {}'.format(dan, i, dan * i))\n",
    "            break\n",
    "        break\n",
    "    \n",
    "    elif menu_num == 2:\n",
    "        while True:\n",
    "            n = int(input('몇 단까지 출력하시겠습니까?>>> '))\n",
    "            if n > 9:\n",
    "                print('숫자를 다시 입력하시오.')\n",
    "                continue\n",
    "            for i in range(1, n+1):\n",
    "                print('-----{}단----'.format(i))\n",
    "                for j in range(1,10):\n",
    "                    print('{} x {} = {}'.format(i, j, i * j))\n",
    "            break\n",
    "        break\n",
    "    \n",
    "    elif menu_num == 3:\n",
    "        while True:\n",
    "            n = int(input('시작 단을 입력하세요(9 이하)>>>'))\n",
    "            m = int(input('끝 단을 입력하세요(9 이하)>>>'))\n",
    "            if n > 9 or m > 9:\n",
    "                print('9 이상의 수입니다.')\n",
    "                continue\n",
    "\n",
    "            if n < m:\n",
    "                for i in range(n, m+1):\n",
    "                    print('---{}단---'.format(i))\n",
    "                    for j in range(1,10):\n",
    "                        print('{} x {} = {}'.format(i,j,i*j))\n",
    "                break\n",
    "            else:\n",
    "                print('잘못된 입력입니다.')\n",
    "        break"
   ]
  },
  {
   "cell_type": "code",
   "execution_count": null,
   "id": "f981e13b",
   "metadata": {},
   "outputs": [],
   "source": []
  },
  {
   "cell_type": "markdown",
   "id": "9e53c3b0",
   "metadata": {},
   "source": [
    "## NLTK"
   ]
  },
  {
   "cell_type": "code",
   "execution_count": 1,
   "id": "efdf3044",
   "metadata": {},
   "outputs": [
    {
     "name": "stdout",
     "output_type": "stream",
     "text": [
      "*** Introductory Examples for the NLTK Book ***\n",
      "Loading text1, ..., text9 and sent1, ..., sent9\n",
      "Type the name of the text or sentence to view it.\n",
      "Type: 'texts()' or 'sents()' to list the materials.\n",
      "text1: Moby Dick by Herman Melville 1851\n",
      "text2: Sense and Sensibility by Jane Austen 1811\n",
      "text3: The Book of Genesis\n",
      "text4: Inaugural Address Corpus\n",
      "text5: Chat Corpus\n",
      "text6: Monty Python and the Holy Grail\n",
      "text7: Wall Street Journal\n",
      "text8: Personals Corpus\n",
      "text9: The Man Who Was Thursday by G . K . Chesterton 1908\n"
     ]
    }
   ],
   "source": [
    "import nltk\n",
    "from nltk.book import *"
   ]
  },
  {
   "cell_type": "markdown",
   "id": "aa52d9db",
   "metadata": {},
   "source": [
    "#### 학우님 질문: texts = [text1, text2, ...] 이렇게 무식하게 가져오는 법 말고 코드를 이용해서 편하게 담는 법 있나요?"
   ]
  },
  {
   "cell_type": "markdown",
   "id": "cdbec100",
   "metadata": {},
   "source": [
    "#### text1 ~ 9\n",
    "    # text1 vs 'text1'\n",
    "    # text1 ~ 9 string으로 가져오기\n",
    "    # string -> fx : getattr(library, 'string_name')\n",
    "        - string에서 기능이 있는 함수로 변환"
   ]
  },
  {
   "cell_type": "code",
   "execution_count": 3,
   "id": "ff0e50b1",
   "metadata": {},
   "outputs": [],
   "source": [
    "texts = [text1, text2, ...]"
   ]
  },
  {
   "cell_type": "code",
   "execution_count": 2,
   "id": "e40a0c6e",
   "metadata": {},
   "outputs": [
    {
     "data": {
      "text/plain": [
       "['text1',\n",
       " 'text2',\n",
       " 'text3',\n",
       " 'text4',\n",
       " 'text5',\n",
       " 'text6',\n",
       " 'text7',\n",
       " 'text8',\n",
       " 'text9']"
      ]
     },
     "execution_count": 2,
     "metadata": {},
     "output_type": "execute_result"
    }
   ],
   "source": [
    "# 1. str형태의 text들로 리스트 구성\n",
    "texts = [f'text{i}' for i in range(1,10)]\n",
    "texts"
   ]
  },
  {
   "cell_type": "code",
   "execution_count": 4,
   "id": "fc10a5fb",
   "metadata": {},
   "outputs": [
    {
     "data": {
      "text/plain": [
       "[<Text: Moby Dick by Herman Melville 1851>,\n",
       " <Text: Sense and Sensibility by Jane Austen 1811>,\n",
       " <Text: The Book of Genesis>,\n",
       " <Text: Inaugural Address Corpus>,\n",
       " <Text: Chat Corpus>,\n",
       " <Text: Monty Python and the Holy Grail>,\n",
       " <Text: Wall Street Journal>,\n",
       " <Text: Personals Corpus>,\n",
       " <Text: The Man Who Was Thursday by G . K . Chesterton 1908>]"
      ]
     },
     "execution_count": 4,
     "metadata": {},
     "output_type": "execute_result"
    }
   ],
   "source": [
    "# 2. str 형태의 값들을 기능이 있는 값들로 변환: getattr() 사용\n",
    "texts = [getattr(nltk.book, f'text{i}') for i in range(1,10)]\n",
    "texts"
   ]
  },
  {
   "cell_type": "markdown",
   "id": "06040816",
   "metadata": {},
   "source": [
    "### NLTK corpus(말뭉치): 자연어 분석 작업을 위해 만든 샘플 문서 집합\n",
    "- 코퍼스 + 테마\n",
    "- 종류\n",
    "    - brown\n",
    "    - gutenberg\n",
    "    - inaugural\n",
    "- methods\n",
    "    - words()  # = nltk의 tokens\n",
    "    - sents()\n",
    "    - raw()\n",
    "    - fileids()"
   ]
  },
  {
   "cell_type": "code",
   "execution_count": 5,
   "id": "f23bd03e",
   "metadata": {},
   "outputs": [
    {
     "name": "stderr",
     "output_type": "stream",
     "text": [
      "[nltk_data] Downloading package brown to\n",
      "[nltk_data]     C:\\Users\\kupa1\\AppData\\Roaming\\nltk_data...\n",
      "[nltk_data]   Package brown is already up-to-date!\n",
      "[nltk_data] Downloading package gutenberg to\n",
      "[nltk_data]     C:\\Users\\kupa1\\AppData\\Roaming\\nltk_data...\n",
      "[nltk_data]   Package gutenberg is already up-to-date!\n",
      "[nltk_data] Downloading package inaugural to\n",
      "[nltk_data]     C:\\Users\\kupa1\\AppData\\Roaming\\nltk_data...\n",
      "[nltk_data]   Package inaugural is already up-to-date!\n"
     ]
    },
    {
     "data": {
      "text/plain": [
       "True"
      ]
     },
     "execution_count": 5,
     "metadata": {},
     "output_type": "execute_result"
    }
   ],
   "source": [
    "# gutenberg import\n",
    "from nltk.corpus import gutenberg\n",
    "nltk.download(['brown', 'gutenberg', 'inaugural'])"
   ]
  },
  {
   "cell_type": "code",
   "execution_count": 7,
   "id": "436ec2e2",
   "metadata": {},
   "outputs": [
    {
     "data": {
      "text/plain": [
       "<PlaintextCorpusReader in 'C:\\\\Users\\\\kupa1\\\\AppData\\\\Roaming\\\\nltk_data\\\\corpora\\\\gutenberg'>"
      ]
     },
     "execution_count": 7,
     "metadata": {},
     "output_type": "execute_result"
    }
   ],
   "source": [
    "# gutenberg import\n",
    "gutenberg = nltk.corpus.gutenberg\n",
    "gutenberg"
   ]
  },
  {
   "cell_type": "code",
   "execution_count": 10,
   "id": "11c536d4",
   "metadata": {},
   "outputs": [
    {
     "data": {
      "text/plain": [
       "['austen-emma.txt',\n",
       " 'austen-persuasion.txt',\n",
       " 'austen-sense.txt',\n",
       " 'bible-kjv.txt',\n",
       " 'blake-poems.txt',\n",
       " 'bryant-stories.txt',\n",
       " 'burgess-busterbrown.txt',\n",
       " 'carroll-alice.txt',\n",
       " 'chesterton-ball.txt',\n",
       " 'chesterton-brown.txt',\n",
       " 'chesterton-thursday.txt',\n",
       " 'edgeworth-parents.txt',\n",
       " 'melville-moby_dick.txt',\n",
       " 'milton-paradise.txt',\n",
       " 'shakespeare-caesar.txt',\n",
       " 'shakespeare-hamlet.txt',\n",
       " 'shakespeare-macbeth.txt',\n",
       " 'whitman-leaves.txt']"
      ]
     },
     "execution_count": 10,
     "metadata": {},
     "output_type": "execute_result"
    }
   ],
   "source": [
    "gutenberg.fileids()  # 저작권 만료된 소설 리스트"
   ]
  },
  {
   "cell_type": "markdown",
   "id": "f30e1f57",
   "metadata": {},
   "source": [
    "### Quiz\n",
    "각 파일마다 word, character, sents 개수 출력하기"
   ]
  },
  {
   "cell_type": "code",
   "execution_count": 20,
   "id": "8f5884b7",
   "metadata": {},
   "outputs": [
    {
     "data": {
      "text/plain": [
       "['[', 'Emma', 'by', 'Jane', 'Austen', '1816', ']', ...]"
      ]
     },
     "execution_count": 20,
     "metadata": {},
     "output_type": "execute_result"
    }
   ],
   "source": [
    "gutenberg.words(fileids = ['austen-emma.txt',\n",
    " 'austen-persuasion.txt',\n",
    " 'austen-sense.txt',\n",
    " 'bible-kjv.txt',\n",
    " 'blake-poems.txt',\n",
    " 'bryant-stories.txt',\n",
    " 'burgess-busterbrown.txt',\n",
    " 'carroll-alice.txt',\n",
    " 'chesterton-ball.txt',\n",
    " 'chesterton-brown.txt',\n",
    " 'chesterton-thursday.txt',\n",
    " 'edgeworth-parents.txt',\n",
    " 'melville-moby_dick.txt',\n",
    " 'milton-paradise.txt',\n",
    " 'shakespeare-caesar.txt',\n",
    " 'shakespeare-hamlet.txt',\n",
    " 'shakespeare-macbeth.txt',\n",
    " 'whitman-leaves.txt'])"
   ]
  },
  {
   "cell_type": "code",
   "execution_count": 8,
   "id": "ea42560e",
   "metadata": {},
   "outputs": [
    {
     "name": "stdout",
     "output_type": "stream",
     "text": [
      "austen-emma.txt의 단어수: 192427, 문장 수: 7752, 글자 수: 887071\n",
      "austen-persuasion.txt의 단어수: 98171, 문장 수: 3747, 글자 수: 466292\n",
      "austen-sense.txt의 단어수: 141576, 문장 수: 4999, 글자 수: 673022\n",
      "bible-kjv.txt의 단어수: 1010654, 문장 수: 30103, 글자 수: 4332554\n",
      "blake-poems.txt의 단어수: 8354, 문장 수: 438, 글자 수: 38153\n",
      "bryant-stories.txt의 단어수: 55563, 문장 수: 2863, 글자 수: 249439\n",
      "burgess-busterbrown.txt의 단어수: 18963, 문장 수: 1054, 글자 수: 84663\n",
      "carroll-alice.txt의 단어수: 34110, 문장 수: 1703, 글자 수: 144395\n",
      "chesterton-ball.txt의 단어수: 96996, 문장 수: 4779, 글자 수: 457450\n",
      "chesterton-brown.txt의 단어수: 86063, 문장 수: 3806, 글자 수: 406629\n",
      "chesterton-thursday.txt의 단어수: 69213, 문장 수: 3742, 글자 수: 320525\n",
      "edgeworth-parents.txt의 단어수: 210663, 문장 수: 10230, 글자 수: 935158\n",
      "melville-moby_dick.txt의 단어수: 260819, 문장 수: 10059, 글자 수: 1242990\n",
      "milton-paradise.txt의 단어수: 96825, 문장 수: 1851, 글자 수: 468220\n",
      "shakespeare-caesar.txt의 단어수: 25833, 문장 수: 2163, 글자 수: 112310\n",
      "shakespeare-hamlet.txt의 단어수: 37360, 문장 수: 3106, 글자 수: 162881\n",
      "shakespeare-macbeth.txt의 단어수: 23140, 문장 수: 1907, 글자 수: 100351\n",
      "whitman-leaves.txt의 단어수: 154883, 문장 수: 4250, 글자 수: 711215\n"
     ]
    }
   ],
   "source": [
    "gutenbergs = gutenberg.fileids()\n",
    "for text in gutenbergs:\n",
    "    word_num = len(gutenberg.words(text))\n",
    "    sent_num = len(gutenberg.sents(text))\n",
    "    raw_num = len(gutenberg.raw(text))\n",
    "    print(f'{text}의 단어수: {word_num}, 문장 수: {sent_num}, 글자 수: {raw_num}')"
   ]
  },
  {
   "cell_type": "markdown",
   "id": "5b452ae7",
   "metadata": {},
   "source": [
    "### Gutenberg Quiz\n",
    "- 1. shakespeare-caesar의 중복된 단어를 거르고 각 단어의 길이를 출력하시오.\n",
    "- 2. chesterton-thursday에서 길이가 4자 이하인 알파벳 중 ie를 포함하는 단어를 소문자로 출력하고, 개수를 세어라.\n",
    "- 3. bryant-stories에서 ch로 끝나는 단어를 출력하는데, 중복 없이, 첫글자(모두 소문자)와 ch만 남기고 가운데 글자들은 모두 -로 가려라.\n",
    "    - much -> m-ch"
   ]
  },
  {
   "cell_type": "code",
   "execution_count": 13,
   "id": "b2ded7e9",
   "metadata": {},
   "outputs": [
    {
     "name": "stdout",
     "output_type": "stream",
     "text": [
      "[7, 8, 5, 6, 5, 8, 11, 5, 6, 5]\n"
     ]
    }
   ],
   "source": [
    "# 1. \n",
    "file = [word.lower() for word in gutenberg.words('shakespeare-caesar.txt')]\n",
    "length = [len(word) for word in set(file)]\n",
    "print(length[:10]) #10개만 출력"
   ]
  },
  {
   "cell_type": "code",
   "execution_count": 14,
   "id": "ebe92829",
   "metadata": {},
   "outputs": [
    {
     "name": "stdout",
     "output_type": "stream",
     "text": [
      "['foie', 'died', 'pier', 'died', 'lies', 'died', 'lie', 'tie', 'tie', 'die', 'tied', 'pie', 'die', 'die', 'die', 'die', 'died', 'died', 'die', 'die', 'die', 'erie', 'view', 'die', 'pier', 'dies', 'die', 'pier', 'pier', 'die', 'pier', 'tied', 'die', 'view', 'tie', 'lie', 'lie']\n",
      "37\n"
     ]
    }
   ],
   "source": [
    "# 2. (중복 제거하라는 조건 X)\n",
    "words = [word.lower() for word in gutenberg.words('chesterton-thursday.txt') if word.isalpha() and len(word) <= 4 and 'ie' in word]\n",
    "print(words)\n",
    "print(len(words))"
   ]
  },
  {
   "cell_type": "code",
   "execution_count": 18,
   "id": "7cd7e0f1",
   "metadata": {},
   "outputs": [
    {
     "name": "stdout",
     "output_type": "stream",
     "text": [
      "['p--ch', 'm-ch', 'l--ch', 'p--ch', 't--ch', 'b---ch', 'w--ch', 'c---ch', 's----ch', 'w--ch', 's----ch', 'p--ch', 's---ch', 'b--ch', 'f---ch', 'f--ch', 'r-ch', 'b--ch', 's----ch', 'c--ch', 'c--ch', 'r--ch', 't--ch', 'b--ch', 's----ch', 's-ch', 't---ch', 'p--ch', 's---ch', 'p--ch', 'a-ch', 'e-ch']\n"
     ]
    }
   ],
   "source": [
    "# 3. 리스트 컴프리헨션으로 풀어보기\n",
    "ch_list = [word.lower() for word in gutenberg.words('bryant-stories.txt') if word.endswith('ch')]\n",
    "no_repeat = [word for word in set(ch_list)]\n",
    "new_list = [word.replace(word[1:-2],'-'*len(word[1:-2])) for word in no_repeat]\n",
    "\n",
    "print(new_list)\n"
   ]
  },
  {
   "cell_type": "markdown",
   "id": "a6db16e9",
   "metadata": {},
   "source": [
    "### Brown\n",
    "- categories()"
   ]
  },
  {
   "cell_type": "code",
   "execution_count": 22,
   "id": "99217695",
   "metadata": {},
   "outputs": [],
   "source": [
    "brown = nltk.corpus.brown"
   ]
  },
  {
   "cell_type": "code",
   "execution_count": 23,
   "id": "6c52c16b",
   "metadata": {},
   "outputs": [
    {
     "data": {
      "text/plain": [
       "['adventure',\n",
       " 'belles_lettres',\n",
       " 'editorial',\n",
       " 'fiction',\n",
       " 'government',\n",
       " 'hobbies',\n",
       " 'humor',\n",
       " 'learned',\n",
       " 'lore',\n",
       " 'mystery',\n",
       " 'news',\n",
       " 'religion',\n",
       " 'reviews',\n",
       " 'romance',\n",
       " 'science_fiction']"
      ]
     },
     "execution_count": 23,
     "metadata": {},
     "output_type": "execute_result"
    }
   ],
   "source": [
    "brown.categories()"
   ]
  },
  {
   "cell_type": "code",
   "execution_count": 24,
   "id": "e4031074",
   "metadata": {},
   "outputs": [],
   "source": [
    "fdist = nltk.FreqDist([word.lower() for word in brown.words(categories = 'adventure')])\n",
    "# categories 꼭 넣어줘야함\n",
    "# 그 이유에 대한 조장님 답변:\n",
    "# gutenberg는 받는 인자가 fileids 밖에 없어서 그냥 넣어줘도 되는데, \n",
    "# brown은 categories 말고 fileids도 넣어줄 수 있기 때문에 categories를 써줘야 해요!"
   ]
  },
  {
   "cell_type": "code",
   "execution_count": 25,
   "id": "b8da279d",
   "metadata": {},
   "outputs": [
    {
     "data": {
      "text/plain": [
       "83"
      ]
     },
     "execution_count": 25,
     "metadata": {},
     "output_type": "execute_result"
    }
   ],
   "source": [
    "fdist['men']"
   ]
  },
  {
   "cell_type": "code",
   "execution_count": 26,
   "id": "47584b98",
   "metadata": {},
   "outputs": [
    {
     "name": "stdout",
     "output_type": "stream",
     "text": [
      "may 7\n",
      "could 154\n",
      "will 51\n",
      "would 194\n",
      "might 59\n"
     ]
    }
   ],
   "source": [
    "# modal verbs (조동사)\n",
    "modals = ['may', 'could', 'will', 'would', 'might']\n",
    "\n",
    "for verb in modals:\n",
    "    print(verb, fdist[verb])"
   ]
  },
  {
   "cell_type": "markdown",
   "id": "49e6395b",
   "metadata": {},
   "source": [
    "### conditional frequency distribution\n",
    "- 조건에 따른 fdist"
   ]
  },
  {
   "cell_type": "code",
   "execution_count": 27,
   "id": "a6d5b436",
   "metadata": {},
   "outputs": [],
   "source": [
    "cfd = nltk.ConditionalFreqDist(\n",
    "    # 각 장르에 따른 frequency distribution을 만든다.\n",
    "    (genre, word.lower())\n",
    "    for genre in brown.categories()\n",
    "    for word in brown.words(categories = genre)\n",
    ")"
   ]
  },
  {
   "cell_type": "code",
   "execution_count": 30,
   "id": "8eb3eedb",
   "metadata": {},
   "outputs": [
    {
     "data": {
      "text/plain": [
       "FreqDist({',': 3899, '.': 3736, 'the': 2988, 'and': 1905, 'to': 1517, 'a': 1383, 'of': 1202, 'he': 1068, '``': 1045, \"''\": 1044, ...})"
      ]
     },
     "execution_count": 30,
     "metadata": {},
     "output_type": "execute_result"
    }
   ],
   "source": [
    "cfd['romance']"
   ]
  },
  {
   "cell_type": "code",
   "execution_count": 29,
   "id": "8c5d2b41",
   "metadata": {},
   "outputs": [
    {
     "data": {
      "text/plain": [
       "36"
      ]
     },
     "execution_count": 29,
     "metadata": {},
     "output_type": "execute_result"
    }
   ],
   "source": [
    "cfd['romance']['love']"
   ]
  }
 ],
 "metadata": {
  "kernelspec": {
   "display_name": "Python 3 (ipykernel)",
   "language": "python",
   "name": "python3"
  },
  "language_info": {
   "codemirror_mode": {
    "name": "ipython",
    "version": 3
   },
   "file_extension": ".py",
   "mimetype": "text/x-python",
   "name": "python",
   "nbconvert_exporter": "python",
   "pygments_lexer": "ipython3",
   "version": "3.9.7"
  }
 },
 "nbformat": 4,
 "nbformat_minor": 5
}
