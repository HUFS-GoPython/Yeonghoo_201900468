{
 "cells": [
  {
   "cell_type": "markdown",
   "id": "f7a97bed",
   "metadata": {},
   "source": [
    "# Week_02\n",
    "\n",
    "## Ch02. Variables \n",
    "- string\n",
    "- float\n",
    "- integer\n",
    "- boolean"
   ]
  },
  {
   "cell_type": "code",
   "execution_count": 15,
   "id": "137c1689",
   "metadata": {
    "scrolled": true
   },
   "outputs": [
    {
     "data": {
      "text/plain": [
       "2"
      ]
     },
     "execution_count": 15,
     "metadata": {},
     "output_type": "execute_result"
    }
   ],
   "source": [
    "# 여러 이름 동시에 할당\n",
    "two = deux = dos = 2  # dos -> deux -> two 순으로 할당됨\n",
    "two"
   ]
  },
  {
   "cell_type": "code",
   "execution_count": 17,
   "id": "b2f3e60a",
   "metadata": {},
   "outputs": [
    {
     "name": "stdout",
     "output_type": "stream",
     "text": [
      "4 2\n"
     ]
    }
   ],
   "source": [
    "# 불변객체이므로 (불변객체: 생성 후 그 상태를 바꿀 수 없는 객체)\n",
    "two = 4\n",
    "print(two, deux)  # deux의 값은 변하지 않음"
   ]
  },
  {
   "cell_type": "code",
   "execution_count": 19,
   "id": "431ee847",
   "metadata": {},
   "outputs": [
    {
     "data": {
      "text/plain": [
       "(1539301927312, 1539301927248)"
      ]
     },
     "execution_count": 19,
     "metadata": {},
     "output_type": "execute_result"
    }
   ],
   "source": [
    "id(two), id(deux)   # 메모리의 위치를 확인하는 함수, 당장 크게 중요하진 않음"
   ]
  },
  {
   "cell_type": "code",
   "execution_count": 20,
   "id": "663de7f9",
   "metadata": {},
   "outputs": [
    {
     "data": {
      "text/plain": [
       "([1, 2, 3], [1, 2, 3])"
      ]
     },
     "execution_count": 20,
     "metadata": {},
     "output_type": "execute_result"
    }
   ],
   "source": [
    "p = [1, 2, 3]\n",
    "q = p  # p와 같은 값이 q에 담긴다\n",
    "p, q"
   ]
  },
  {
   "cell_type": "code",
   "execution_count": 22,
   "id": "cae10f41",
   "metadata": {},
   "outputs": [
    {
     "data": {
      "text/plain": [
       "(1539401503808, 1539401503808)"
      ]
     },
     "execution_count": 22,
     "metadata": {},
     "output_type": "execute_result"
    }
   ],
   "source": [
    "id(p), id(q)  # 변수가 저장된 메모리 주소 찾는 함수\n",
    "# 위치가 같음"
   ]
  },
  {
   "cell_type": "code",
   "execution_count": 24,
   "id": "8b990764",
   "metadata": {},
   "outputs": [
    {
     "data": {
      "text/plain": [
       "([9, 2, 3], [9, 2, 3])"
      ]
     },
     "execution_count": 24,
     "metadata": {},
     "output_type": "execute_result"
    }
   ],
   "source": [
    "p[0] = 9\n",
    "p, q   # p = q이기 때문에 q의 0번 인덱스도 9로 바뀜"
   ]
  },
  {
   "cell_type": "code",
   "execution_count": 25,
   "id": "df7c84c3",
   "metadata": {},
   "outputs": [
    {
     "data": {
      "text/plain": [
       "(1539401503808, 1539401503808)"
      ]
     },
     "execution_count": 25,
     "metadata": {},
     "output_type": "execute_result"
    }
   ],
   "source": [
    "id(p), id(q) # 여전히 같은 메모리에 위치"
   ]
  },
  {
   "cell_type": "markdown",
   "id": "db1662c2",
   "metadata": {},
   "source": [
    "### 좋은 변수명\n",
    "- 간결하고 명확한 이름\n",
    "- 의미가 담겨야 함.\n",
    "- a, b, c .... 등은 지양\n",
    "- 코드에는 의미가 담기고 주석에는 의도가 담긴다.\n",
    "    - 예: the number of students\n",
    "        n < the_number_of_students < num_students\n",
    "        - 카멜 표기법: numStudents\n",
    "    "
   ]
  },
  {
   "cell_type": "markdown",
   "id": "38bf8469",
   "metadata": {},
   "source": [
    "### 자료형 변환, 형 변환\n",
    "-str(<변환할 값>), int(), float(), bool()\n"
   ]
  },
  {
   "cell_type": "code",
   "execution_count": 1,
   "id": "f0cda9c2",
   "metadata": {},
   "outputs": [
    {
     "data": {
      "text/plain": [
       "True"
      ]
     },
     "execution_count": 1,
     "metadata": {},
     "output_type": "execute_result"
    }
   ],
   "source": [
    "a=10\n",
    "\n",
    "# str: 문자형\n",
    "str(a)\n",
    "\n",
    "# int: 정수형\n",
    "int(a)\n",
    "\n",
    "# float: 실수형\n",
    "float(a)\n",
    "\n",
    "# bool: 논리형\n",
    "bool(a)  # 어떤 값이 False로 변환이 되는지: 0, 공백\n"
   ]
  },
  {
   "cell_type": "markdown",
   "id": "8d0da02b",
   "metadata": {},
   "source": [
    "#### 주의할 점 1: float -> int\n",
    "    "
   ]
  },
  {
   "cell_type": "code",
   "execution_count": 4,
   "id": "5b90b972",
   "metadata": {},
   "outputs": [
    {
     "data": {
      "text/plain": [
       "10"
      ]
     },
     "execution_count": 4,
     "metadata": {},
     "output_type": "execute_result"
    }
   ],
   "source": [
    "x = 10.7 # 소수점 내림\n",
    "int(x)"
   ]
  },
  {
   "cell_type": "code",
   "execution_count": 5,
   "id": "a6a0db39",
   "metadata": {},
   "outputs": [
    {
     "name": "stdout",
     "output_type": "stream",
     "text": [
      "30\n",
      "29\n"
     ]
    }
   ],
   "source": [
    "y = 19.8\n",
    "print(int(x + y))  # 30.5 --> 30\n",
    "print(int(x) + int(y))  # 10 + 19"
   ]
  },
  {
   "cell_type": "markdown",
   "id": "691ad492",
   "metadata": {},
   "source": [
    "#### 주의할 점 2: str -> int / float"
   ]
  },
  {
   "cell_type": "code",
   "execution_count": 6,
   "id": "4f0bb116",
   "metadata": {},
   "outputs": [
    {
     "data": {
      "text/plain": [
       "(10, 10.0)"
      ]
     },
     "execution_count": 6,
     "metadata": {},
     "output_type": "execute_result"
    }
   ],
   "source": [
    "i = '10' # 문자형 10\n",
    "int(i), float(i)"
   ]
  },
  {
   "cell_type": "code",
   "execution_count": 7,
   "id": "cfb499ac",
   "metadata": {},
   "outputs": [
    {
     "ename": "ValueError",
     "evalue": "invalid literal for int() with base 10: '10.7'",
     "output_type": "error",
     "traceback": [
      "\u001b[1;31m---------------------------------------------------------------------------\u001b[0m",
      "\u001b[1;31mValueError\u001b[0m                                Traceback (most recent call last)",
      "\u001b[1;32m~\\AppData\\Local\\Temp/ipykernel_27400/1630938160.py\u001b[0m in \u001b[0;36m<module>\u001b[1;34m\u001b[0m\n\u001b[0;32m      1\u001b[0m \u001b[0mj\u001b[0m \u001b[1;33m=\u001b[0m \u001b[1;34m'10.7'\u001b[0m\u001b[1;33m\u001b[0m\u001b[1;33m\u001b[0m\u001b[0m\n\u001b[1;32m----> 2\u001b[1;33m \u001b[0mint\u001b[0m\u001b[1;33m(\u001b[0m\u001b[0mj\u001b[0m\u001b[1;33m)\u001b[0m\u001b[1;33m\u001b[0m\u001b[1;33m\u001b[0m\u001b[0m\n\u001b[0m",
      "\u001b[1;31mValueError\u001b[0m: invalid literal for int() with base 10: '10.7'"
     ]
    }
   ],
   "source": [
    "j = '10.7' # int와 맞지 않는 str을 변환하려고 하면 오류가 난다.\n",
    "int(j)"
   ]
  },
  {
   "cell_type": "markdown",
   "id": "b50f4af0",
   "metadata": {},
   "source": [
    "### 꿀팁 'print()'"
   ]
  },
  {
   "cell_type": "code",
   "execution_count": 8,
   "id": "44aac2a7",
   "metadata": {},
   "outputs": [
    {
     "name": "stdout",
     "output_type": "stream",
     "text": [
      "dogcatlion\n",
      "dog cat lion\n"
     ]
    }
   ],
   "source": [
    "dog = 'dog'\n",
    "cat = 'cat'\n",
    "lion = 'lion'\n",
    "print(dog + cat + lion)  # 단순 이어붙이기/ space 없음, \\n\n",
    "print(dog, cat, lion)  # space 있음, \\n\n",
    "# 역슬래시 대신 '\\'도 가능"
   ]
  },
  {
   "cell_type": "code",
   "execution_count": 26,
   "id": "36265f8a",
   "metadata": {},
   "outputs": [
    {
     "name": "stdout",
     "output_type": "stream",
     "text": [
      "dog cat lion\n",
      "dog/cat/lion\n",
      "\n",
      "EOL\n"
     ]
    }
   ],
   "source": [
    "print(dog, cat, lion, sep=' ', end='\\n')  # default\n",
    "print(dog, cat, lion, sep='/', end='\\n\\n')\n",
    "print('EOL')"
   ]
  },
  {
   "cell_type": "code",
   "execution_count": 12,
   "id": "f3ee9be4",
   "metadata": {},
   "outputs": [
    {
     "name": "stdout",
     "output_type": "stream",
     "text": [
      "My favorite animal is dog\n",
      "My favorite animal is dog.\n"
     ]
    }
   ],
   "source": [
    "#1.\n",
    "print(\"My favorite animal is\", dog)\n",
    "\n",
    "#2.\n",
    "print(f'My favorite animal is {dog}.')  # f-strings\n"
   ]
  },
  {
   "cell_type": "markdown",
   "id": "bf008846",
   "metadata": {},
   "source": [
    "코드 줄이 짧을 때 ;(semicolon)을 이용해 한줄로 쓸 수 있다.\n"
   ]
  },
  {
   "cell_type": "code",
   "execution_count": 2,
   "id": "a7a566c3",
   "metadata": {},
   "outputs": [
    {
     "name": "stdout",
     "output_type": "stream",
     "text": [
      "dog cat lion\n"
     ]
    }
   ],
   "source": [
    "dog = 'dog'; cat = 'cat'; lion = 'lion'\n",
    "print(dog, cat, lion)"
   ]
  },
  {
   "cell_type": "markdown",
   "id": "ec99eb40",
   "metadata": {},
   "source": [
    "### 'input()' 함수\n",
    "- console에서 사용자가 입력하는 값을 받을 수 있는 함수\n",
    "- 입력받는 값은 문자열(str)로 인식이 된다.\n",
    "- 입력받은 값을 변수에 담아서 사용한다. 안 그러면 사라짐\n",
    "- 숫자일 경우 형 변환 한다."
   ]
  },
  {
   "cell_type": "code",
   "execution_count": 1,
   "id": "6cd0d01d",
   "metadata": {},
   "outputs": [
    {
     "name": "stdout",
     "output_type": "stream",
     "text": [
      "Hello? Hi\n"
     ]
    },
    {
     "data": {
      "text/plain": [
       "'Hi'"
      ]
     },
     "execution_count": 1,
     "metadata": {},
     "output_type": "execute_result"
    }
   ],
   "source": [
    "input('Hello? ')"
   ]
  },
  {
   "cell_type": "code",
   "execution_count": 2,
   "id": "4f819fa4",
   "metadata": {},
   "outputs": [
    {
     "name": "stdout",
     "output_type": "stream",
     "text": [
      "나이가 어떻게 되나요?23\n"
     ]
    },
    {
     "data": {
      "text/plain": [
       "23"
      ]
     },
     "execution_count": 2,
     "metadata": {},
     "output_type": "execute_result"
    }
   ],
   "source": [
    "int(input('나이가 어떻게 되나요?'))  # int()로 정수형 변환"
   ]
  },
  {
   "cell_type": "markdown",
   "id": "6c224547",
   "metadata": {},
   "source": [
    "#### - 변수에 할당하는 방법"
   ]
  },
  {
   "cell_type": "code",
   "execution_count": 4,
   "id": "65e3bdd4",
   "metadata": {},
   "outputs": [
    {
     "name": "stdout",
     "output_type": "stream",
     "text": [
      "나이가 어떻게 되나요? 23\n"
     ]
    }
   ],
   "source": [
    "#1.\n",
    "age = int(input('나이가 어떻게 되나요? '))"
   ]
  },
  {
   "cell_type": "code",
   "execution_count": 5,
   "id": "e894f174",
   "metadata": {},
   "outputs": [
    {
     "data": {
      "text/plain": [
       "23"
      ]
     },
     "execution_count": 5,
     "metadata": {},
     "output_type": "execute_result"
    }
   ],
   "source": [
    "age # 정수형 23"
   ]
  },
  {
   "cell_type": "code",
   "execution_count": 7,
   "id": "e2d5d8f7",
   "metadata": {},
   "outputs": [
    {
     "name": "stdout",
     "output_type": "stream",
     "text": [
      "나이가??\n",
      "23\n"
     ]
    }
   ],
   "source": [
    "#2.\n",
    "print('나이가??')\n",
    "age = input()"
   ]
  },
  {
   "cell_type": "code",
   "execution_count": 8,
   "id": "0ff6a1f2",
   "metadata": {},
   "outputs": [
    {
     "data": {
      "text/plain": [
       "'23'"
      ]
     },
     "execution_count": 8,
     "metadata": {},
     "output_type": "execute_result"
    }
   ],
   "source": [
    "age # 문자형 '23'"
   ]
  },
  {
   "cell_type": "markdown",
   "id": "3d333743",
   "metadata": {},
   "source": [
    "#### Quiz 1\n",
    "- 섭씨를 입력 받아서 화씨로 변환하기\n",
    "- \"섭씨 * 1.8 + 32 = 화씨\""
   ]
  },
  {
   "cell_type": "code",
   "execution_count": 11,
   "id": "89cdce76",
   "metadata": {},
   "outputs": [
    {
     "name": "stdout",
     "output_type": "stream",
     "text": [
      "섭씨 온도를 입력하시오>>> 10\n",
      "화씨 온도는 50.0도 입니다\n"
     ]
    }
   ],
   "source": [
    "Celcius = float(input('섭씨 온도를 입력하시오>>> '))\n",
    "Fahren = Celcius * 1.8 + 32\n",
    "print(f'화씨 온도는 {Fahren}도 입니다')"
   ]
  },
  {
   "cell_type": "markdown",
   "id": "04456793",
   "metadata": {},
   "source": [
    "#### Quiz 2\n",
    "- 택배 정보 입력 받고, 총 합계 계산하기\n",
    "- 출력값:\n",
    "    - 수취인 성명: <이름>\n",
    "    - 수취인 주소: <주소>\n",
    "    - 배송비: 3000원\n",
    "    - 물건 비용: <가격>원\n",
    "    - 총 합계: <가격>원\n",
    "- 물건 비용 = 무게(g) * 5\n",
    "- 합계 = 배송비 + 물건 비용"
   ]
  },
  {
   "cell_type": "code",
   "execution_count": 13,
   "id": "9f30891a",
   "metadata": {},
   "outputs": [
    {
     "name": "stdout",
     "output_type": "stream",
     "text": [
      "수취인 성명>>> 권영후\n",
      "수취인 주소>>> 이문동\n",
      "물건 무게(g)>>> 200.5\n",
      "\n",
      "===== 택배 정보 =====\n",
      "수취인 성명: 권영후\n",
      "수취인 주소:이문동\n",
      "배송비: 3000원\n",
      "물건 비용: 1002.5원\n",
      "총 합계: 4002.5원\n"
     ]
    }
   ],
   "source": [
    "name = input('수취인 성명>>> ')\n",
    "address = input('수취인 주소>>> ')\n",
    "weight = float(input('물건 무게(g)>>> '))\n",
    "price = weight * 5\n",
    "total = 3000 + price\n",
    "print()\n",
    "print('===== 택배 정보 =====')\n",
    "print(f'''수취인 성명: {name}\n",
    "수취인 주소:{address}\n",
    "배송비: 3000원\n",
    "물건 비용: {price}원\n",
    "총 합계: {total}원''')\n",
    "\n",
    "### 코드 짤 때 보기 편하게 코드 블럭 나누기(변수, 출력, 입력..)"
   ]
  },
  {
   "cell_type": "markdown",
   "id": "a4f95486",
   "metadata": {},
   "source": [
    "## Ch03. Numbers"
   ]
  },
  {
   "cell_type": "markdown",
   "id": "b0e42e4b",
   "metadata": {},
   "source": [
    "#### boolean(논리형)\n",
    "- 형 변환할 때 어떤게 True, False인지 기억하라\n",
    "    - False 인 경우: ' ', None, 0, ...\n",
    "    - True 인 경우: 나머지 숫자, 1, ...\n",
    "- 조건식에서 많이 쓴다. ex) 만약 이 조건이 True라면,..."
   ]
  },
  {
   "cell_type": "code",
   "execution_count": 14,
   "id": "4b73c22b",
   "metadata": {},
   "outputs": [
    {
     "data": {
      "text/plain": [
       "True"
      ]
     },
     "execution_count": 14,
     "metadata": {},
     "output_type": "execute_result"
    }
   ],
   "source": [
    "bool(1)"
   ]
  },
  {
   "cell_type": "code",
   "execution_count": 15,
   "id": "d69b02c5",
   "metadata": {},
   "outputs": [
    {
     "data": {
      "text/plain": [
       "False"
      ]
     },
     "execution_count": 15,
     "metadata": {},
     "output_type": "execute_result"
    }
   ],
   "source": [
    "bool('') # 빈 칸"
   ]
  },
  {
   "cell_type": "markdown",
   "id": "a93b6e99",
   "metadata": {},
   "source": [
    "#### integer (정수형)\n",
    "- 소수점 없음\n",
    "- default 양수, 음수는 앞에 -를 붙인다.\n",
    "- 숫자 앞에는 0을 붙일 수 없다. ex) 05\n",
    "    - 예외적으로 0bxxx => 다른 진수 표현법\n",
    "- 리터럴: 4\n",
    "- 숫자는 중간에 공백이 많아도 무시가 된다.\n",
    "- 10,000원 -> 10, 000원 두개로 인식 => _ 사용\n",
    "    - ex) 10_000"
   ]
  },
  {
   "cell_type": "code",
   "execution_count": 16,
   "id": "20655997",
   "metadata": {},
   "outputs": [
    {
     "data": {
      "text/plain": [
       "-1"
      ]
     },
     "execution_count": 16,
     "metadata": {},
     "output_type": "execute_result"
    }
   ],
   "source": [
    "a = -9\n",
    "8 + a"
   ]
  },
  {
   "cell_type": "code",
   "execution_count": 17,
   "id": "4c7f5526",
   "metadata": {},
   "outputs": [
    {
     "ename": "SyntaxError",
     "evalue": "leading zeros in decimal integer literals are not permitted; use an 0o prefix for octal integers (Temp/ipykernel_14924/969348553.py, line 1)",
     "output_type": "error",
     "traceback": [
      "\u001b[1;36m  File \u001b[1;32m\"C:\\Users\\kupa1\\AppData\\Local\\Temp/ipykernel_14924/969348553.py\"\u001b[1;36m, line \u001b[1;32m1\u001b[0m\n\u001b[1;33m    a = 09 # 에러 발생\u001b[0m\n\u001b[1;37m         ^\u001b[0m\n\u001b[1;31mSyntaxError\u001b[0m\u001b[1;31m:\u001b[0m leading zeros in decimal integer literals are not permitted; use an 0o prefix for octal integers\n"
     ]
    }
   ],
   "source": [
    "a = 09 # 에러 발생"
   ]
  },
  {
   "cell_type": "code",
   "execution_count": 18,
   "id": "006b413a",
   "metadata": {},
   "outputs": [
    {
     "data": {
      "text/plain": [
       "-6"
      ]
     },
     "execution_count": 18,
     "metadata": {},
     "output_type": "execute_result"
    }
   ],
   "source": [
    "-9 + 8          -5   # 공백이 많아도 무시 가능"
   ]
  },
  {
   "cell_type": "code",
   "execution_count": 20,
   "id": "7cdf777e",
   "metadata": {},
   "outputs": [
    {
     "name": "stdout",
     "output_type": "stream",
     "text": [
      "10000\n"
     ]
    }
   ],
   "source": [
    "a = 10_000  # 천 단위로 끊고 싶을 때 ',' 대신 '_' 사용\n",
    "print(a)"
   ]
  },
  {
   "cell_type": "markdown",
   "id": "ccccfde8",
   "metadata": {},
   "source": [
    "#### 연산\n",
    "- 연산자|operator: +,-\n",
    "- 피연산사|operand: 4, 5, ...\n",
    "- 수식|expression"
   ]
  },
  {
   "cell_type": "code",
   "execution_count": 22,
   "id": "a0354eb0",
   "metadata": {},
   "outputs": [
    {
     "data": {
      "text/plain": [
       "262144"
      ]
     },
     "execution_count": 22,
     "metadata": {},
     "output_type": "execute_result"
    }
   ],
   "source": [
    "x = 4\n",
    "y = 9\n",
    "\n",
    "x + y\n",
    "x - y\n",
    "x * y\n",
    "x / y\n",
    "\n",
    "# 거듭제곱|exponential\n",
    "x ** y\n"
   ]
  },
  {
   "cell_type": "markdown",
   "id": "686def2e",
   "metadata": {},
   "source": [
    "#### 나눗셈에서 주의할 사항"
   ]
  },
  {
   "cell_type": "code",
   "execution_count": 23,
   "id": "f6863751",
   "metadata": {},
   "outputs": [
    {
     "data": {
      "text/plain": [
       "(0, 4)"
      ]
     },
     "execution_count": 23,
     "metadata": {},
     "output_type": "execute_result"
    }
   ],
   "source": [
    "#1. 0 으로 나누기 불가 => 주의 (y != 0)\n",
    "#2. 몫, 나머지\n",
    "x//y, x%y"
   ]
  },
  {
   "cell_type": "code",
   "execution_count": 24,
   "id": "983f4f59",
   "metadata": {},
   "outputs": [
    {
     "data": {
      "text/plain": [
       "(0, 4)"
      ]
     },
     "execution_count": 24,
     "metadata": {},
     "output_type": "execute_result"
    }
   ],
   "source": [
    "divmod(x,y)  # 몫과 나머지를 튜플 형식으로 출력하는 함수"
   ]
  },
  {
   "cell_type": "markdown",
   "id": "b53b002d",
   "metadata": {},
   "source": [
    "#### 복합 대입연산자|compound assignment operator\n"
   ]
  },
  {
   "cell_type": "code",
   "execution_count": 25,
   "id": "0b4c6c60",
   "metadata": {},
   "outputs": [
    {
     "name": "stdout",
     "output_type": "stream",
     "text": [
      "5\n"
     ]
    }
   ],
   "source": [
    "a = 5\n",
    "a - 3  # 불변객체이므로 a의 값에는 영향 X\n",
    "print(a)"
   ]
  },
  {
   "cell_type": "code",
   "execution_count": 26,
   "id": "f70e280f",
   "metadata": {},
   "outputs": [],
   "source": [
    "a = a - 3\n",
    "#1. a-3 계산\n",
    "#2. 임시변수 temp = a - 3\n",
    "#3. a = a - 3\n",
    "\n",
    "a -= 3  # 복합대입연산자\n",
    "a += 3\n",
    "a *= 3\n",
    "a /= 3\n",
    "# exponential(거듭제곱)도 가능"
   ]
  },
  {
   "cell_type": "code",
   "execution_count": 27,
   "id": "90d07f49",
   "metadata": {},
   "outputs": [
    {
     "ename": "SyntaxError",
     "evalue": "invalid syntax (Temp/ipykernel_14924/4108442382.py, line 1)",
     "output_type": "error",
     "traceback": [
      "\u001b[1;36m  File \u001b[1;32m\"C:\\Users\\kupa1\\AppData\\Local\\Temp/ipykernel_14924/4108442382.py\"\u001b[1;36m, line \u001b[1;32m1\u001b[0m\n\u001b[1;33m    u = ?  # 초기값 설정 후에 복합대입연산자 사용 가능\u001b[0m\n\u001b[1;37m        ^\u001b[0m\n\u001b[1;31mSyntaxError\u001b[0m\u001b[1;31m:\u001b[0m invalid syntax\n"
     ]
    }
   ],
   "source": [
    "u = ?  # 초기값 설정 후에 복합대입연산자 사용 가능\n",
    "u = u + 1  ## 초기값 없으므로 에러"
   ]
  },
  {
   "cell_type": "markdown",
   "id": "cf27b040",
   "metadata": {},
   "source": [
    "### Quiz1.\n",
    "- 정수를 입력 받고 3의 배수인지 확인하시오.\n",
    "- = 홀수인지 확인하시오."
   ]
  },
  {
   "cell_type": "markdown",
   "id": "cde96e25",
   "metadata": {},
   "source": [
    "#### if 조건문 사용 안하는 버전(bool 사용)"
   ]
  },
  {
   "cell_type": "code",
   "execution_count": 29,
   "id": "d1c241e9",
   "metadata": {},
   "outputs": [
    {
     "name": "stdout",
     "output_type": "stream",
     "text": [
      "정수를 입력하세요>>> 3\n"
     ]
    },
    {
     "data": {
      "text/plain": [
       "True"
      ]
     },
     "execution_count": 29,
     "metadata": {},
     "output_type": "execute_result"
    }
   ],
   "source": [
    "number = int(input('정수를 입력하세요>>> '))\n",
    "number % 3 == 0   # 3의 배수가 아닐 경우 false 출력"
   ]
  },
  {
   "cell_type": "code",
   "execution_count": 31,
   "id": "16a6c699",
   "metadata": {},
   "outputs": [
    {
     "data": {
      "text/plain": [
       "False"
      ]
     },
     "execution_count": 31,
     "metadata": {},
     "output_type": "execute_result"
    }
   ],
   "source": [
    "number % 2 == 0  # 짝수인 3의 배수의 경우 True 출력"
   ]
  },
  {
   "cell_type": "markdown",
   "id": "12372c2d",
   "metadata": {},
   "source": [
    "#### if 조건문 사용하는 버전"
   ]
  },
  {
   "cell_type": "code",
   "execution_count": 33,
   "id": "711b38f1",
   "metadata": {},
   "outputs": [
    {
     "name": "stdout",
     "output_type": "stream",
     "text": [
      "정수를 입력하시오>>> 3\n",
      "3의 배수입니다.\n",
      "홀수입니다.\n"
     ]
    }
   ],
   "source": [
    "number = int(input('정수를 입력하시오>>> '))\n",
    "if number % 3 == 0:\n",
    "    print('3의 배수입니다.')\n",
    "else: \n",
    "    print('3의 배수가 아닙니다.')\n",
    "\n",
    "if number % 2 == 0:\n",
    "        print('짝수입니다.')\n",
    "else:\n",
    "    print('홀수입니다.')\n",
    "\n",
    "# if문 크게 두 블록 사용"
   ]
  },
  {
   "cell_type": "markdown",
   "id": "a49170ab",
   "metadata": {},
   "source": [
    "### 지수 표현\n",
    "- e, E 둘다 가능하다.\n",
    "- 앞부분은 float, int\n",
    "- 뒷부분은 int만 온다.\n",
    "    - 양수면 0 앞으로\n",
    "    - 음수면 0 뒤로(소수점)"
   ]
  },
  {
   "cell_type": "code",
   "execution_count": 34,
   "id": "08939e31",
   "metadata": {},
   "outputs": [
    {
     "data": {
      "text/plain": [
       "1000000.0"
      ]
     },
     "execution_count": 34,
     "metadata": {},
     "output_type": "execute_result"
    }
   ],
   "source": [
    "1.0e6  # float"
   ]
  },
  {
   "cell_type": "code",
   "execution_count": 35,
   "id": "0c64f931",
   "metadata": {},
   "outputs": [
    {
     "data": {
      "text/plain": [
       "0.000789"
      ]
     },
     "execution_count": 35,
     "metadata": {},
     "output_type": "execute_result"
    }
   ],
   "source": [
    "# 0.000789 => 지수표현\n",
    "789e-6\n",
    "78.9e-5"
   ]
  },
  {
   "cell_type": "code",
   "execution_count": 36,
   "id": "74080532",
   "metadata": {},
   "outputs": [
    {
     "data": {
      "text/plain": [
       "0.001"
      ]
     },
     "execution_count": 36,
     "metadata": {},
     "output_type": "execute_result"
    }
   ],
   "source": [
    "1.0e-3   # 'e를 기준으로' 양수면 앞으로, 음수면 뒤로"
   ]
  },
  {
   "cell_type": "markdown",
   "id": "a752c300",
   "metadata": {},
   "source": [
    "### 코드 짜는 룰\n",
    "- 주석 다는 법\n",
    "    - 설명하는 부분\n",
    "    - 목적: 의도를 표현한다, \n",
    "    - '#' hash, sharp, ...\n",
    "    - 시작된 부분부터 그 라인에 끝까지가 주석\n",
    "    - 문자열 안에 들어있는 해시는 문자열로 인식\n",
    "    - \"\"\" <주석> \"\"\"\n",
    "   \n",
    "- 라인 유지하기\n",
    "    - 들여쓰기, 공백 4개, 탭 1개\n",
    "    - 한 줄에 최대 80자 넘지 않게\n",
    "    - 백슬래시로 끊어준다(\\)"
   ]
  },
  {
   "cell_type": "code",
   "execution_count": 38,
   "id": "564614b9",
   "metadata": {},
   "outputs": [],
   "source": [
    "a = 3 # 여기부터 라인 끝까지\n",
    "b = 2 # 다시 코드 시작"
   ]
  },
  {
   "cell_type": "code",
   "execution_count": 40,
   "id": "d7bd668f",
   "metadata": {},
   "outputs": [
    {
     "data": {
      "text/plain": [
       "'hey ###'"
      ]
     },
     "execution_count": 40,
     "metadata": {},
     "output_type": "execute_result"
    }
   ],
   "source": [
    "example = 'hey ###' # 이 경우 해시(#)는 문자로 취급\n",
    "example"
   ]
  },
  {
   "cell_type": "code",
   "execution_count": 41,
   "id": "af70090d",
   "metadata": {},
   "outputs": [
    {
     "data": {
      "text/plain": [
       "'\\n주석1\\n주석2\\n주석3\\n'"
      ]
     },
     "execution_count": 41,
     "metadata": {},
     "output_type": "execute_result"
    }
   ],
   "source": [
    "\"\"\"\n",
    "주석1\n",
    "주석2\n",
    "주석3\n",
    "\"\"\""
   ]
  },
  {
   "cell_type": "markdown",
   "id": "a7eae50e",
   "metadata": {},
   "source": [
    "### 조건문, if\n",
    "- code structure"
   ]
  },
  {
   "cell_type": "code",
   "execution_count": 43,
   "id": "e80b8234",
   "metadata": {},
   "outputs": [],
   "source": [
    "if ...: # 자동으로 1탭 들여쓰기됨\n",
    "    '한 탭 들여쓰기 됐음'"
   ]
  },
  {
   "cell_type": "markdown",
   "id": "417fc726",
   "metadata": {},
   "source": [
    "- 조건 1개\n",
    "\n",
    "if <조건식>:\n",
    "    \n",
    "    <실행할 코드>"
   ]
  },
  {
   "cell_type": "code",
   "execution_count": 44,
   "id": "25fa4973",
   "metadata": {},
   "outputs": [
    {
     "name": "stdout",
     "output_type": "stream",
     "text": [
      "Yaay!\n"
     ]
    }
   ],
   "source": [
    "if 4 != 9:\n",
    "    print('Yaay!')"
   ]
  },
  {
   "cell_type": "markdown",
   "id": "dbfb80c1",
   "metadata": {},
   "source": [
    "- 조건 2개:\n",
    "    \n",
    "    if <조건식1>:\n",
    "        <실행할 코드>\n",
    "    else:\n",
    "        <실행할 코드2>"
   ]
  },
  {
   "cell_type": "code",
   "execution_count": 45,
   "id": "5bbc4b53",
   "metadata": {},
   "outputs": [
    {
     "name": "stdout",
     "output_type": "stream",
     "text": [
      "Hey!\n"
     ]
    }
   ],
   "source": [
    "if 4 == 9:\n",
    "    print('Yaay!')\n",
    "else:\n",
    "    print('Hey!')"
   ]
  },
  {
   "cell_type": "markdown",
   "id": "87219af5",
   "metadata": {},
   "source": [
    "- 조건 3개 이상:\n",
    "    \n",
    "    if <조건식1>:\n",
    "        <실행할 코드>\n",
    "    elif <조건식2>:\n",
    "        <실행할 코드2>\n",
    "    else:\n",
    "        <실행할 코드3>"
   ]
  },
  {
   "cell_type": "code",
   "execution_count": 48,
   "id": "e9f06e9b",
   "metadata": {},
   "outputs": [
    {
     "name": "stdout",
     "output_type": "stream",
     "text": [
      "아무 정수를 입력>>> 23\n",
      "Hey!\n"
     ]
    }
   ],
   "source": [
    "number = int(input('아무 정수를 입력>>> '))\n",
    "\n",
    "if number < 5:\n",
    "    print('Yaay!')\n",
    "elif number > 10:\n",
    "    print('Hey!')\n",
    "else:\n",
    "    print('Oh!')"
   ]
  },
  {
   "cell_type": "markdown",
   "id": "26ca6ab9",
   "metadata": {},
   "source": [
    "### 비교연산자\n",
    "- x < y, x <= y\n",
    "- x > y, x >= y\n",
    "- x == y (값)\n",
    "- x != y (값)\n",
    "- x is y (값, 메모리값 모두 같아야함)\n",
    "- x is not y"
   ]
  },
  {
   "cell_type": "markdown",
   "id": "733723f9",
   "metadata": {},
   "source": [
    "### Quiz 1.\n",
    "- 학점 부여하기\n",
    "- 학점 입력 받아서\n",
    "    - 90점 이상이면 A\n",
    "    - 80점 이상이면 B\n",
    "    - 70, C\n",
    "    - 그 외, D\n",
    "- 변수 설정 유의"
   ]
  },
  {
   "cell_type": "code",
   "execution_count": 53,
   "id": "5d1b8af4",
   "metadata": {},
   "outputs": [
    {
     "name": "stdout",
     "output_type": "stream",
     "text": [
      "점수을 입력하세요>>> 95\n",
      "점수는 95점이고, 학점은 A입니다.\n"
     ]
    }
   ],
   "source": [
    "score = int(input('점수을 입력하세요>>> '))\n",
    "if score >= 90:\n",
    "    grade = 'A'\n",
    "elif score >= 80:\n",
    "    grade = 'B'\n",
    "elif score >= 70:\n",
    "    grade = 'C'\n",
    "else:\n",
    "    grade = 'D'\n",
    "\n",
    "print('점수는 {}점이고, 학점은 {}입니다.'.format(score, grade))"
   ]
  },
  {
   "cell_type": "markdown",
   "id": "fc0e87cc",
   "metadata": {},
   "source": [
    "### Quiz 2.\n",
    "- 아이디와 비번 입력 받아서 둘다 일치하면 로그인하기\n",
    "- 아이디, 비번 각자 정해놓기\n",
    "- 일치하지 않을 때에는 창의적으로 어떤걸로 변환하기"
   ]
  },
  {
   "cell_type": "code",
   "execution_count": 55,
   "id": "7f2719e3",
   "metadata": {},
   "outputs": [
    {
     "name": "stdout",
     "output_type": "stream",
     "text": [
      "아이디를 입력하세요>>> python\n",
      "비밀번호를 입력하세요>>> 12345\n",
      "비밀번호가 틀렸습니다.\n",
      "아이디를 입력하세요>>> pyton\n",
      "비밀번호를 입력하세요>>> 123456\n",
      "존재하지 않는 아이디입니다.\n",
      "아이디를 입력하세요>>> python\n",
      "비밀번호를 입력하세요>>> 123456\n",
      "로그인 되었습니다.\n"
     ]
    }
   ],
   "source": [
    "id1 = 'python'\n",
    "pwd1 = '123456'\n",
    "\n",
    "while True:\n",
    "    id2 = input('아이디를 입력하세요>>> ')\n",
    "    pwd2 = input('비밀번호를 입력하세요>>> ')\n",
    "    if id1 == id2 and pwd1 != pwd2:\n",
    "        print('비밀번호가 틀렸습니다.')\n",
    "    elif id1 != id2 and pwd1 == pwd2:\n",
    "        print('존재하지 않는 아이디입니다.')\n",
    "    elif id1 == id2 and pwd1 == pwd2:\n",
    "        print('로그인 되었습니다.')\n",
    "        break\n",
    "    "
   ]
  },
  {
   "cell_type": "markdown",
   "id": "61fb889f",
   "metadata": {},
   "source": [
    "### 논리연산자\n",
    "- 여러 조건식을 비교할 때\n",
    "- ex) 10 < x < 20\n",
    "    - 파이썬에서만 가능한 표현\n",
    "    - x > 10 혹은 x < 20\n",
    "\n",
    "- and, &: 둘 다 참일 때 True\n",
    "- or , |: 둘 중 하나만 참이여도 True\n",
    "- not: 참 -> False, 거짓 -> True"
   ]
  },
  {
   "cell_type": "markdown",
   "id": "266117b9",
   "metadata": {},
   "source": [
    "###  Quiz 3.\n",
    "- quiz 2 확장판\n",
    "- 결석 횟수를 받아서 점수가 80점 이상인데 결석이 2번 이상이면 F, 나머지는 그대로\n",
    "    - 논리 연산자 사용하거나\n",
    "    - if 구조를 크게 2번 가져갈 수 있다."
   ]
  },
  {
   "cell_type": "code",
   "execution_count": 57,
   "id": "7efc0d09",
   "metadata": {},
   "outputs": [
    {
     "name": "stdout",
     "output_type": "stream",
     "text": [
      "점수을 입력하세요>>> 95\n",
      "결석 횟수를 입력하세요>>> 3\n",
      "점수는 95점이고, 학점은 F입니다.\n"
     ]
    }
   ],
   "source": [
    "score = int(input('점수을 입력하세요>>> '))\n",
    "absence = int(input('결석 횟수를 입력하세요>>> '))\n",
    "if score >= 90:\n",
    "    grade = 'A'\n",
    "elif score >= 80:\n",
    "    grade = 'B'\n",
    "elif score >= 70:\n",
    "    grade = 'C'\n",
    "else:\n",
    "    grade = 'D'\n",
    "\n",
    "if (grade in 'AB') and absence >= 2:\n",
    "    grade = 'F'\n",
    "\n",
    "print('점수는 {}점이고, 학점은 {}입니다.'.format(score, grade))"
   ]
  },
  {
   "cell_type": "code",
   "execution_count": null,
   "id": "fe7ce38e",
   "metadata": {},
   "outputs": [],
   "source": []
  }
 ],
 "metadata": {
  "kernelspec": {
   "display_name": "Python 3 (ipykernel)",
   "language": "python",
   "name": "python3"
  },
  "language_info": {
   "codemirror_mode": {
    "name": "ipython",
    "version": 3
   },
   "file_extension": ".py",
   "mimetype": "text/x-python",
   "name": "python",
   "nbconvert_exporter": "python",
   "pygments_lexer": "ipython3",
   "version": "3.9.7"
  }
 },
 "nbformat": 4,
 "nbformat_minor": 5
}
