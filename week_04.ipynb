{
 "cells": [
  {
   "cell_type": "markdown",
   "id": "c55ff07f",
   "metadata": {},
   "source": [
    "# Week 4"
   ]
  },
  {
   "cell_type": "code",
   "execution_count": 5,
   "id": "3495b739",
   "metadata": {},
   "outputs": [
    {
     "name": "stdout",
     "output_type": "stream",
     "text": [
      "Requirement already satisfied: nltk in c:\\users\\kupa1\\anaconda3\\lib\\site-packages (3.6.5)\n",
      "Requirement already satisfied: click in c:\\users\\kupa1\\anaconda3\\lib\\site-packages (from nltk) (8.0.3)\n",
      "Requirement already satisfied: joblib in c:\\users\\kupa1\\anaconda3\\lib\\site-packages (from nltk) (1.1.0)\n",
      "Requirement already satisfied: regex>=2021.8.3 in c:\\users\\kupa1\\anaconda3\\lib\\site-packages (from nltk) (2021.8.3)\n",
      "Requirement already satisfied: tqdm in c:\\users\\kupa1\\anaconda3\\lib\\site-packages (from nltk) (4.62.3)\n",
      "Requirement already satisfied: colorama in c:\\users\\kupa1\\anaconda3\\lib\\site-packages (from click->nltk) (0.4.4)\n"
     ]
    }
   ],
   "source": [
    "!pip install nltk"
   ]
  },
  {
   "cell_type": "code",
   "execution_count": 6,
   "id": "ef6b0ea6",
   "metadata": {},
   "outputs": [
    {
     "data": {
      "text/plain": [
       "True"
      ]
     },
     "execution_count": 6,
     "metadata": {},
     "output_type": "execute_result"
    }
   ],
   "source": [
    "import nltk\n",
    "nltk.download('book', quiet = True) "
   ]
  },
  {
   "cell_type": "code",
   "execution_count": 1,
   "id": "db66f6ea",
   "metadata": {},
   "outputs": [
    {
     "name": "stdout",
     "output_type": "stream",
     "text": [
      "*** Introductory Examples for the NLTK Book ***\n",
      "Loading text1, ..., text9 and sent1, ..., sent9\n",
      "Type the name of the text or sentence to view it.\n",
      "Type: 'texts()' or 'sents()' to list the materials.\n",
      "text1: Moby Dick by Herman Melville 1851\n",
      "text2: Sense and Sensibility by Jane Austen 1811\n",
      "text3: The Book of Genesis\n",
      "text4: Inaugural Address Corpus\n",
      "text5: Chat Corpus\n",
      "text6: Monty Python and the Holy Grail\n",
      "text7: Wall Street Journal\n",
      "text8: Personals Corpus\n",
      "text9: The Man Who Was Thursday by G . K . Chesterton 1908\n"
     ]
    }
   ],
   "source": [
    "from nltk import book"
   ]
  },
  {
   "cell_type": "markdown",
   "id": "629b3824",
   "metadata": {},
   "source": [
    "#### 내장함수(1)\n",
    "- string1.method(string2)\n",
    "- list.method(string)\n",
    "\n",
    "- list.count(string): string이 나타나는 개수\n",
    "- str.replace(): A -> B 변경하는 메소드\n",
    "- str.strip(): 공백 등등을 제거하는 기능\n",
    "    - lstrip, rstrip\n",
    "- find(): 오프셋을 변환\n",
    "    - lfind, rfind\n",
    "    - 공백 포함\n",
    "    - 1번째 값의 인덱스를 찾음\n",
    "    - 만족하는 값이 없는 경우 -1 반환\n",
    "- index(string)\n",
    "    - 만족하는 값이 없는 경우 에러 발생(find와의 차이점)\n",
    "\n"
   ]
  },
  {
   "cell_type": "code",
   "execution_count": 4,
   "id": "c37bb5ff",
   "metadata": {},
   "outputs": [
    {
     "data": {
      "text/plain": [
       "1661"
      ]
     },
     "execution_count": 4,
     "metadata": {},
     "output_type": "execute_result"
    }
   ],
   "source": [
    "book.text1.count('he')  # text1에서 'he'가 총 몇번 등장하는지 반환"
   ]
  },
  {
   "cell_type": "code",
   "execution_count": 4,
   "id": "d9eda534",
   "metadata": {},
   "outputs": [
    {
     "data": {
      "text/plain": [
       "'Word'"
      ]
     },
     "execution_count": 4,
     "metadata": {},
     "output_type": "execute_result"
    }
   ],
   "source": [
    "'word'.replace('w', 'W') # 문자열 'word'의 소문자 w를 대문자 W로 변경"
   ]
  },
  {
   "cell_type": "code",
   "execution_count": 10,
   "id": "7d24d926",
   "metadata": {},
   "outputs": [
    {
     "data": {
      "text/plain": [
       "'word'"
      ]
     },
     "execution_count": 10,
     "metadata": {},
     "output_type": "execute_result"
    }
   ],
   "source": [
    "'  \\n    word'.strip()  # 공백 제거"
   ]
  },
  {
   "cell_type": "code",
   "execution_count": 11,
   "id": "01f07c0a",
   "metadata": {},
   "outputs": [
    {
     "data": {
      "text/plain": [
       "'word'"
      ]
     },
     "execution_count": 11,
     "metadata": {},
     "output_type": "execute_result"
    }
   ],
   "source": [
    "'  \\n    word'.lstrip()  # 왼쪽 공백 제거(\\n도 함께 삭제된다.)"
   ]
  },
  {
   "cell_type": "code",
   "execution_count": 12,
   "id": "39427841",
   "metadata": {},
   "outputs": [
    {
     "data": {
      "text/plain": [
       "'  \\n    word'"
      ]
     },
     "execution_count": 12,
     "metadata": {},
     "output_type": "execute_result"
    }
   ],
   "source": [
    "'  \\n    word'.rstrip()  # 오른쪽 공백 제거"
   ]
  },
  {
   "cell_type": "code",
   "execution_count": 13,
   "id": "1cb15463",
   "metadata": {},
   "outputs": [
    {
     "data": {
      "text/plain": [
       "'More'"
      ]
     },
     "execution_count": 13,
     "metadata": {},
     "output_type": "execute_result"
    }
   ],
   "source": [
    "word = '  \\n    word'\n",
    "word.replace('w', 'M').strip().replace('d', 'e')  # 오른쪽부터 실행"
   ]
  },
  {
   "cell_type": "code",
   "execution_count": 14,
   "id": "0938f263",
   "metadata": {},
   "outputs": [
    {
     "data": {
      "text/plain": [
       "9"
      ]
     },
     "execution_count": 14,
     "metadata": {},
     "output_type": "execute_result"
    }
   ],
   "source": [
    "word2 = '  \\n    word'\n",
    "word2.find('r')   # 'r'이 언제 처음 등장하는지 인덱스 번호 반환"
   ]
  },
  {
   "cell_type": "code",
   "execution_count": 16,
   "id": "26f3a359",
   "metadata": {},
   "outputs": [
    {
     "data": {
      "text/plain": [
       "9"
      ]
     },
     "execution_count": 16,
     "metadata": {},
     "output_type": "execute_result"
    }
   ],
   "source": [
    "word2.index('r')  # str.index()도 .find와 같은 역할"
   ]
  },
  {
   "cell_type": "code",
   "execution_count": 14,
   "id": "8d5208c6",
   "metadata": {},
   "outputs": [
    {
     "data": {
      "text/plain": [
       "-1"
      ]
     },
     "execution_count": 14,
     "metadata": {},
     "output_type": "execute_result"
    }
   ],
   "source": [
    "word2.find('c')  # 존재하지 않는 값 find 하면 -1 반환"
   ]
  },
  {
   "cell_type": "code",
   "execution_count": 15,
   "id": "f10713c4",
   "metadata": {},
   "outputs": [
    {
     "ename": "ValueError",
     "evalue": "substring not found",
     "output_type": "error",
     "traceback": [
      "\u001b[1;31m---------------------------------------------------------------------------\u001b[0m",
      "\u001b[1;31mValueError\u001b[0m                                Traceback (most recent call last)",
      "\u001b[1;32m~\\AppData\\Local\\Temp/ipykernel_17324/3615158748.py\u001b[0m in \u001b[0;36m<module>\u001b[1;34m\u001b[0m\n\u001b[1;32m----> 1\u001b[1;33m \u001b[0mword2\u001b[0m\u001b[1;33m.\u001b[0m\u001b[0mindex\u001b[0m\u001b[1;33m(\u001b[0m\u001b[1;34m'c'\u001b[0m\u001b[1;33m)\u001b[0m\u001b[1;33m\u001b[0m\u001b[1;33m\u001b[0m\u001b[0m\n\u001b[0m",
      "\u001b[1;31mValueError\u001b[0m: substring not found"
     ]
    }
   ],
   "source": [
    "word2.index('c')   # 존재하지 않는 값 index 하면 에러 발생"
   ]
  },
  {
   "cell_type": "markdown",
   "id": "f4c001db",
   "metadata": {},
   "source": [
    "### NLTK 내장 함수\n",
    "- list.method(var)\n",
    "- 자연어 처리와 관련된 함수들\n",
    "- concordance(): string의 앞뒤 문맥을 알 수 있음\n",
    "- similar(): 문맥이 비슷한 단어들 반환\n",
    "- common_contexts(): 주어진 스트링이 어떤 문맥을 공유하는지\n",
    "- dispersion_plot(): 주어진 스트링이 텍스트에서 출현하는 위치를 이미지로 나타내는 함수\n",
    "\n",
    "#### 추가\n",
    "- vocab(): 단어의 빈도수 반환\n"
   ]
  },
  {
   "cell_type": "code",
   "execution_count": 5,
   "id": "e074835d",
   "metadata": {},
   "outputs": [
    {
     "name": "stdout",
     "output_type": "stream",
     "text": [
      "Displaying 25 of 1226 matches:\n",
      "s , and to teach them by what name a whale - fish is to be called in our tongue\n",
      "t which is not true .\" -- HACKLUYT \" WHALE . ... Sw . and Dan . HVAL . This ani\n",
      "ulted .\" -- WEBSTER ' S DICTIONARY \" WHALE . ... It is more immediately from th\n",
      "ISH . WAL , DUTCH . HWAL , SWEDISH . WHALE , ICELANDIC . WHALE , ENGLISH . BALE\n",
      "HWAL , SWEDISH . WHALE , ICELANDIC . WHALE , ENGLISH . BALEINE , FRENCH . BALLE\n",
      "least , take the higgledy - piggledy whale statements , however authentic , in \n",
      " dreadful gulf of this monster ' s ( whale ' s ) mouth , are immediately lost a\n",
      " patient Job .\" -- RABELAIS . \" This whale ' s liver was two cartloads .\" -- ST\n",
      " Touching that monstrous bulk of the whale or ork we have received nothing cert\n",
      " of oil will be extracted out of one whale .\" -- IBID . \" HISTORY OF LIFE AND D\n",
      "ise .\" -- KING HENRY . \" Very like a whale .\" -- HAMLET . \" Which to secure , n\n",
      "restless paine , Like as the wounded whale to shore flies thro ' the maine .\" -\n",
      ". OF SPERMA CETI AND THE SPERMA CETI WHALE . VIDE HIS V . E . \" Like Spencer ' \n",
      "t had been a sprat in the mouth of a whale .\" -- PILGRIM ' S PROGRESS . \" That \n",
      "EN ' S ANNUS MIRABILIS . \" While the whale is floating at the stern of the ship\n",
      "e ship called The Jonas - in - the - Whale . ... Some say the whale can ' t ope\n",
      " in - the - Whale . ... Some say the whale can ' t open his mouth , but that is\n",
      " masts to see whether they can see a whale , for the first discoverer has a duc\n",
      " for his pains . ... I was told of a whale taken near Shetland , that had above\n",
      "oneers told me that he caught once a whale in Spitzbergen that was white all ov\n",
      "2 , one eighty feet in length of the whale - bone kind came in , which ( as I w\n",
      "n master and kill this Sperma - ceti whale , for I could never hear of any of t\n",
      " . 1729 . \"... and the breath of the whale is frequendy attended with such an i\n",
      "ed with hoops and armed with ribs of whale .\" -- RAPE OF THE LOCK . \" If we com\n",
      "contemptible in the comparison . The whale is doubtless the largest animal in c\n"
     ]
    }
   ],
   "source": [
    "book.text1.concordance('whale')  # 'whale'을 중심에 놓고 문맥을 찾아준다.(대소문자 구분 X)"
   ]
  },
  {
   "cell_type": "code",
   "execution_count": 7,
   "id": "e882ef73",
   "metadata": {},
   "outputs": [
    {
     "name": "stdout",
     "output_type": "stream",
     "text": [
      "ship boat sea time captain world man deck pequod other whales air\n",
      "water head crew line thing side way body\n"
     ]
    }
   ],
   "source": [
    "book.text1.similar('whale')  # 'whale' 단어와 비슷한 환경에서 쓰인 단어들 반환"
   ]
  },
  {
   "cell_type": "code",
   "execution_count": 17,
   "id": "d72a0d5a",
   "metadata": {},
   "outputs": [
    {
     "name": "stdout",
     "output_type": "stream",
     "text": [
      "am_glad a_pretty a_lucky is_pretty be_glad\n"
     ]
    }
   ],
   "source": [
    "book.text2.common_contexts(['monstrous', 'very'])  # 두 단어의 공통문맥을 반환"
   ]
  },
  {
   "cell_type": "code",
   "execution_count": 18,
   "id": "90208944",
   "metadata": {},
   "outputs": [
    {
     "data": {
      "image/png": "[encoded data removed]",
      "text/plain": [
       "<Figure size 432x288 with 1 Axes>"
      ]
     },
     "metadata": {
      "needs_background": "light"
     },
     "output_type": "display_data"
    }
   ],
   "source": [
    "book.text4.dispersion_plot(['citizen', 'America', 'freedom'])"
   ]
  },
  {
   "cell_type": "code",
   "execution_count": 23,
   "id": "7c8448f8",
   "metadata": {},
   "outputs": [
    {
     "name": "stdout",
     "output_type": "stream",
     "text": [
      "Requirement already satisfied: matplotlib in c:\\users\\kupa1\\anaconda3\\lib\\site-packages (3.4.3)\n",
      "Requirement already satisfied: pyparsing>=2.2.1 in c:\\users\\kupa1\\anaconda3\\lib\\site-packages (from matplotlib) (3.0.4)\n",
      "Requirement already satisfied: pillow>=6.2.0 in c:\\users\\kupa1\\anaconda3\\lib\\site-packages (from matplotlib) (8.4.0)\n",
      "Requirement already satisfied: cycler>=0.10 in c:\\users\\kupa1\\anaconda3\\lib\\site-packages (from matplotlib) (0.10.0)\n",
      "Requirement already satisfied: numpy>=1.16 in c:\\users\\kupa1\\anaconda3\\lib\\site-packages (from matplotlib) (1.20.3)\n",
      "Requirement already satisfied: python-dateutil>=2.7 in c:\\users\\kupa1\\anaconda3\\lib\\site-packages (from matplotlib) (2.8.2)\n",
      "Requirement already satisfied: kiwisolver>=1.0.1 in c:\\users\\kupa1\\anaconda3\\lib\\site-packages (from matplotlib) (1.3.1)\n",
      "Requirement already satisfied: six in c:\\users\\kupa1\\anaconda3\\lib\\site-packages (from cycler>=0.10->matplotlib) (1.16.0)\n"
     ]
    }
   ],
   "source": [
    "!pip install matplotlib"
   ]
  },
  {
   "cell_type": "markdown",
   "id": "59bfe1cd",
   "metadata": {},
   "source": [
    "### Frequency Distribution (FreqDist)\n",
    "- 단어의 빈도수를 활용할 수 있는 많은 메소드를 제공\n",
    "- 인간의 언어 -> 컴퓨터가 인식\n",
    "    - 전체 단어 수\n",
    "    - 특정 단어의 빈도수\n",
    "    "
   ]
  },
  {
   "cell_type": "code",
   "execution_count": 5,
   "id": "bb47707d",
   "metadata": {},
   "outputs": [
    {
     "data": {
      "text/plain": [
       "FreqDist({',': 18713, 'the': 13721, '.': 6862, 'of': 6536, 'and': 6024, 'a': 4569, 'to': 4542, ';': 4072, 'in': 3916, 'that': 2982, ...})"
      ]
     },
     "execution_count": 5,
     "metadata": {},
     "output_type": "execute_result"
    }
   ],
   "source": [
    "import nltk\n",
    "fdist = nltk.FreqDist(book.text1) # 각 토큰의 출현횟수를 담은 FreqDist객체 반환\n",
    "fdist  # dictionary = key:value"
   ]
  },
  {
   "cell_type": "code",
   "execution_count": 35,
   "id": "644368b3",
   "metadata": {},
   "outputs": [
    {
     "data": {
      "text/plain": [
       "[(',', 18713),\n",
       " ('the', 13721),\n",
       " ('.', 6862),\n",
       " ('of', 6536),\n",
       " ('and', 6024),\n",
       " ('a', 4569),\n",
       " ('to', 4542),\n",
       " (';', 4072),\n",
       " ('in', 3916),\n",
       " ('that', 2982)]"
      ]
     },
     "execution_count": 35,
     "metadata": {},
     "output_type": "execute_result"
    }
   ],
   "source": [
    "fdist.most_common(10)"
   ]
  },
  {
   "cell_type": "code",
   "execution_count": 37,
   "id": "68559b0f",
   "metadata": {},
   "outputs": [
    {
     "data": {
      "text/plain": [
       "(906, 906)"
      ]
     },
     "execution_count": 37,
     "metadata": {},
     "output_type": "execute_result"
    }
   ],
   "source": [
    "fdist['whale'], book.text1.count('whale')  # 'whale' 등장횟수를 찾는 두가지 방법"
   ]
  },
  {
   "cell_type": "code",
   "execution_count": 38,
   "id": "349ebe9c",
   "metadata": {},
   "outputs": [
    {
     "data": {
      "text/plain": [
       "0.003473673313677301"
      ]
     },
     "execution_count": 38,
     "metadata": {},
     "output_type": "execute_result"
    }
   ],
   "source": [
    "fdist.freq('whale')  # 906 / 260819"
   ]
  },
  {
   "cell_type": "code",
   "execution_count": 7,
   "id": "3362b7d4",
   "metadata": {},
   "outputs": [
    {
     "data": {
      "image/png": "[encoded data removed]",
      "text/plain": [
       "<Figure size 432x288 with 1 Axes>"
      ]
     },
     "metadata": {
      "needs_background": "light"
     },
     "output_type": "display_data"
    },
    {
     "data": {
      "text/plain": [
       "<AxesSubplot:xlabel='Samples', ylabel='Cumulative Counts'>"
      ]
     },
     "execution_count": 7,
     "metadata": {},
     "output_type": "execute_result"
    }
   ],
   "source": [
    "fdist.plot(50, cumulative=True)  # 누적 선 그래프"
   ]
  },
  {
   "cell_type": "code",
   "execution_count": 40,
   "id": "a606861a",
   "metadata": {},
   "outputs": [
    {
     "data": {
      "image/png": "[encoded data removed]",
      "text/plain": [
       "<Figure size 432x288 with 1 Axes>"
      ]
     },
     "metadata": {
      "needs_background": "light"
     },
     "output_type": "display_data"
    },
    {
     "data": {
      "text/plain": [
       "<AxesSubplot:xlabel='Samples', ylabel='Counts'>"
      ]
     },
     "execution_count": 40,
     "metadata": {},
     "output_type": "execute_result"
    }
   ],
   "source": [
    "fdist.plot(50, cumulative=False)"
   ]
  },
  {
   "cell_type": "code",
   "execution_count": 41,
   "id": "adf237c3",
   "metadata": {},
   "outputs": [
    {
     "data": {
      "text/plain": [
       "9002"
      ]
     },
     "execution_count": 41,
     "metadata": {},
     "output_type": "execute_result"
    }
   ],
   "source": [
    "# 1번 나타나는 단어들\n",
    "len(fdist.hapaxes())  # 중복 X, 대소문자는 구분됨\n",
    "# hapax: 한번 밖에 사용된 적 없는 단어"
   ]
  },
  {
   "cell_type": "markdown",
   "id": "e028f405",
   "metadata": {},
   "source": [
    "### 리스트 & 리스트 컴프리헨션\n",
    "- 리스트: 배열(array), 리스트(list)\n",
    "- 하나의 변수에 여러 값을 할당하는 자료형\n",
    "    - 'a = [1, 2, 3, 4]'\n",
    "- 대괄호로 선언[  ]\n",
    "- 내부 요소들은 자료형이 달라도 됨\n",
    "    - a = [1 ,True, 'hello']\n",
    "- 순서가 있다 --> 인덱싱, 슬라이싱이 가능\n",
    "- 빈 리스트 선언: list(), []"
   ]
  },
  {
   "cell_type": "code",
   "execution_count": 19,
   "id": "c8434fef",
   "metadata": {},
   "outputs": [
    {
     "data": {
      "text/plain": [
       "['hello', True, 1]"
      ]
     },
     "execution_count": 19,
     "metadata": {},
     "output_type": "execute_result"
    }
   ],
   "source": [
    "a = [1, True, 'hello']\n",
    "a[::-1]  # 거꾸로 반환"
   ]
  },
  {
   "cell_type": "code",
   "execution_count": 20,
   "id": "1756efba",
   "metadata": {},
   "outputs": [],
   "source": [
    "# 빈 리시트 생성\n",
    "b = []\n",
    "b = list()"
   ]
  },
  {
   "cell_type": "code",
   "execution_count": 9,
   "id": "00fcafe7",
   "metadata": {},
   "outputs": [
    {
     "data": {
      "text/plain": [
       "'soju'"
      ]
     },
     "execution_count": 9,
     "metadata": {},
     "output_type": "execute_result"
    }
   ],
   "source": [
    "# 리스트 인덱싱\n",
    "drinks = ['rum', 'mojito', 'soju']\n",
    "drinks[-1]"
   ]
  },
  {
   "cell_type": "code",
   "execution_count": 12,
   "id": "8da7eedf",
   "metadata": {},
   "outputs": [
    {
     "ename": "AttributeError",
     "evalue": "'list' object has no attribute 'find'",
     "output_type": "error",
     "traceback": [
      "\u001b[1;31m---------------------------------------------------------------------------\u001b[0m",
      "\u001b[1;31mAttributeError\u001b[0m                            Traceback (most recent call last)",
      "\u001b[1;32m~\\AppData\\Local\\Temp/ipykernel_13576/678376456.py\u001b[0m in \u001b[0;36m<module>\u001b[1;34m\u001b[0m\n\u001b[0;32m      1\u001b[0m \u001b[1;31m# drinks 에서 soju의 위치(오프셋)를 알고싶다.\u001b[0m\u001b[1;33m\u001b[0m\u001b[1;33m\u001b[0m\u001b[0m\n\u001b[0;32m      2\u001b[0m \u001b[1;33m\u001b[0m\u001b[0m\n\u001b[1;32m----> 3\u001b[1;33m \u001b[0mdrinks\u001b[0m\u001b[1;33m.\u001b[0m\u001b[0mfind\u001b[0m\u001b[1;33m(\u001b[0m\u001b[1;34m'soju'\u001b[0m\u001b[1;33m)\u001b[0m\u001b[1;33m\u001b[0m\u001b[1;33m\u001b[0m\u001b[0m\n\u001b[0m",
      "\u001b[1;31mAttributeError\u001b[0m: 'list' object has no attribute 'find'"
     ]
    }
   ],
   "source": [
    "# drinks 에서 soju의 위치(오프셋)를 알고싶다.\n",
    "drinks.index('soju') # O\n",
    "drinks.find('soju')  # X 리스트는 find 안됨"
   ]
  },
  {
   "cell_type": "markdown",
   "id": "4e75f0e7",
   "metadata": {},
   "source": [
    "#### list comprehension\n",
    "- 지능형 리스트\n",
    "- 주어진 리스트를 포함하는 새로운 리스트를 형성하는 것\n",
    "- list + for_loop 한 줄로 해결하는 방식\n",
    "- [A for A' in B]\n",
    "    - B에 있는 A'에서 A를 가진 리스트를 반환\n",
    "    - B: 기존의 리스트\n",
    "    - A': B의 자료 형태\n",
    "   - A: 새로운 리스트의 요소들(출력값)\n",
    "\n",
    "- 조건+ : [A for A' in B if 조건식]\n",
    "    - [A for A' in B if 조건식 and 조건식,.....]"
   ]
  },
  {
   "cell_type": "code",
   "execution_count": 28,
   "id": "2480c7be",
   "metadata": {},
   "outputs": [
    {
     "data": {
      "text/plain": [
       "['rum', 'mojito', 'soju']"
      ]
     },
     "execution_count": 28,
     "metadata": {},
     "output_type": "execute_result"
    }
   ],
   "source": [
    "[d for d in drinks]  # 기본 형식"
   ]
  },
  {
   "cell_type": "code",
   "execution_count": 29,
   "id": "65b01a2e",
   "metadata": {},
   "outputs": [
    {
     "data": {
      "text/plain": [
       "['r', 'm', 's']"
      ]
     },
     "execution_count": 29,
     "metadata": {},
     "output_type": "execute_result"
    }
   ],
   "source": [
    "[d[0] for d in drinks] "
   ]
  },
  {
   "cell_type": "code",
   "execution_count": 31,
   "id": "00c65df3",
   "metadata": {
    "scrolled": false
   },
   "outputs": [
    {
     "data": {
      "text/plain": [
       "['Consumptive',\n",
       " 'threadbare',\n",
       " 'handkerchief',\n",
       " 'embellished',\n",
       " 'signification',\n",
       " 'DICTIONARY',\n",
       " 'immediately',\n",
       " 'RICHARDSON',\n",
       " 'DICTIONARY',\n",
       " 'ERROMANGOAN']"
      ]
     },
     "execution_count": 31,
     "metadata": {},
     "output_type": "execute_result"
    }
   ],
   "source": [
    "# text1에서 알파벳 수가 10이상인 단어\n",
    "[b for b in book.text1 if len(b)>=10][:10]\n",
    "\n",
    "# book.text1 에서 조건식을 만족하는 b의 값을 반환"
   ]
  },
  {
   "cell_type": "code",
   "execution_count": 14,
   "id": "8107f895",
   "metadata": {},
   "outputs": [
    {
     "data": {
      "text/plain": [
       "['patriotism',\n",
       " 'patriotism',\n",
       " 'despotism',\n",
       " 'patriotism',\n",
       " 'dismember',\n",
       " 'patriotism',\n",
       " 'patriotism',\n",
       " 'patriotism',\n",
       " 'patriotism',\n",
       " 'patriotism']"
      ]
     },
     "execution_count": 14,
     "metadata": {},
     "output_type": "execute_result"
    }
   ],
   "source": [
    "# text4에서 'ism'를 포함하는 단어 반환\n",
    "[word for word in book.text4 if 'ism' in word][:10]"
   ]
  },
  {
   "cell_type": "code",
   "execution_count": null,
   "id": "43790003",
   "metadata": {},
   "outputs": [],
   "source": [
    "#중요# \n",
    "# text4에서 'ism'를 포함하는 단어 반환 (중복 X 버전)\n",
    "# set처리를 어디서 하냐에 따라 결과값이 다르게 나온다\n",
    "# 순서의 차이\n",
    "\n",
    "a = [word for word in set(book.text4) if 'ism' in word]\n",
    "    # set 처리 후 연산 진행\n",
    "    # 최종결과: 리스트\n",
    "b = set([word for word in book.text4 if 'ism' in word])\n",
    "    # 연산 후 set 처리\n",
    "    # 최종결과: set"
   ]
  },
  {
   "cell_type": "code",
   "execution_count": 25,
   "id": "f3082120",
   "metadata": {},
   "outputs": [
    {
     "data": {
      "text/plain": [
       "(35, 32)"
      ]
     },
     "execution_count": 25,
     "metadata": {},
     "output_type": "execute_result"
    }
   ],
   "source": [
    "# 결과값 모두 소문자로 변환\n",
    "\n",
    "a = [word.lower() for word in set(book.text4) if 'ism' in word]\n",
    "    # 대소문자 구분 O\n",
    "    # set는 patriotism이랑 Patriotism 구분 함.\n",
    "b = set([word.lower() for word in book.text4 if 'ism' in word])\n",
    "    # 대소문자 구분 X\n",
    "    # patriotism이랑 Patriotism 모두 소문자화 시킨 후 중복처리\n",
    "len(a), len(b)"
   ]
  },
  {
   "cell_type": "code",
   "execution_count": 24,
   "id": "3034174d",
   "metadata": {},
   "outputs": [
    {
     "data": {
      "text/plain": [
       "True"
      ]
     },
     "execution_count": 24,
     "metadata": {},
     "output_type": "execute_result"
    }
   ],
   "source": [
    "'ism' in 'patriotism'"
   ]
  },
  {
   "cell_type": "code",
   "execution_count": 23,
   "id": "5f222bc1",
   "metadata": {
    "collapsed": true
   },
   "outputs": [
    {
     "ename": "IndentationError",
     "evalue": "expected an indented block (Temp/ipykernel_13576/2934791096.py, line 2)",
     "output_type": "error",
     "traceback": [
      "\u001b[1;36m  File \u001b[1;32m\"C:\\Users\\kupa1\\AppData\\Local\\Temp/ipykernel_13576/2934791096.py\"\u001b[1;36m, line \u001b[1;32m2\u001b[0m\n\u001b[1;33m    if a:\u001b[0m\n\u001b[1;37m         ^\u001b[0m\n\u001b[1;31mIndentationError\u001b[0m\u001b[1;31m:\u001b[0m expected an indented block\n"
     ]
    }
   ],
   "source": [
    "# if a == True: 이런 식으로 쓰면 안됨 \n",
    "a = True\n",
    "if a:"
   ]
  },
  {
   "cell_type": "markdown",
   "id": "b5788c6c",
   "metadata": {},
   "source": [
    "### 조건을 위한 함수: uncased, cased\n",
    "- 'the' != 'The'\n",
    "- upper(), lower(), title()\n",
    "- capitalize(), swapcase()\n",
    "- isupper(), islower(), istitle()\n",
    "- endswith(), startswith(), isalpha()"
   ]
  },
  {
   "cell_type": "code",
   "execution_count": 33,
   "id": "78c58ebe",
   "metadata": {},
   "outputs": [
    {
     "data": {
      "text/plain": [
       "'Word'"
      ]
     },
     "execution_count": 33,
     "metadata": {},
     "output_type": "execute_result"
    }
   ],
   "source": [
    "'word'.upper()  # 모든 글자 대문자화\n",
    "'word'.title()  # 첫 글자만 대문자화"
   ]
  },
  {
   "cell_type": "code",
   "execution_count": 42,
   "id": "2e062209",
   "metadata": {},
   "outputs": [
    {
     "data": {
      "text/plain": [
       "True"
      ]
     },
     "execution_count": 42,
     "metadata": {},
     "output_type": "execute_result"
    }
   ],
   "source": [
    "'WORD'.isupper()  # True\n",
    "'worD'.islower()  # False\n",
    "'Word'.istitle()  # True"
   ]
  },
  {
   "cell_type": "code",
   "execution_count": 37,
   "id": "b781c6cc",
   "metadata": {},
   "outputs": [
    {
     "data": {
      "text/plain": [
       "False"
      ]
     },
     "execution_count": 37,
     "metadata": {},
     "output_type": "execute_result"
    }
   ],
   "source": [
    "'word'.startswith('w')  # True\n",
    "'word'.endswith('rd')  # True\n",
    "'1234'.isalpha()  # string이 알파벳인지 아닌지 판정"
   ]
  },
  {
   "cell_type": "code",
   "execution_count": 36,
   "id": "85956e93",
   "metadata": {},
   "outputs": [
    {
     "data": {
      "text/plain": [
       "'WoRd'"
      ]
     },
     "execution_count": 36,
     "metadata": {},
     "output_type": "execute_result"
    }
   ],
   "source": [
    "'word'.capitalize()  \n",
    "'wOrD'.swapcase()  # 대소문자 변환"
   ]
  },
  {
   "cell_type": "code",
   "execution_count": 50,
   "id": "73dff6ef",
   "metadata": {},
   "outputs": [
    {
     "data": {
      "text/plain": [
       "['sovereign',\n",
       " 'foreign',\n",
       " 'reign',\n",
       " 'foreign',\n",
       " 'foreign',\n",
       " 'reign',\n",
       " 'foreign',\n",
       " 'foreign',\n",
       " 'foreign',\n",
       " 'foreign']"
      ]
     },
     "execution_count": 50,
     "metadata": {},
     "output_type": "execute_result"
    }
   ],
   "source": [
    "# text1에서 'eign'로 끝나는 단어 반환(10개만)\n",
    "[word for word in book.text1 if word.endswith('eign')][:10]"
   ]
  },
  {
   "cell_type": "code",
   "execution_count": 46,
   "id": "fec534f0",
   "metadata": {
    "collapsed": true
   },
   "outputs": [
    {
     "data": {
      "text/plain": [
       "{'ABEL',\n",
       " 'ABELMIZRAIM',\n",
       " 'ABIDAH',\n",
       " 'ABIDE',\n",
       " 'ABIMAEL',\n",
       " 'ABIMELECH',\n",
       " 'ABR',\n",
       " 'ABRAH',\n",
       " 'ABRAHAM',\n",
       " 'ABRAM',\n",
       " 'ACCAD',\n",
       " 'ACHBOR',\n",
       " 'ADAH',\n",
       " 'ADAM',\n",
       " 'ADBEEL',\n",
       " 'ADMAH',\n",
       " 'ADULLAMITE',\n",
       " 'AFTER',\n",
       " 'AHOLIBAMAH',\n",
       " 'AHUZZATH',\n",
       " 'AJAH',\n",
       " 'AKAN',\n",
       " 'ALL',\n",
       " 'ALLONBACHUTH',\n",
       " 'ALMIGHTY',\n",
       " 'ALMODAD',\n",
       " 'ALSO',\n",
       " 'ALVAH',\n",
       " 'ALVAN',\n",
       " 'AMAL',\n",
       " 'AMALEK',\n",
       " 'AMALEKITES',\n",
       " 'AMMON',\n",
       " 'AMORITE',\n",
       " 'AMORITES',\n",
       " 'AMRAPHEL',\n",
       " 'ANAH',\n",
       " 'ANAMIM',\n",
       " 'AND',\n",
       " 'ANER',\n",
       " 'ANGEL',\n",
       " 'APPOINT',\n",
       " 'ARAM',\n",
       " 'ARAN',\n",
       " 'ARARAT',\n",
       " 'ARBAH',\n",
       " 'ARD',\n",
       " 'ARE',\n",
       " 'ARELI',\n",
       " 'ARIOCH',\n",
       " 'ARISE',\n",
       " 'ARKITE',\n",
       " 'ARODI',\n",
       " 'ARPHAXAD',\n",
       " 'ART',\n",
       " 'ARVADITE',\n",
       " 'ASENATH',\n",
       " 'ASHBEL',\n",
       " 'ASHER',\n",
       " 'ASHKENAZ',\n",
       " 'ASHTEROTH',\n",
       " 'ASK',\n",
       " 'ASSHUR',\n",
       " 'ASSHURIM',\n",
       " 'ASSYR',\n",
       " 'ASSYRIA',\n",
       " 'ATAD',\n",
       " 'AVITH',\n",
       " 'BAALHANAN',\n",
       " 'BABEL',\n",
       " 'BASHEMATH',\n",
       " 'BECAUSE',\n",
       " 'BECHER',\n",
       " 'BEDAD',\n",
       " 'BEERI',\n",
       " 'BEERLAHAIROI',\n",
       " 'BEERSHEBA',\n",
       " 'BEHOLD',\n",
       " 'BELA',\n",
       " 'BELAH',\n",
       " 'BENAM',\n",
       " 'BENJAMIN',\n",
       " 'BENO',\n",
       " 'BEOR',\n",
       " 'BERA',\n",
       " 'BERED',\n",
       " 'BERIAH',\n",
       " 'BETHEL',\n",
       " 'BETHLEHEM',\n",
       " 'BETHUEL',\n",
       " 'BEWARE',\n",
       " 'BILHAH',\n",
       " 'BILHAN',\n",
       " 'BINDING',\n",
       " 'BIRSHA',\n",
       " 'BLESS',\n",
       " 'BLESSED',\n",
       " 'BOTH',\n",
       " 'BOW',\n",
       " 'BOZRAH',\n",
       " 'BRING',\n",
       " 'BUT',\n",
       " 'BUZ',\n",
       " 'CAIN',\n",
       " 'CAINAN',\n",
       " 'CALAH',\n",
       " 'CALNEH',\n",
       " 'CAN',\n",
       " 'CANA',\n",
       " 'CANAAN',\n",
       " 'CANAANITE',\n",
       " 'CANAANITES',\n",
       " 'CANAANITISH',\n",
       " 'CAPHTORIM',\n",
       " 'CARMI',\n",
       " 'CASLUHIM',\n",
       " 'CAST',\n",
       " 'CAUSE',\n",
       " 'CHALDEES',\n",
       " 'CHEDORLAOMER',\n",
       " 'CHERAN',\n",
       " 'CHERUBIMS',\n",
       " 'CHESED',\n",
       " 'CHEZIB',\n",
       " 'COME',\n",
       " 'CURSED',\n",
       " 'CUSH',\n",
       " 'DAMASCUS',\n",
       " 'DAN',\n",
       " 'DAY',\n",
       " 'DEBORAH',\n",
       " 'DEDAN',\n",
       " 'DELIVER',\n",
       " 'DIKLAH',\n",
       " 'DIN',\n",
       " 'DINAH',\n",
       " 'DINHABAH',\n",
       " 'DISCERN',\n",
       " 'DISHAN',\n",
       " 'DISHON',\n",
       " 'DODANIM',\n",
       " 'DOTHAN',\n",
       " 'DRINK',\n",
       " 'DUKE',\n",
       " 'DUMAH',\n",
       " 'EARTH',\n",
       " 'EBAL',\n",
       " 'EBER',\n",
       " 'EDAR',\n",
       " 'EDEN',\n",
       " 'EDOM',\n",
       " 'EDOMITES',\n",
       " 'EGY',\n",
       " 'EGYPT',\n",
       " 'EGYPTIA',\n",
       " 'EGYPTIAN',\n",
       " 'EGYPTIANS',\n",
       " 'EHI',\n",
       " 'ELAH',\n",
       " 'ELAM',\n",
       " 'ELBETHEL',\n",
       " 'ELDAAH',\n",
       " 'ELIEZER',\n",
       " 'ELIPHAZ',\n",
       " 'ELISHAH',\n",
       " 'ELLASAR',\n",
       " 'ELON',\n",
       " 'ELPARAN',\n",
       " 'EMINS',\n",
       " 'ENMISHPAT',\n",
       " 'ENO',\n",
       " 'ENOCH',\n",
       " 'ENOS',\n",
       " 'EPHAH',\n",
       " 'EPHER',\n",
       " 'EPHRA',\n",
       " 'EPHRAIM',\n",
       " 'EPHRATH',\n",
       " 'EPHRON',\n",
       " 'ERECH',\n",
       " 'ERI',\n",
       " 'ESAU',\n",
       " 'ESCAPE',\n",
       " 'ESEK',\n",
       " 'ESHBAN',\n",
       " 'ESHCOL',\n",
       " 'ETHIOPIA',\n",
       " 'EUPHRAT',\n",
       " 'EUPHRATES',\n",
       " 'EVE',\n",
       " 'EVEN',\n",
       " 'EVERY',\n",
       " 'EXCEPT',\n",
       " 'EZBON',\n",
       " 'EZER',\n",
       " 'FEAR',\n",
       " 'FEED',\n",
       " 'FIFTEEN',\n",
       " 'FILL',\n",
       " 'FOR',\n",
       " 'FORASMUCH',\n",
       " 'FORGIVE',\n",
       " 'FROM',\n",
       " 'FULFIL',\n",
       " 'GAD',\n",
       " 'GAHAM',\n",
       " 'GALEED',\n",
       " 'GATAM',\n",
       " 'GATHER',\n",
       " 'GAZA',\n",
       " 'GENTILES',\n",
       " 'GERA',\n",
       " 'GERAR',\n",
       " 'GERSHON',\n",
       " 'GET',\n",
       " 'GETHER',\n",
       " 'GIHON',\n",
       " 'GILEAD',\n",
       " 'GIRGASHITES',\n",
       " 'GIRGASITE',\n",
       " 'GIVE',\n",
       " 'GOD',\n",
       " 'GOMER',\n",
       " 'GOMORRAH',\n",
       " 'GOSHEN',\n",
       " 'GUNI',\n",
       " 'HADAD',\n",
       " 'HADAR',\n",
       " 'HADORAM',\n",
       " 'HAGAR',\n",
       " 'HAGGI',\n",
       " 'HAI',\n",
       " 'HAM',\n",
       " 'HAMATHITE',\n",
       " 'HAMOR',\n",
       " 'HAMUL',\n",
       " 'HANOCH',\n",
       " 'HAPPY',\n",
       " 'HARAN',\n",
       " 'HAST',\n",
       " 'HASTE',\n",
       " 'HAVE',\n",
       " 'HAVILAH',\n",
       " 'HAZARMAVETH',\n",
       " 'HAZEZONTAMAR',\n",
       " 'HAZO',\n",
       " 'HEAR',\n",
       " 'HEAVEN',\n",
       " 'HEBER',\n",
       " 'HEBREW',\n",
       " 'HEBREWS',\n",
       " 'HEBRON',\n",
       " 'HEMAM',\n",
       " 'HEMDAN',\n",
       " 'HERE',\n",
       " 'HEREBY',\n",
       " 'HETH',\n",
       " 'HEZRON',\n",
       " 'HIDDEKEL',\n",
       " 'HINDER',\n",
       " 'HIRAH',\n",
       " 'HIS',\n",
       " 'HITTI',\n",
       " 'HITTITE',\n",
       " 'HITTITES',\n",
       " 'HIVITE',\n",
       " 'HOBAH',\n",
       " 'HORI',\n",
       " 'HORITE',\n",
       " 'HORITES',\n",
       " 'HOW',\n",
       " 'HUL',\n",
       " 'HUPPIM',\n",
       " 'HUSHAM',\n",
       " 'HUSHIM',\n",
       " 'HUZ',\n",
       " 'IRAD',\n",
       " 'IRAM',\n",
       " 'ISA',\n",
       " 'ISAAC',\n",
       " 'ISCAH',\n",
       " 'ISHBAK',\n",
       " 'ISHMAEL',\n",
       " 'ISHMEELITES',\n",
       " 'ISHUAH',\n",
       " 'ISRA',\n",
       " 'ISRAEL',\n",
       " 'ISSACHAR',\n",
       " 'ISUI',\n",
       " 'ITHRAN',\n",
       " 'JAALAM',\n",
       " 'JABAL',\n",
       " 'JABBOK',\n",
       " 'JAC',\n",
       " 'JACHIN',\n",
       " 'JACOB',\n",
       " 'JAHLEEL',\n",
       " 'JAHZEEL',\n",
       " 'JAMIN',\n",
       " 'JAPHE',\n",
       " 'JAPHETH',\n",
       " 'JARED',\n",
       " 'JAVAN',\n",
       " 'JEBUSITE',\n",
       " 'JEBUSITES',\n",
       " 'JEGARSAHADUTHA',\n",
       " 'JEHOVAHJIREH',\n",
       " 'JEMUEL',\n",
       " 'JERAH',\n",
       " 'JETHETH',\n",
       " 'JETUR',\n",
       " 'JEUSH',\n",
       " 'JEZER',\n",
       " 'JIDLAPH',\n",
       " 'JIMNAH',\n",
       " 'JOB',\n",
       " 'JOBAB',\n",
       " 'JOKSHAN',\n",
       " 'JOKTAN',\n",
       " 'JORDAN',\n",
       " 'JOSEPH',\n",
       " 'JUBAL',\n",
       " 'JUDAH',\n",
       " 'JUDGE',\n",
       " 'JUDITH',\n",
       " 'KADESH',\n",
       " 'KADMONITES',\n",
       " 'KARNAIM',\n",
       " 'KEDAR',\n",
       " 'KEDEMAH',\n",
       " 'KEMUEL',\n",
       " 'KENAZ',\n",
       " 'KENITES',\n",
       " 'KENIZZITES',\n",
       " 'KETURAH',\n",
       " 'KIRIATHAIM',\n",
       " 'KIRJATHARBA',\n",
       " 'KITTIM',\n",
       " 'KNOW',\n",
       " 'KOHATH',\n",
       " 'KOR',\n",
       " 'KORAH',\n",
       " 'LABAN',\n",
       " 'LAHAIROI',\n",
       " 'LAMECH',\n",
       " 'LASHA',\n",
       " 'LAY',\n",
       " 'LEAH',\n",
       " 'LEHABIM',\n",
       " 'LEST',\n",
       " 'LET',\n",
       " 'LETUSHIM',\n",
       " 'LEUMMIM',\n",
       " 'LEVI',\n",
       " 'LIE',\n",
       " 'LIFT',\n",
       " 'LOOK',\n",
       " 'LOT',\n",
       " 'LOTAN',\n",
       " 'LUD',\n",
       " 'LUDIM',\n",
       " 'LUZ',\n",
       " 'MAACHAH',\n",
       " 'MACHIR',\n",
       " 'MACHPELAH',\n",
       " 'MADAI',\n",
       " 'MAGDIEL',\n",
       " 'MAGOG',\n",
       " 'MAHALALEEL',\n",
       " 'MAHALATH',\n",
       " 'MAHANAIM',\n",
       " 'MAKE',\n",
       " 'MALCHIEL',\n",
       " 'MALE',\n",
       " 'MAM',\n",
       " 'MAMRE',\n",
       " 'MAN',\n",
       " 'MANAHATH',\n",
       " 'MANASS',\n",
       " 'MANASSEH',\n",
       " 'MASH',\n",
       " 'MASREKAH',\n",
       " 'MASSA',\n",
       " 'MATRED',\n",
       " 'MEDAN',\n",
       " 'MEHETABEL',\n",
       " 'MEHUJAEL',\n",
       " 'MELCHIZEDEK',\n",
       " 'MERARI',\n",
       " 'MESHA',\n",
       " 'MESHECH',\n",
       " 'MESOPOTAMIA',\n",
       " 'METHUSA',\n",
       " 'METHUSAEL',\n",
       " 'METHUSELAH',\n",
       " 'MEZAHAB',\n",
       " 'MIBSAM',\n",
       " 'MIBZAR',\n",
       " 'MIDIAN',\n",
       " 'MIDIANITES',\n",
       " 'MILCAH',\n",
       " 'MISHMA',\n",
       " 'MIZPAH',\n",
       " 'MIZRAIM',\n",
       " 'MIZZ',\n",
       " 'MOAB',\n",
       " 'MOABITES',\n",
       " 'MOREH',\n",
       " 'MOREOVER',\n",
       " 'MORIAH',\n",
       " 'MUPPIM',\n",
       " 'NAAMAH',\n",
       " 'NAAMAN',\n",
       " 'NAHATH',\n",
       " 'NAHOR',\n",
       " 'NAPHISH',\n",
       " 'NAPHTALI',\n",
       " 'NAPHTUHIM',\n",
       " 'NAY',\n",
       " 'NEBAJOTH',\n",
       " 'NEITHER',\n",
       " 'NIGHT',\n",
       " 'NIMROD',\n",
       " 'NINEVEH',\n",
       " 'NOAH',\n",
       " 'NOD',\n",
       " 'NOT',\n",
       " 'NOW',\n",
       " 'OBAL',\n",
       " 'OHAD',\n",
       " 'OMAR',\n",
       " 'ONAM',\n",
       " 'ONAN',\n",
       " 'ONLY',\n",
       " 'OPHIR',\n",
       " 'OUR',\n",
       " 'OUT',\n",
       " 'PADAN',\n",
       " 'PADANARAM',\n",
       " 'PARAN',\n",
       " 'PASS',\n",
       " 'PATHRUSIM',\n",
       " 'PAU',\n",
       " 'PEACE',\n",
       " 'PELEG',\n",
       " 'PENIEL',\n",
       " 'PENUEL',\n",
       " 'PERADVENTURE',\n",
       " 'PERIZZIT',\n",
       " 'PERIZZITE',\n",
       " 'PERIZZITES',\n",
       " 'PHALLU',\n",
       " 'PHARA',\n",
       " 'PHARAOH',\n",
       " 'PHAREZ',\n",
       " 'PHICHOL',\n",
       " 'PHILISTIM',\n",
       " 'PHILISTINES',\n",
       " 'PHUT',\n",
       " 'PHUVAH',\n",
       " 'PILDASH',\n",
       " 'PINON',\n",
       " 'PISON',\n",
       " 'POTIPHAR',\n",
       " 'POTIPHERAH',\n",
       " 'PUT',\n",
       " 'RAAMAH',\n",
       " 'RACHEL',\n",
       " 'RAMESES',\n",
       " 'REBEK',\n",
       " 'REBEKAH',\n",
       " 'REHOBOTH',\n",
       " 'REMAIN',\n",
       " 'REPHAIMS',\n",
       " 'RESEN',\n",
       " 'RETURN',\n",
       " 'REU',\n",
       " 'REUB',\n",
       " 'REUBEN',\n",
       " 'REUEL',\n",
       " 'REUMAH',\n",
       " 'RIPHATH',\n",
       " 'ROSH',\n",
       " 'SABTAH',\n",
       " 'SABTECH',\n",
       " 'SAID',\n",
       " 'SALAH',\n",
       " 'SALEM',\n",
       " 'SAMLAH',\n",
       " 'SARAH',\n",
       " 'SARAI',\n",
       " 'SAUL',\n",
       " 'SAVE',\n",
       " 'SAY',\n",
       " 'SEBA',\n",
       " 'SEE',\n",
       " 'SEEING',\n",
       " 'SEIR',\n",
       " 'SELL',\n",
       " 'SEND',\n",
       " 'SEPHAR',\n",
       " 'SERAH',\n",
       " 'SERED',\n",
       " 'SERUG',\n",
       " 'SET',\n",
       " 'SETH',\n",
       " 'SHALEM',\n",
       " 'SHALL',\n",
       " 'SHALT',\n",
       " 'SHAMMAH',\n",
       " 'SHAUL',\n",
       " 'SHAVEH',\n",
       " 'SHE',\n",
       " 'SHEBA',\n",
       " 'SHEBAH',\n",
       " 'SHECHEM',\n",
       " 'SHED',\n",
       " 'SHEL',\n",
       " 'SHELAH',\n",
       " 'SHELEPH',\n",
       " 'SHEM',\n",
       " 'SHEMEBER',\n",
       " 'SHEPHO',\n",
       " 'SHILLEM',\n",
       " 'SHILOH',\n",
       " 'SHIMRON',\n",
       " 'SHINAB',\n",
       " 'SHINAR',\n",
       " 'SHOBAL',\n",
       " 'SHOULD',\n",
       " 'SHUAH',\n",
       " 'SHUNI',\n",
       " 'SHUR',\n",
       " 'SICHEM',\n",
       " 'SIDDIM',\n",
       " 'SIDON',\n",
       " 'SIMEON',\n",
       " 'SINITE',\n",
       " 'SITNAH',\n",
       " 'SLAY',\n",
       " 'SOD',\n",
       " 'SODOM',\n",
       " 'SOJOURN',\n",
       " 'SOME',\n",
       " 'SPAKE',\n",
       " 'SPEAK',\n",
       " 'SPIRIT',\n",
       " 'STAND',\n",
       " 'SUCCOTH',\n",
       " 'SURELY',\n",
       " 'SWEAR',\n",
       " 'SYRIAN',\n",
       " 'TAKE',\n",
       " 'TAMAR',\n",
       " 'TARSHISH',\n",
       " 'TEBAH',\n",
       " 'TELL',\n",
       " 'TEMA',\n",
       " 'TEMAN',\n",
       " 'TEMANI',\n",
       " 'TERAH',\n",
       " 'THAHASH',\n",
       " 'THAT',\n",
       " 'THE',\n",
       " 'THEN',\n",
       " 'THERE',\n",
       " 'THEREFORE',\n",
       " 'THESE',\n",
       " 'THEY',\n",
       " 'THIRTY',\n",
       " 'THIS',\n",
       " 'THORNS',\n",
       " 'THOU',\n",
       " 'THUS',\n",
       " 'THY',\n",
       " 'TIDAL',\n",
       " 'TIMNA',\n",
       " 'TIMNAH',\n",
       " 'TIMNATH',\n",
       " 'TIRAS',\n",
       " 'TOGARMAH',\n",
       " 'TOLA',\n",
       " 'TUBAL',\n",
       " 'TUBALCAIN',\n",
       " 'TWELVE',\n",
       " 'TWO',\n",
       " 'UNSTABLE',\n",
       " 'UNTIL',\n",
       " 'UNTO',\n",
       " 'UPON',\n",
       " 'UZAL',\n",
       " 'WHAT',\n",
       " 'WHEN',\n",
       " 'WHENCE',\n",
       " 'WHERE',\n",
       " 'WHEREAS',\n",
       " 'WHEREFORE',\n",
       " 'WHICH',\n",
       " 'WHILE',\n",
       " 'WHO',\n",
       " 'WHOSE',\n",
       " 'WHOSO',\n",
       " 'WHY',\n",
       " 'WILT',\n",
       " 'WITH',\n",
       " 'WOMAN',\n",
       " 'YEA',\n",
       " 'YET',\n",
       " 'ZAAVAN',\n",
       " 'ZAPHNATHPAANEAH',\n",
       " 'ZAR',\n",
       " 'ZARAH',\n",
       " 'ZEBOIIM',\n",
       " 'ZEBOIM',\n",
       " 'ZEBUL',\n",
       " 'ZEBULUN',\n",
       " 'ZEMARITE',\n",
       " 'ZEPHO',\n",
       " 'ZERAH',\n",
       " 'ZIBEON',\n",
       " 'ZIDON',\n",
       " 'ZILLAH',\n",
       " 'ZILPAH',\n",
       " 'ZIMRAN',\n",
       " 'ZIPHION',\n",
       " 'ZOAR',\n",
       " 'ZOHAR',\n",
       " 'ZUZIMS'}"
      ]
     },
     "execution_count": 46,
     "metadata": {},
     "output_type": "execute_result"
    }
   ],
   "source": [
    "# text3에서 대문자로 시작하는 단어들 중에 길이가 3이상인 단어 -> 중복 없이 -> 대문자로 변환\n",
    "\n",
    "set([word.upper() for word in book.text3 if word.istitle() and len(word) >= 3])"
   ]
  },
  {
   "cell_type": "code",
   "execution_count": 49,
   "id": "904ae046",
   "metadata": {},
   "outputs": [
    {
     "data": {
      "text/plain": [
       "[6, 8, 6, 5, 15, 12, 8, 4, 5, 5]"
      ]
     },
     "execution_count": 49,
     "metadata": {},
     "output_type": "execute_result"
    }
   ],
   "source": [
    "# text4에서 알바벳인 단어 중, 길이가 4개 이상이고, 빈도수가 5 이상인 단어의 길이 반환(10개만)\n",
    "\n",
    "fdist = nltk.FreqDist(book.text4)\n",
    "[len(word) for word in book.text4 if word.isalpha() and len(word) >= 4 and fdist[word] >= 5][:10]"
   ]
  },
  {
   "cell_type": "code",
   "execution_count": 56,
   "id": "72907e18",
   "metadata": {},
   "outputs": [
    {
     "data": {
      "text/plain": [
       "[6, 8, 6, 5, 15, 12, 8, 4, 5, 5]"
      ]
     },
     "execution_count": 56,
     "metadata": {},
     "output_type": "execute_result"
    }
   ],
   "source": [
    "# fdist 활용해서 같은 결과 가져오기\n",
    "\n",
    "[len(word) for (word,count) in fdist.items()\\\n",
    "        if len(word) >= 4 and (count >= 5)][:10]"
   ]
  },
  {
   "cell_type": "code",
   "execution_count": 57,
   "id": "e21b9e2b",
   "metadata": {},
   "outputs": [
    {
     "data": {
      "text/plain": [
       "[('Fellow', 24),\n",
       " ('-', 294),\n",
       " ('Citizens', 7),\n",
       " ('of', 7169),\n",
       " ('the', 9555),\n",
       " ('Senate', 12),\n",
       " ('and', 5226),\n",
       " ('House', 9),\n",
       " ('Representatives', 5),\n",
       " (':', 160)]"
      ]
     },
     "execution_count": 57,
     "metadata": {},
     "output_type": "execute_result"
    }
   ],
   "source": [
    "## fdist.items\n",
    "    # text4의 모든 단어들이 (word,count)의 형태로 묶임\n",
    "list(fdist.items())[:10]"
   ]
  },
  {
   "cell_type": "markdown",
   "id": "8b43ceca",
   "metadata": {},
   "source": [
    "### 리스트, 스트링\n",
    "- str.split(): 문자열 => 리스트\n",
    "- sep.join(list): 리스트 => 문자열"
   ]
  },
  {
   "cell_type": "code",
   "execution_count": 64,
   "id": "0a41c800",
   "metadata": {},
   "outputs": [],
   "source": [
    "sent1 = 'I am thirsty'\n",
    "# tokens = ['I', 'am', 'thirsty']"
   ]
  },
  {
   "cell_type": "code",
   "execution_count": 65,
   "id": "859924ff",
   "metadata": {},
   "outputs": [
    {
     "data": {
      "text/plain": [
       "['I', 'am', 'thirsty']"
      ]
     },
     "execution_count": 65,
     "metadata": {},
     "output_type": "execute_result"
    }
   ],
   "source": [
    "sent1.split() # 디폴트는 공백을 기준으로 split"
   ]
  },
  {
   "cell_type": "code",
   "execution_count": 2,
   "id": "d2c6c55e",
   "metadata": {},
   "outputs": [
    {
     "data": {
      "text/plain": [
       "['I', ' am', ' thirsty']"
      ]
     },
     "execution_count": 2,
     "metadata": {},
     "output_type": "execute_result"
    }
   ],
   "source": [
    "sent2 = 'I, am, thirsty'\n",
    "sent2.split(',')  # ','를 기준으로 split"
   ]
  },
  {
   "cell_type": "code",
   "execution_count": 5,
   "id": "9cf28a9d",
   "metadata": {},
   "outputs": [
    {
     "data": {
      "text/plain": [
       "['I', ' am', ' thirsty']"
      ]
     },
     "execution_count": 5,
     "metadata": {},
     "output_type": "execute_result"
    }
   ],
   "source": [
    "# am 앞에 공백 없애고 싶을 때 => list comprehension 활용\n",
    "sent2 = 'I, am, thirsty'\n",
    "tokens = sent2.split(',')\n",
    "tokens"
   ]
  },
  {
   "cell_type": "code",
   "execution_count": 10,
   "id": "0326fc67",
   "metadata": {},
   "outputs": [
    {
     "data": {
      "text/plain": [
       "['I', 'am', 'thirsty']"
      ]
     },
     "execution_count": 10,
     "metadata": {},
     "output_type": "execute_result"
    }
   ],
   "source": [
    "tokens_strip = [word.strip() for word in tokens]\n",
    "tokens_strip"
   ]
  },
  {
   "cell_type": "code",
   "execution_count": 12,
   "id": "b180b402",
   "metadata": {},
   "outputs": [
    {
     "data": {
      "text/plain": [
       "'I-am-thirsty'"
      ]
     },
     "execution_count": 12,
     "metadata": {},
     "output_type": "execute_result"
    }
   ],
   "source": [
    "# sep.join(list): 리스트에서 문자열로 변환, 공백에 '-' 삽입\n",
    "'-'.join(tokens_strip)"
   ]
  },
  {
   "cell_type": "code",
   "execution_count": null,
   "id": "9a7fd6e4",
   "metadata": {},
   "outputs": [],
   "source": []
  },
  {
   "cell_type": "markdown",
   "id": "34170234",
   "metadata": {},
   "source": [
    "## 반복문\n",
    "- '[word for word in text1]'\n",
    "- 자료구조를 순회할 때 사용함\n",
    "- 정해진 동작을 반복적으로 수행할 때 내리는 명령어\n",
    "- 시작조건, 종료조거느 수행명령으로 구성됨\n",
    "- for 요소 in 반복범위:\n",
    "        수행명령\n",
    "- for, while\n",
    "- 들여쓰기, 블록 => 논리구조\n",
    "- 무한루프가 되지 않도록 주의"
   ]
  },
  {
   "cell_type": "code",
   "execution_count": 19,
   "id": "c5161424",
   "metadata": {},
   "outputs": [
    {
     "name": "stdout",
     "output_type": "stream",
     "text": [
      "*** Introductory Examples for the NLTK Book ***\n",
      "Loading text1, ..., text9 and sent1, ..., sent9\n",
      "Type the name of the text or sentence to view it.\n",
      "Type: 'texts()' or 'sents()' to list the materials.\n",
      "text1: Moby Dick by Herman Melville 1851\n",
      "text2: Sense and Sensibility by Jane Austen 1811\n",
      "text3: The Book of Genesis\n",
      "text4: Inaugural Address Corpus\n",
      "text5: Chat Corpus\n",
      "text6: Monty Python and the Holy Grail\n",
      "text7: Wall Street Journal\n",
      "text8: Personals Corpus\n",
      "text9: The Man Who Was Thursday by G . K . Chesterton 1908\n"
     ]
    },
    {
     "data": {
      "text/plain": [
       "True"
      ]
     },
     "execution_count": 19,
     "metadata": {},
     "output_type": "execute_result"
    }
   ],
   "source": [
    "import nltk\n",
    "from nltk.book import *\n",
    "nltk.download('book', quiet=True)"
   ]
  },
  {
   "cell_type": "code",
   "execution_count": 110,
   "id": "94f7d698",
   "metadata": {},
   "outputs": [
    {
     "name": "stdout",
     "output_type": "stream",
     "text": [
      "[\n",
      "Moby\n",
      "Dick\n",
      "by\n",
      "Herman\n",
      "Melville\n",
      "1851\n",
      "]\n",
      "ETYMOLOGY\n",
      ".\n"
     ]
    }
   ],
   "source": [
    "# [word for word in text1]\n",
    "for word in text1[:10]:\n",
    "    print(word)"
   ]
  },
  {
   "cell_type": "code",
   "execution_count": 108,
   "id": "92f67016",
   "metadata": {},
   "outputs": [
    {
     "data": {
      "text/plain": [
       "['[',\n",
       " 'Moby',\n",
       " 'Dick',\n",
       " 'by',\n",
       " 'Herman',\n",
       " 'Melville',\n",
       " '1851',\n",
       " ']',\n",
       " 'ETYMOLOGY',\n",
       " '.']"
      ]
     },
     "execution_count": 108,
     "metadata": {},
     "output_type": "execute_result"
    }
   ],
   "source": [
    "[word for word in text1[:10]]  # 리스트에 담음"
   ]
  },
  {
   "cell_type": "code",
   "execution_count": 111,
   "id": "b2033073",
   "metadata": {},
   "outputs": [
    {
     "name": "stdout",
     "output_type": "stream",
     "text": [
      "a\n",
      "b\n",
      "c\n"
     ]
    }
   ],
   "source": [
    "alphabet = ['a', 'b', 'c']\n",
    "for w in alphabet:\n",
    "    print(w)  # 하나씩 순차적으로 출력"
   ]
  },
  {
   "cell_type": "code",
   "execution_count": 112,
   "id": "e4a964b0",
   "metadata": {},
   "outputs": [
    {
     "name": "stdout",
     "output_type": "stream",
     "text": [
      "0\n",
      "1\n",
      "2\n",
      "3\n",
      "4\n",
      "5\n",
      "6\n",
      "7\n",
      "8\n",
      "9\n"
     ]
    }
   ],
   "source": [
    "# 숫자반복: range()(start, end, step)\n",
    "    # start는 인덱싱과 마찬가지로 0부터 시작함\n",
    "    \n",
    "for i in range(10):\n",
    "    print(i)"
   ]
  },
  {
   "cell_type": "code",
   "execution_count": 15,
   "id": "dca028a5",
   "metadata": {},
   "outputs": [
    {
     "name": "stdout",
     "output_type": "stream",
     "text": [
      "1\n",
      "2\n",
      "3\n",
      "4\n",
      "5\n",
      "6\n",
      "7\n",
      "8\n",
      "9\n",
      "10\n"
     ]
    }
   ],
   "source": [
    "# 1부터 10까지 출력하고 싶다면\n",
    "    # end +1 해줘야 함\n",
    "for i in range(1,11):\n",
    "    print(i)"
   ]
  },
  {
   "cell_type": "code",
   "execution_count": 16,
   "id": "dcefe729",
   "metadata": {},
   "outputs": [
    {
     "name": "stdout",
     "output_type": "stream",
     "text": [
      "1\n",
      "3\n",
      "5\n",
      "7\n",
      "9\n"
     ]
    }
   ],
   "source": [
    "# 1부터 9까지 2스텝씩 출력\n",
    "for i in range(1, 10, 2):\n",
    "    print(i)"
   ]
  },
  {
   "cell_type": "code",
   "execution_count": 20,
   "id": "8b6c636f",
   "metadata": {},
   "outputs": [
    {
     "name": "stdout",
     "output_type": "stream",
     "text": [
      "<Text: Moby Dick by Herman Melville 1851>의 단어 수는:  260819\n",
      "<Text: Sense and Sensibility by Jane Austen 1811>의 단어 수는:  141576\n",
      "<Text: The Book of Genesis>의 단어 수는:  44764\n",
      "<Text: Inaugural Address Corpus>의 단어 수는:  152901\n",
      "<Text: Chat Corpus>의 단어 수는:  45010\n",
      "<Text: Monty Python and the Holy Grail>의 단어 수는:  16967\n",
      "<Text: Wall Street Journal>의 단어 수는:  100676\n",
      "<Text: Personals Corpus>의 단어 수는:  4867\n",
      "<Text: The Man Who Was Thursday by G . K . Chesterton 1908>의 단어 수는:  69213\n"
     ]
    }
   ],
   "source": [
    "# text1-9 각 텍스트의 단어 수를 반환\n",
    "\n",
    "text = [text1, text2, text3, text4, text5, text6, text7, text8, text9]\n",
    "for i in text:\n",
    "    print('{}의 단어 수는: '.format(i), len(i))"
   ]
  },
  {
   "cell_type": "markdown",
   "id": "b7218274",
   "metadata": {},
   "source": [
    "### 출력 포매팅\n",
    "- 1. f'str ... {var}'\n",
    "    - f, F 둘 다 가능\n",
    "- 2. %\n",
    "    - '... %자료형' %var\n",
    "- 3. '..{}'.format(var)\n",
    "    - 1, 3번은 가독성의 차이\n",
    "    - 2번 방식은 잘 사용하지 않음"
   ]
  },
  {
   "cell_type": "code",
   "execution_count": 21,
   "id": "caa63a69",
   "metadata": {},
   "outputs": [
    {
     "name": "stdout",
     "output_type": "stream",
     "text": [
      "My name is ###\n"
     ]
    }
   ],
   "source": [
    "name = 'Hoo'\n",
    "print('My name is ###')"
   ]
  },
  {
   "cell_type": "code",
   "execution_count": 22,
   "id": "bf0755bf",
   "metadata": {},
   "outputs": [
    {
     "name": "stdout",
     "output_type": "stream",
     "text": [
      "My name is Hoo\n"
     ]
    }
   ],
   "source": [
    "print(f'My name is {name}')"
   ]
  },
  {
   "cell_type": "code",
   "execution_count": 25,
   "id": "288d0618",
   "metadata": {},
   "outputs": [
    {
     "name": "stdout",
     "output_type": "stream",
     "text": [
      "My name is Hoo\n"
     ]
    }
   ],
   "source": [
    "print('My name is %s' %name)  # 정수형 %d, 실수형 %f"
   ]
  },
  {
   "cell_type": "code",
   "execution_count": 24,
   "id": "1716fd93",
   "metadata": {},
   "outputs": [
    {
     "name": "stdout",
     "output_type": "stream",
     "text": [
      "My name is Hoo\n"
     ]
    }
   ],
   "source": [
    "print('My name is {}'.format(name))"
   ]
  },
  {
   "cell_type": "code",
   "execution_count": 35,
   "id": "7d4ddbe5",
   "metadata": {},
   "outputs": [],
   "source": [
    "age = 23"
   ]
  },
  {
   "cell_type": "code",
   "execution_count": 36,
   "id": "231a18f8",
   "metadata": {},
   "outputs": [
    {
     "name": "stdout",
     "output_type": "stream",
     "text": [
      "My name is Hoo, and I am 23 years old.\n"
     ]
    }
   ],
   "source": [
    "print(f'My name is {name}, and I am {age} years old.')"
   ]
  },
  {
   "cell_type": "code",
   "execution_count": 37,
   "id": "65a70057",
   "metadata": {},
   "outputs": [
    {
     "name": "stdout",
     "output_type": "stream",
     "text": [
      "My name is Hoo, and I am 23 years old.\n"
     ]
    }
   ],
   "source": [
    "print('My name is {}, and I am {} years old.'.format(name, age))"
   ]
  },
  {
   "cell_type": "code",
   "execution_count": 39,
   "id": "dac015a7",
   "metadata": {},
   "outputs": [
    {
     "name": "stdout",
     "output_type": "stream",
     "text": [
      "My name is H, and I am 2.3e+01 years old.\n"
     ]
    }
   ],
   "source": [
    "name = 'Hoooo'\n",
    "age = 23.1234\n",
    "print('My name is {:.1}, and I am {:.2} years old.'.format(name, age))  # 문자열도 짤림"
   ]
  },
  {
   "cell_type": "code",
   "execution_count": 144,
   "id": "e7d3db18",
   "metadata": {},
   "outputs": [
    {
     "name": "stdout",
     "output_type": "stream",
     "text": [
      "My name is 0.556\n"
     ]
    }
   ],
   "source": [
    "a = 0.55555555\n",
    "print('My name is %.3f' %a)"
   ]
  },
  {
   "cell_type": "markdown",
   "id": "99c0d874",
   "metadata": {},
   "source": [
    "# 4주차 Quiz 복습"
   ]
  },
  {
   "cell_type": "code",
   "execution_count": 2,
   "id": "df5ea656",
   "metadata": {},
   "outputs": [
    {
     "name": "stdout",
     "output_type": "stream",
     "text": [
      "*** Introductory Examples for the NLTK Book ***\n",
      "Loading text1, ..., text9 and sent1, ..., sent9\n",
      "Type the name of the text or sentence to view it.\n",
      "Type: 'texts()' or 'sents()' to list the materials.\n",
      "text1: Moby Dick by Herman Melville 1851\n",
      "text2: Sense and Sensibility by Jane Austen 1811\n",
      "text3: The Book of Genesis\n",
      "text4: Inaugural Address Corpus\n",
      "text5: Chat Corpus\n",
      "text6: Monty Python and the Holy Grail\n",
      "text7: Wall Street Journal\n",
      "text8: Personals Corpus\n",
      "text9: The Man Who Was Thursday by G . K . Chesterton 1908\n"
     ]
    }
   ],
   "source": [
    "import nltk\n",
    "from nltk.book import *"
   ]
  },
  {
   "cell_type": "code",
   "execution_count": 9,
   "id": "79068980",
   "metadata": {},
   "outputs": [
    {
     "name": "stdout",
     "output_type": "stream",
     "text": [
      "0.07406285585022564\n",
      "0.04826383002768831\n",
      "0.06230453042623537\n",
      "0.06556530042314962\n",
      "0.13477005109975562\n",
      "0.1276595744680851\n",
      "0.12324685128531129\n",
      "0.22765564002465585\n",
      "0.0983485761345412\n"
     ]
    }
   ],
   "source": [
    "# text1~9 중 가장 어휘가 풍부한 코퍼스는?\n",
    "# lexical diversity 활용\n",
    "\n",
    "text = [text1, text2, text3, text4, text5, text6, text7, text8, text9]\n",
    "\n",
    "for i in text:\n",
    "    print(len(set(i))/len(i))\n",
    "\n",
    "# text8이 가장 풍부"
   ]
  },
  {
   "cell_type": "code",
   "execution_count": 11,
   "id": "a26174a8",
   "metadata": {},
   "outputs": [
    {
     "data": {
      "text/plain": [
       "65"
      ]
     },
     "execution_count": 11,
     "metadata": {},
     "output_type": "execute_result"
    }
   ],
   "source": [
    "# text4에서 democracy는 몇 번 나오는지 출력하시오.\n",
    "\n",
    "fdist = FreqDist(text4)\n",
    "fdist['democracy']"
   ]
  },
  {
   "cell_type": "code",
   "execution_count": 14,
   "id": "4fea5d41",
   "metadata": {},
   "outputs": [
    {
     "name": "stdout",
     "output_type": "stream",
     "text": [
      "192\n"
     ]
    }
   ],
   "source": [
    "# text4에서는 한 번 출현하지만 text3에서는 여러 번 출현하는 단어는 몇 개인지 출력\n",
    "\n",
    "a = [word for word in text4 if fdist[word] == 1]\n",
    "b = [word for word in text3 if fdist[word] >= 1]\n",
    "words = []\n",
    "for i in a:\n",
    "    if i in b:\n",
    "        words.append(i)\n",
    "print(len(words))"
   ]
  },
  {
   "cell_type": "code",
   "execution_count": 21,
   "id": "a79a33e4",
   "metadata": {},
   "outputs": [
    {
     "data": {
      "text/plain": [
       "{'$', 'Again', 'An', 'Change', 'First', 'History', 'Look', 'None'}"
      ]
     },
     "execution_count": 21,
     "metadata": {},
     "output_type": "execute_result"
    }
   ],
   "source": [
    "# text5에서 4번 출현하는 단어들을 중복되지 않게 오름차순으로 출력\n",
    "\n",
    "set(sorted([word for word in text5 if fdist[word] == 4])[:10])"
   ]
  },
  {
   "cell_type": "code",
   "execution_count": 22,
   "id": "217b7509",
   "metadata": {},
   "outputs": [
    {
     "name": "stdout",
     "output_type": "stream",
     "text": [
      "24\n"
     ]
    }
   ],
   "source": [
    "# text7에서 가장 긴 단어는 몇 자인가?\n",
    "\n",
    "words=[]\n",
    "for i in text7:\n",
    "    words.append(len(i))\n",
    "print(max(words))\n",
    "        "
   ]
  },
  {
   "cell_type": "code",
   "execution_count": 25,
   "id": "e928ca27",
   "metadata": {},
   "outputs": [
    {
     "name": "stdout",
     "output_type": "stream",
     "text": [
      "고급 파이썬 프로그래밍\\Advanced Python programming\n",
      "\t\"이 수업은 금요일에 진행됩니다.\"\n",
      "\n",
      "수업은 실시간 강의로 진행됩니다.\n",
      "\t-질의사항은 조교에게 메일로 보내주세요\n"
     ]
    }
   ],
   "source": [
    "print('고급 파이썬 프로그래밍\\\\Advanced Python programming')\n",
    "print('\\t\\\"이 수업은 금요일에 진행됩니다.\\\"\\n')\n",
    "print('수업은 실시간 강의로 진행됩니다.')\n",
    "print('\\t-질의사항은 조교에게 메일로 보내주세요')"
   ]
  },
  {
   "cell_type": "code",
   "execution_count": 28,
   "id": "26ab9b32",
   "metadata": {},
   "outputs": [
    {
     "name": "stdout",
     "output_type": "stream",
     "text": [
      "['life', 'have', 'with', 'than', 'that', 'your', '14th', 'hand', 'hear', 'with']\n"
     ]
    }
   ],
   "source": [
    "# text4에서 4자리 단어만 출력하세요\n",
    "words = []\n",
    "for i in text4:\n",
    "    if len(i) == 4:\n",
    "        words.append(i)\n",
    "print(words[:10])"
   ]
  },
  {
   "cell_type": "code",
   "execution_count": null,
   "id": "a15cede4",
   "metadata": {},
   "outputs": [],
   "source": []
  }
 ],
 "metadata": {
  "kernelspec": {
   "display_name": "Python 3 (ipykernel)",
   "language": "python",
   "name": "python3"
  },
  "language_info": {
   "codemirror_mode": {
    "name": "ipython",
    "version": 3
   },
   "file_extension": ".py",
   "mimetype": "text/x-python",
   "name": "python",
   "nbconvert_exporter": "python",
   "pygments_lexer": "ipython3",
   "version": "3.9.7"
  }
 },
 "nbformat": 4,
 "nbformat_minor": 5
}
