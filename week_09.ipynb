{
 "cells": [
  {
   "cell_type": "markdown",
   "id": "7b60bfc3",
   "metadata": {},
   "source": [
    "## Dictionary\n",
    "- 영어사전\n",
    "    - 중괄호 사용 {}, 콤마로 구분\n",
    "    - 타입: dict    \n",
    "    - 형태:\n",
    "        - 단어 : 뜻\n",
    "        - 키(key) : 값(value)\n",
    "    - \"키로 값을 찾는다.\"\n",
    "        - 키는 중복되지 않는 고유한 값\n",
    "    - 순서가 없다. => 인덱싱, 슬라이싱 불가능\n",
    "    - 가변: 수정, 삭제, 추가 가능\n",
    "    - 형변환: 'dict()'\n",
    "    - 값에 다양한 자료구조가 올 수 있음\n",
    "        - {a: 1}\n",
    "        - {a: [1,2,3,4]}\n",
    "        "
   ]
  },
  {
   "cell_type": "code",
   "execution_count": 1,
   "id": "d9f474ab",
   "metadata": {},
   "outputs": [
    {
     "data": {
      "text/plain": [
       "1"
      ]
     },
     "execution_count": 1,
     "metadata": {},
     "output_type": "execute_result"
    }
   ],
   "source": [
    "# 리스트\n",
    "\n",
    "a = [1, 2, 3]\n",
    "a[0]"
   ]
  },
  {
   "cell_type": "code",
   "execution_count": 1,
   "id": "35bb22b8",
   "metadata": {},
   "outputs": [
    {
     "data": {
      "text/plain": [
       "set"
      ]
     },
     "execution_count": 1,
     "metadata": {},
     "output_type": "execute_result"
    }
   ],
   "source": [
    "# 빈 딕셔너리 생성하는 법\n",
    "empty = dict()\n",
    "empty = {}\n",
    "\n",
    "# set {}\n",
    "empty = {}  # type = dict, set 아님\n",
    "empty = set()  # set은 이렇게 선언해야됨\n",
    "type(empty)"
   ]
  },
  {
   "cell_type": "code",
   "execution_count": 2,
   "id": "b5188c01",
   "metadata": {},
   "outputs": [
    {
     "data": {
      "text/plain": [
       "{1: 'apple', 2: 'banana', 3: 'kiwi'}"
      ]
     },
     "execution_count": 2,
     "metadata": {},
     "output_type": "execute_result"
    }
   ],
   "source": [
    "# 딕셔너리 선언 방법1\n",
    "a = {1:'apple', 2:'banana', 3:'kiwi'} # dict\n",
    "a"
   ]
  },
  {
   "cell_type": "code",
   "execution_count": 5,
   "id": "e1789887",
   "metadata": {},
   "outputs": [
    {
     "data": {
      "text/plain": [
       "{'apple': 'a', 'banana': 'b', 'kiwi': 'c'}"
      ]
     },
     "execution_count": 5,
     "metadata": {},
     "output_type": "execute_result"
    }
   ],
   "source": [
    "# 딕셔너리 선언 방법2\n",
    "b = dict(apple='a', banana='b', kiwi='c')\n",
    "b"
   ]
  },
  {
   "cell_type": "markdown",
   "id": "d4522952",
   "metadata": {},
   "source": [
    "#### ex) 출석부로 딕셔너리 만들기\n",
    "- 이름, 학번, 학과\n",
    "- james 202201 경제학과\n",
    "- laura 202203 스페인어과\n",
    "- louis 202202 컴공과"
   ]
  },
  {
   "cell_type": "code",
   "execution_count": 14,
   "id": "1d00618a",
   "metadata": {},
   "outputs": [
    {
     "data": {
      "text/plain": [
       "{202201: ['james', '경제학과'],\n",
       " 202203: ['laura', '스페인어과'],\n",
       " 202202: ['louis', '컴공과']}"
      ]
     },
     "execution_count": 14,
     "metadata": {},
     "output_type": "execute_result"
    }
   ],
   "source": [
    "attendance = {202201:['james', '경제학과'], 202203:['laura', '스페인어과'], 202202:['louis', '컴공과']}\n",
    "attendance   \n",
    "# 키를 중복되지 않은 값으로 설정하는게 좋음\n",
    "# 이름을 키로 설정하게 되면, 동명이인 있을 경우 하나의 키에 여러 값이 할당됨"
   ]
  },
  {
   "cell_type": "markdown",
   "id": "760035fa",
   "metadata": {},
   "source": [
    "### 형 변환"
   ]
  },
  {
   "cell_type": "code",
   "execution_count": 15,
   "id": "06632626",
   "metadata": {},
   "outputs": [
    {
     "data": {
      "text/plain": [
       "{1: 2, 2: 3, 3: 4}"
      ]
     },
     "execution_count": 15,
     "metadata": {},
     "output_type": "execute_result"
    }
   ],
   "source": [
    "ex1 = [[1,2], [2,3], [3,4]]\n",
    "dict(ex1)"
   ]
  },
  {
   "cell_type": "code",
   "execution_count": 16,
   "id": "e3da2869",
   "metadata": {},
   "outputs": [
    {
     "data": {
      "text/plain": [
       "{1: 3, 2: 3}"
      ]
     },
     "execution_count": 16,
     "metadata": {},
     "output_type": "execute_result"
    }
   ],
   "source": [
    "# 중복된 키('1')가 있을 경우\n",
    "ex2 = [(1,2), (2,3), (1,3)]\n",
    "dict(ex2)"
   ]
  },
  {
   "cell_type": "code",
   "execution_count": 18,
   "id": "87eb6508",
   "metadata": {},
   "outputs": [
    {
     "data": {
      "text/plain": [
       "{'a': 'b', 'b': 'c', 'c': 'd'}"
      ]
     },
     "execution_count": 18,
     "metadata": {},
     "output_type": "execute_result"
    }
   ],
   "source": [
    "# 두 자리 까지는 형변환 가능, 세자리부터는 불가능\n",
    "ex3 = ['ab', 'bc', 'cd']   \n",
    "dict(ex3)"
   ]
  },
  {
   "cell_type": "markdown",
   "id": "0abaccf4",
   "metadata": {},
   "source": [
    "### 항목 조회 & 변경"
   ]
  },
  {
   "cell_type": "code",
   "execution_count": 27,
   "id": "c39d0603",
   "metadata": {},
   "outputs": [],
   "source": [
    "pythons = { # 성: 이름\n",
    "    'Chapman':'Graham',\n",
    "    'Cleese':'John',\n",
    "    'Idle':'Eric',\n",
    "    'Jones':'Terry',\n",
    "    'Paline':'Michael',\n",
    "}"
   ]
  },
  {
   "cell_type": "code",
   "execution_count": 5,
   "id": "4abf2348",
   "metadata": {},
   "outputs": [
    {
     "data": {
      "text/plain": [
       "'Eric'"
      ]
     },
     "execution_count": 5,
     "metadata": {},
     "output_type": "execute_result"
    }
   ],
   "source": [
    "# 찾기\n",
    "pythons['Idle']  "
   ]
  },
  {
   "cell_type": "code",
   "execution_count": 6,
   "id": "2aa2e47e",
   "metadata": {},
   "outputs": [],
   "source": [
    "# 추가(기존에 없던 키)\n",
    "pythons['Hwa'] = 'Chloe'  "
   ]
  },
  {
   "cell_type": "code",
   "execution_count": 7,
   "id": "3b9c125a",
   "metadata": {},
   "outputs": [
    {
     "data": {
      "text/plain": [
       "{'Chapman': 'Graham',\n",
       " 'Cleese': 'John',\n",
       " 'Idle': 'James',\n",
       " 'Jones': 'Terry',\n",
       " 'Paline': 'Michael',\n",
       " 'Hwa': 'Chloe'}"
      ]
     },
     "execution_count": 7,
     "metadata": {},
     "output_type": "execute_result"
    }
   ],
   "source": [
    "# 변경(기존에 존재하던 키)\n",
    "pythons['Idle'] = 'James'  \n",
    "pythons"
   ]
  },
  {
   "cell_type": "code",
   "execution_count": 8,
   "id": "501ec294",
   "metadata": {},
   "outputs": [
    {
     "data": {
      "text/plain": [
       "True"
      ]
     },
     "execution_count": 8,
     "metadata": {},
     "output_type": "execute_result"
    }
   ],
   "source": [
    "# 예외 발생하지 않도록 dict 내 존재 유무 확인\n",
    "'Hwa' in pythons"
   ]
  },
  {
   "cell_type": "code",
   "execution_count": 10,
   "id": "829ccb03",
   "metadata": {},
   "outputs": [
    {
     "data": {
      "text/plain": [
       "0"
      ]
     },
     "execution_count": 10,
     "metadata": {},
     "output_type": "execute_result"
    }
   ],
   "source": [
    "# get()\n",
    "pythons.get('Jones')\n",
    "pythons.get('Lee',0) # 없는 키는 0 반환하도록 설정"
   ]
  },
  {
   "cell_type": "markdown",
   "id": "7441c040",
   "metadata": {},
   "source": [
    "### 전체 조회\n",
    "- keys()\n",
    "- values()\n",
    "- items()"
   ]
  },
  {
   "cell_type": "code",
   "execution_count": 11,
   "id": "30abc3c8",
   "metadata": {},
   "outputs": [
    {
     "data": {
      "text/plain": [
       "dict_keys(['Chapman', 'Cleese', 'Idle', 'Jones', 'Paline', 'Hwa'])"
      ]
     },
     "execution_count": 11,
     "metadata": {},
     "output_type": "execute_result"
    }
   ],
   "source": [
    "# 키 모음\n",
    "pythons.keys()  \n",
    "# 리스트 형태가 메모리를 적게 먹음\n",
    "# list(pythons.keys())"
   ]
  },
  {
   "cell_type": "code",
   "execution_count": 34,
   "id": "a18a94b8",
   "metadata": {},
   "outputs": [
    {
     "data": {
      "text/plain": [
       "dict_values(['Graham', 'John', 'James', 'Terry', 'Michael', 'Chloe'])"
      ]
     },
     "execution_count": 34,
     "metadata": {},
     "output_type": "execute_result"
    }
   ],
   "source": [
    "# 값 모음\n",
    "pythons.values()"
   ]
  },
  {
   "cell_type": "code",
   "execution_count": 12,
   "id": "87dda4f4",
   "metadata": {},
   "outputs": [
    {
     "data": {
      "text/plain": [
       "dict_items([('Chapman', 'Graham'), ('Cleese', 'John'), ('Idle', 'James'), ('Jones', 'Terry'), ('Paline', 'Michael'), ('Hwa', 'Chloe')])"
      ]
     },
     "execution_count": 12,
     "metadata": {},
     "output_type": "execute_result"
    }
   ],
   "source": [
    "# (키,값) 튜플 형태로 => 순회할 때 많이 씀\n",
    "pythons.items()"
   ]
  },
  {
   "cell_type": "code",
   "execution_count": 38,
   "id": "91b6f821",
   "metadata": {},
   "outputs": [
    {
     "name": "stdout",
     "output_type": "stream",
     "text": [
      "Chapman = Graham\n",
      "Cleese = John\n",
      "Idle = James\n",
      "Jones = Terry\n",
      "Paline = Michael\n",
      "Hwa = Chloe\n"
     ]
    }
   ],
   "source": [
    "for k,v in pythons.items():\n",
    "    print(f'{k} = {v}')"
   ]
  },
  {
   "cell_type": "code",
   "execution_count": 15,
   "id": "2a7ebecb",
   "metadata": {},
   "outputs": [
    {
     "data": {
      "text/plain": [
       "[('Chapman', 'Graham'),\n",
       " ('Cleese', 'John'),\n",
       " ('Idle', 'James'),\n",
       " ('Jones', 'Terry'),\n",
       " ('Paline', 'Michael'),\n",
       " ('Hwa', 'Chloe')]"
      ]
     },
     "execution_count": 15,
     "metadata": {},
     "output_type": "execute_result"
    }
   ],
   "source": [
    "# list comprehension\n",
    "[(k,v) for k, v in pythons.items()]\n",
    "[k for k in pythons.items()]"
   ]
  },
  {
   "cell_type": "code",
   "execution_count": 41,
   "id": "e52c8bf1",
   "metadata": {},
   "outputs": [
    {
     "data": {
      "text/plain": [
       "['Graham', 'John', 'James', 'Terry', 'Michael', 'Chloe']"
      ]
     },
     "execution_count": 41,
     "metadata": {},
     "output_type": "execute_result"
    }
   ],
   "source": [
    "[k[1] for k in pythons.items()]  \n",
    "# 튜플이므로, 인덱싱 가능\n",
    "# 인덱스 0 = key, 1 = value"
   ]
  },
  {
   "cell_type": "markdown",
   "id": "71414108",
   "metadata": {},
   "source": [
    "### ex)\n",
    "animal: num_leg 딕셔너리를 만드시오"
   ]
  },
  {
   "cell_type": "code",
   "execution_count": 16,
   "id": "eba4a64e",
   "metadata": {},
   "outputs": [
    {
     "data": {
      "text/plain": [
       "{'cat': 4, 'snake': 0, 'monkey': 2, 'ant': 4, 'spider': 8}"
      ]
     },
     "execution_count": 16,
     "metadata": {},
     "output_type": "execute_result"
    }
   ],
   "source": [
    "# 방법 1)\n",
    "animal = 'cat snake monkey ant spider'.split()\n",
    "legs = 4,0,2,4,8\n",
    "animal_dict = {}\n",
    "\n",
    "for k,v in zip(animal, legs):\n",
    "    animal_dict[k] = v  # 빈 딕셔너리에 추가\n",
    "\n",
    "animal_dict"
   ]
  },
  {
   "cell_type": "code",
   "execution_count": 57,
   "id": "5bd81cd6",
   "metadata": {},
   "outputs": [
    {
     "data": {
      "text/plain": [
       "{'cat': 4, 'snake': 0, 'monkey': 2, 'ant': 4, 'spider': 8}"
      ]
     },
     "execution_count": 57,
     "metadata": {},
     "output_type": "execute_result"
    }
   ],
   "source": [
    "# 방법 2)\n",
    "num_leg = {}\n",
    "for i in range(len(animal)):\n",
    "    num_leg[animal[i]] = legs[i]\n",
    "num_leg"
   ]
  },
  {
   "cell_type": "markdown",
   "id": "797ca6e6",
   "metadata": {},
   "source": [
    "### Q. pythons 에서 성: 이름, 성 첫 글자만, 이름은 글자 개수로 이뤄진 튜플(성, 이름) 리스트로 반환하기"
   ]
  },
  {
   "cell_type": "code",
   "execution_count": 17,
   "id": "9bc60c7b",
   "metadata": {},
   "outputs": [
    {
     "data": {
      "text/plain": [
       "[('C', 4), ('I', 4), ('J', 5), ('P', 7)]"
      ]
     },
     "execution_count": 17,
     "metadata": {},
     "output_type": "execute_result"
    }
   ],
   "source": [
    "pythons = { # 성: 이름\n",
    "    'Chapman':'Graham',\n",
    "    'Cleese':'John',\n",
    "    'Idle':'Eric',\n",
    "    'Jones':'Terry',\n",
    "    'Paline':'Michael',\n",
    "}\n",
    "\n",
    "dict1 = {}\n",
    "for k,v in pythons.items():\n",
    "    dict1[k[0]] = len(v)\n",
    "list(dict1.items())\n",
    "\n",
    "# [(k[0],len(v)) for k,v in pythons.items()]  \n",
    "# [k[0][0], len(k[1]) for k in pythons.items()] 모범 답안"
   ]
  },
  {
   "cell_type": "markdown",
   "id": "4eccde33",
   "metadata": {},
   "source": [
    "### 값 수정, 삭제, 복제, 비교\n",
    "- 추가\n",
    "    - update(dict)\n",
    "- 삭제\n",
    "    - pop(key)\n",
    "    - del dict[key]\n",
    "- 전체 삭제\n",
    "    - clear(dict)"
   ]
  },
  {
   "cell_type": "code",
   "execution_count": 28,
   "id": "bb9850bf",
   "metadata": {},
   "outputs": [
    {
     "data": {
      "text/plain": [
       "{'Chapman': 'Graham',\n",
       " 'Cleese': 'John',\n",
       " 'Idle': 'Eric',\n",
       " 'Jones': 'Terry',\n",
       " 'Paline': 'Michael'}"
      ]
     },
     "execution_count": 28,
     "metadata": {},
     "output_type": "execute_result"
    }
   ],
   "source": [
    "pythons"
   ]
  },
  {
   "cell_type": "code",
   "execution_count": 29,
   "id": "7f96c150",
   "metadata": {},
   "outputs": [
    {
     "data": {
      "text/plain": [
       "{'Marx': 'Groucho', 'Howard': 'Moe'}"
      ]
     },
     "execution_count": 29,
     "metadata": {},
     "output_type": "execute_result"
    }
   ],
   "source": [
    "others = {\n",
    "    'Marx':'Groucho',\n",
    "    'Howard':'Moe'\n",
    "    }\n",
    "\n",
    "others"
   ]
  },
  {
   "cell_type": "code",
   "execution_count": 30,
   "id": "0f51b4d3",
   "metadata": {},
   "outputs": [
    {
     "data": {
      "text/plain": [
       "{'Chapman': 'Graham',\n",
       " 'Cleese': 'John',\n",
       " 'Idle': 'Eric',\n",
       " 'Jones': 'Terry',\n",
       " 'Paline': 'Michael',\n",
       " 'Marx': 'Groucho',\n",
       " 'Howard': 'Moe'}"
      ]
     },
     "execution_count": 30,
     "metadata": {},
     "output_type": "execute_result"
    }
   ],
   "source": [
    "pythons.update(others)\n",
    "pythons"
   ]
  },
  {
   "cell_type": "code",
   "execution_count": 31,
   "id": "3ffd9d60",
   "metadata": {},
   "outputs": [
    {
     "data": {
      "text/plain": [
       "{'Marx': 'Groucho',\n",
       " 'Howard': 'Moe',\n",
       " 'Chapman': 'Graham',\n",
       " 'Cleese': 'John',\n",
       " 'Idle': 'Eric',\n",
       " 'Jones': 'Terry',\n",
       " 'Paline': 'Michael'}"
      ]
     },
     "execution_count": 31,
     "metadata": {},
     "output_type": "execute_result"
    }
   ],
   "source": [
    "# py 3 에만 있는 기능\n",
    "{**others, **pythons}  # 앞에 붙이기"
   ]
  },
  {
   "cell_type": "code",
   "execution_count": 22,
   "id": "945e8a23",
   "metadata": {},
   "outputs": [
    {
     "ename": "KeyError",
     "evalue": "'Hwa'",
     "output_type": "error",
     "traceback": [
      "\u001b[1;31m---------------------------------------------------------------------------\u001b[0m",
      "\u001b[1;31mKeyError\u001b[0m                                  Traceback (most recent call last)",
      "\u001b[1;32m~\\AppData\\Local\\Temp/ipykernel_10324/3538949436.py\u001b[0m in \u001b[0;36m<module>\u001b[1;34m\u001b[0m\n\u001b[0;32m      1\u001b[0m \u001b[1;31m# 삭제\u001b[0m\u001b[1;33m\u001b[0m\u001b[1;33m\u001b[0m\u001b[0m\n\u001b[1;32m----> 2\u001b[1;33m \u001b[1;32mdel\u001b[0m \u001b[0mpythons\u001b[0m\u001b[1;33m[\u001b[0m\u001b[1;34m'Hwa'\u001b[0m\u001b[1;33m]\u001b[0m\u001b[1;33m\u001b[0m\u001b[1;33m\u001b[0m\u001b[0m\n\u001b[0m\u001b[0;32m      3\u001b[0m \u001b[0mpythons\u001b[0m\u001b[1;33m\u001b[0m\u001b[1;33m\u001b[0m\u001b[0m\n",
      "\u001b[1;31mKeyError\u001b[0m: 'Hwa'"
     ]
    }
   ],
   "source": [
    "# del 삭제(없는 키 삭제하면 에러 뜸)\n",
    "del pythons['Hwa']\n",
    "pythons"
   ]
  },
  {
   "cell_type": "code",
   "execution_count": 34,
   "id": "046ccfd1",
   "metadata": {},
   "outputs": [
    {
     "data": {
      "text/plain": [
       "0"
      ]
     },
     "execution_count": 34,
     "metadata": {},
     "output_type": "execute_result"
    }
   ],
   "source": [
    "# pop 삭제\n",
    "pythons.pop('Lee', 0)  # 없으면 예외는 나지만, 예외 시 출력값을 지정할 수 있다."
   ]
  },
  {
   "cell_type": "code",
   "execution_count": 32,
   "id": "f2b3930e",
   "metadata": {},
   "outputs": [
    {
     "data": {
      "text/plain": [
       "{'Chapman': 'Graham',\n",
       " 'Cleese': 'John',\n",
       " 'Idle': 'Eric',\n",
       " 'Jones': 'Terry',\n",
       " 'Paline': 'Michael',\n",
       " 'Howard': 'Moe'}"
      ]
     },
     "execution_count": 32,
     "metadata": {},
     "output_type": "execute_result"
    }
   ],
   "source": [
    "del pythons['Marx']\n",
    "pythons"
   ]
  },
  {
   "cell_type": "code",
   "execution_count": 33,
   "id": "3c8d4396",
   "metadata": {},
   "outputs": [
    {
     "data": {
      "text/plain": [
       "{'Cleese': 'John',\n",
       " 'Idle': 'Eric',\n",
       " 'Jones': 'Terry',\n",
       " 'Paline': 'Michael',\n",
       " 'Howard': 'Moe'}"
      ]
     },
     "execution_count": 33,
     "metadata": {},
     "output_type": "execute_result"
    }
   ],
   "source": [
    "pythons.pop('Chapman')\n",
    "pythons"
   ]
  },
  {
   "cell_type": "code",
   "execution_count": 35,
   "id": "52356470",
   "metadata": {},
   "outputs": [
    {
     "data": {
      "text/plain": [
       "{}"
      ]
     },
     "execution_count": 35,
     "metadata": {},
     "output_type": "execute_result"
    }
   ],
   "source": [
    "# 전체 삭제\n",
    "pythons.clear()\n",
    "pythons = {}\n",
    "pythons"
   ]
  },
  {
   "cell_type": "markdown",
   "id": "6e0ea18c",
   "metadata": {},
   "source": [
    "### 복제\n",
    "- 할당\n",
    "- 얕은 복사\n",
    "    - c = a.copy()\n",
    "- 깊은 복사\n",
    "    - deepcopy"
   ]
  },
  {
   "cell_type": "code",
   "execution_count": 45,
   "id": "57440ee6",
   "metadata": {},
   "outputs": [
    {
     "data": {
      "text/plain": [
       "({1: 33, 2: 2, 3: 3}, {1: 33, 2: 2, 3: 3})"
      ]
     },
     "execution_count": 45,
     "metadata": {},
     "output_type": "execute_result"
    }
   ],
   "source": [
    "# 할당\n",
    "a = {1:1, 2:2, 3:3}\n",
    "b = a\n",
    "a[1] = 33\n",
    "a,b   # 같은 주소를 참조하고 있기 때문에 b도 바뀜"
   ]
  },
  {
   "cell_type": "code",
   "execution_count": 46,
   "id": "cd555f41",
   "metadata": {},
   "outputs": [
    {
     "data": {
      "text/plain": [
       "(2319260592640, 2319260592640)"
      ]
     },
     "execution_count": 46,
     "metadata": {},
     "output_type": "execute_result"
    }
   ],
   "source": [
    "id(a), id(b)  # 같은 메모리 주소"
   ]
  },
  {
   "cell_type": "code",
   "execution_count": 47,
   "id": "dead6812",
   "metadata": {},
   "outputs": [
    {
     "data": {
      "text/plain": [
       "({1: 33, 2: 27, 3: 3}, {1: 33, 2: 2, 3: 3})"
      ]
     },
     "execution_count": 47,
     "metadata": {},
     "output_type": "execute_result"
    }
   ],
   "source": [
    "# 얕은 복사\n",
    "c = a.copy()\n",
    "a[2] = 27\n",
    "a,c"
   ]
  },
  {
   "cell_type": "code",
   "execution_count": 48,
   "id": "564a5043",
   "metadata": {},
   "outputs": [
    {
     "data": {
      "text/plain": [
       "(2319260592640, 2319260599808)"
      ]
     },
     "execution_count": 48,
     "metadata": {},
     "output_type": "execute_result"
    }
   ],
   "source": [
    "id(a), id(c)  # 다른 메모리 주소"
   ]
  },
  {
   "cell_type": "code",
   "execution_count": 49,
   "id": "a24c3b23",
   "metadata": {},
   "outputs": [
    {
     "data": {
      "text/plain": [
       "({1: [100, 2, 3], 2: [2, 3, 4]}, {1: [100, 2, 3], 2: [2, 3, 4]})"
      ]
     },
     "execution_count": 49,
     "metadata": {},
     "output_type": "execute_result"
    }
   ],
   "source": [
    "a = {1:[1,2,3], 2:[2,3,4]}\n",
    "d = a.copy()\n",
    "a[1][0] = 100\n",
    "a,d"
   ]
  },
  {
   "cell_type": "code",
   "execution_count": 50,
   "id": "9233020e",
   "metadata": {},
   "outputs": [
    {
     "data": {
      "text/plain": [
       "(2319259772800, 2319259757312)"
      ]
     },
     "execution_count": 50,
     "metadata": {},
     "output_type": "execute_result"
    }
   ],
   "source": [
    "id(a), id(d)  # 다른 메모리 주소"
   ]
  },
  {
   "cell_type": "code",
   "execution_count": 51,
   "id": "513542f9",
   "metadata": {},
   "outputs": [
    {
     "data": {
      "text/plain": [
       "({1: [100, 999, 3], 2: [2, 3, 4]}, {1: [100, 2, 3], 2: [2, 3, 4]})"
      ]
     },
     "execution_count": 51,
     "metadata": {},
     "output_type": "execute_result"
    }
   ],
   "source": [
    "# 깊은 복사\n",
    "import copy\n",
    "e = copy.deepcopy(a)\n",
    "a[1][1] = 999\n",
    "a, e"
   ]
  },
  {
   "cell_type": "code",
   "execution_count": 53,
   "id": "1bc227d3",
   "metadata": {},
   "outputs": [
    {
     "data": {
      "text/plain": [
       "(2319259772800, 2319260585664)"
      ]
     },
     "execution_count": 53,
     "metadata": {},
     "output_type": "execute_result"
    }
   ],
   "source": [
    "id(a), id(e)  # 다른 메모리 주소"
   ]
  },
  {
   "cell_type": "code",
   "execution_count": null,
   "id": "1c67151b",
   "metadata": {},
   "outputs": [],
   "source": []
  },
  {
   "cell_type": "markdown",
   "id": "1459ab3c",
   "metadata": {},
   "source": [
    "### 비교\n",
    "- 같다, 다르다 만 된다."
   ]
  },
  {
   "cell_type": "code",
   "execution_count": 89,
   "id": "9b77135a",
   "metadata": {},
   "outputs": [
    {
     "data": {
      "text/plain": [
       "True"
      ]
     },
     "execution_count": 89,
     "metadata": {},
     "output_type": "execute_result"
    }
   ],
   "source": [
    "a != b"
   ]
  },
  {
   "cell_type": "markdown",
   "id": "a45bc6a2",
   "metadata": {},
   "source": [
    "### Ex)\n",
    "1. 두 리스트로 하나의 딕셔너리 생성\n",
    "2. 명왕성 = pluto 추가하기\n",
    "3. '성'으로 끝나지 않는 키 삭제하기\n",
    "    del dict1['태양'] X\n",
    "4. sorted 이용해서 값 정렬하기 i) key, ii) value"
   ]
  },
  {
   "cell_type": "code",
   "execution_count": 55,
   "id": "12eca0d0",
   "metadata": {},
   "outputs": [],
   "source": [
    "solar_kor = '태양 수성 금성 지구 화성 목성 토성 천왕성 해왕성'.split()\n",
    "solar_eng = 'sun mercury venus earth mars jupiter saturn uranus neptune'.split()"
   ]
  },
  {
   "cell_type": "code",
   "execution_count": 58,
   "id": "25835220",
   "metadata": {},
   "outputs": [
    {
     "data": {
      "text/plain": [
       "{'수성': 'mercury',\n",
       " '금성': 'venus',\n",
       " '화성': 'mars',\n",
       " '목성': 'jupiter',\n",
       " '토성': 'saturn',\n",
       " '천왕성': 'uranus',\n",
       " '해왕성': 'neptune',\n",
       " '명왕성': 'pluto'}"
      ]
     },
     "execution_count": 58,
     "metadata": {},
     "output_type": "execute_result"
    }
   ],
   "source": [
    "solar_sys = {}\n",
    "for k,v in zip(solar_kor, solar_eng):\n",
    "    solar_sys[k] = v\n",
    "solar_sys['명왕성']='pluto'\n",
    "\n",
    "for i in list(solar_sys.keys()):\n",
    "    if i[-1] != '성':\n",
    "        solar_sys.pop(i)\n",
    "# dict([(k, solar_sys[k]) for k in solar_sys if k.endswith('성')])\n",
    "solar_sys\n"
   ]
  },
  {
   "cell_type": "markdown",
   "id": "f9cb8440",
   "metadata": {},
   "source": [
    "### 컴프리헨션"
   ]
  },
  {
   "cell_type": "code",
   "execution_count": 60,
   "id": "e9bd23e6",
   "metadata": {},
   "outputs": [
    {
     "data": {
      "text/plain": [
       "{'y': 1, 'e': 1, 'o': 3, 'n': 1, 'g': 1, 'h': 1}"
      ]
     },
     "execution_count": 60,
     "metadata": {},
     "output_type": "execute_result"
    }
   ],
   "source": [
    "name = 'yeonghoo'\n",
    "# a: 1, p:2, ... \n",
    "{ch: letter.count(ch) for ch in name}"
   ]
  },
  {
   "cell_type": "code",
   "execution_count": 64,
   "id": "a67a733d",
   "metadata": {},
   "outputs": [
    {
     "data": {
      "text/plain": [
       "{'a': 1, 'e': 2, 'i': 1, 'o': 1}"
      ]
     },
     "execution_count": 64,
     "metadata": {},
     "output_type": "execute_result"
    }
   ],
   "source": [
    "# 단어의 모음세기\n",
    "vowels = 'aeiou'\n",
    "word = 'encyclopedia'\n",
    "\n",
    "# word 순회\n",
    "# vowels 순회\n",
    "{vowel: word.count(vowel) for vowel in vowels if vowel in word}\n"
   ]
  },
  {
   "cell_type": "markdown",
   "id": "9a34c630",
   "metadata": {},
   "source": [
    "### sorting"
   ]
  },
  {
   "cell_type": "code",
   "execution_count": 65,
   "id": "9899e60f",
   "metadata": {},
   "outputs": [],
   "source": [
    "def fx(x):\n",
    "    return x[0]"
   ]
  },
  {
   "cell_type": "code",
   "execution_count": 66,
   "id": "d3d39485",
   "metadata": {},
   "outputs": [
    {
     "data": {
      "text/plain": [
       "[('금성', 'venus'),\n",
       " ('명왕성', 'pluto'),\n",
       " ('목성', 'jupiter'),\n",
       " ('수성', 'mercury'),\n",
       " ('천왕성', 'uranus'),\n",
       " ('토성', 'saturn'),\n",
       " ('해왕성', 'neptune'),\n",
       " ('화성', 'mars')]"
      ]
     },
     "execution_count": 66,
     "metadata": {},
     "output_type": "execute_result"
    }
   ],
   "source": [
    "sorted(solar_sys.items(), key=fx) # key 기준으로 sorting"
   ]
  },
  {
   "cell_type": "code",
   "execution_count": 67,
   "id": "d1ff438c",
   "metadata": {},
   "outputs": [],
   "source": [
    "def fx(x):\n",
    "    return x[1]"
   ]
  },
  {
   "cell_type": "code",
   "execution_count": 68,
   "id": "a5a51c0d",
   "metadata": {},
   "outputs": [
    {
     "data": {
      "text/plain": [
       "[('목성', 'jupiter'),\n",
       " ('화성', 'mars'),\n",
       " ('수성', 'mercury'),\n",
       " ('해왕성', 'neptune'),\n",
       " ('명왕성', 'pluto'),\n",
       " ('토성', 'saturn'),\n",
       " ('천왕성', 'uranus'),\n",
       " ('금성', 'venus')]"
      ]
     },
     "execution_count": 68,
     "metadata": {},
     "output_type": "execute_result"
    }
   ],
   "source": [
    "sorted(solar_sys.items(), key=fx)  # value 기준으로 sorting"
   ]
  },
  {
   "cell_type": "code",
   "execution_count": 69,
   "id": "951e61a0",
   "metadata": {},
   "outputs": [
    {
     "data": {
      "text/plain": [
       "[('금성', 'venus'),\n",
       " ('명왕성', 'pluto'),\n",
       " ('목성', 'jupiter'),\n",
       " ('수성', 'mercury'),\n",
       " ('천왕성', 'uranus'),\n",
       " ('토성', 'saturn'),\n",
       " ('해왕성', 'neptune'),\n",
       " ('화성', 'mars')]"
      ]
     },
     "execution_count": 69,
     "metadata": {},
     "output_type": "execute_result"
    }
   ],
   "source": [
    "sorted(solar_sys.items(), key=lambda x: x[0])  # lambda: 익명함수"
   ]
  },
  {
   "cell_type": "markdown",
   "id": "6c8a8190",
   "metadata": {},
   "source": [
    "### Set\n",
    "- \"중복이 없다.\"\n",
    "- 집합과 동일한 개념\n",
    "    - 교집합, 합집합, 차집합,...\n",
    "- bag (순서도, 중복도 X)\n",
    "    - indexing도 없다"
   ]
  },
  {
   "cell_type": "code",
   "execution_count": 134,
   "id": "cac6e550",
   "metadata": {},
   "outputs": [
    {
     "data": {
      "text/plain": [
       "set()"
      ]
     },
     "execution_count": 134,
     "metadata": {},
     "output_type": "execute_result"
    }
   ],
   "source": [
    "empty = set()\n",
    "empty"
   ]
  },
  {
   "cell_type": "code",
   "execution_count": 70,
   "id": "fbc8b4c5",
   "metadata": {},
   "outputs": [
    {
     "data": {
      "text/plain": [
       "{1, 2, 3}"
      ]
     },
     "execution_count": 70,
     "metadata": {},
     "output_type": "execute_result"
    }
   ],
   "source": [
    "a = {1,2,3} \n",
    "a"
   ]
  },
  {
   "cell_type": "code",
   "execution_count": 71,
   "id": "583a0243",
   "metadata": {},
   "outputs": [
    {
     "data": {
      "text/plain": [
       "{1, 2, 3}"
      ]
     },
     "execution_count": 71,
     "metadata": {},
     "output_type": "execute_result"
    }
   ],
   "source": [
    "a = set((1,2,3))  # 선언, 형 변환\n",
    "a"
   ]
  },
  {
   "cell_type": "code",
   "execution_count": 72,
   "id": "374a18ee",
   "metadata": {},
   "outputs": [
    {
     "data": {
      "text/plain": [
       "{1, 2, 3, 4}"
      ]
     },
     "execution_count": 72,
     "metadata": {},
     "output_type": "execute_result"
    }
   ],
   "source": [
    "# 추가\n",
    "a.add(4)\n",
    "a"
   ]
  },
  {
   "cell_type": "code",
   "execution_count": 73,
   "id": "af920878",
   "metadata": {},
   "outputs": [
    {
     "data": {
      "text/plain": [
       "{1, 2, 3}"
      ]
     },
     "execution_count": 73,
     "metadata": {},
     "output_type": "execute_result"
    }
   ],
   "source": [
    "# 삭제\n",
    "a.remove(4)\n",
    "a"
   ]
  },
  {
   "cell_type": "code",
   "execution_count": 74,
   "id": "4df33351",
   "metadata": {},
   "outputs": [
    {
     "name": "stdout",
     "output_type": "stream",
     "text": [
      "martini\n",
      "black russian\n",
      "white russian\n",
      "screwdriver\n",
      "\n",
      "black russian\n",
      "screwdriver\n"
     ]
    }
   ],
   "source": [
    "drinks = {\n",
    "    'martini':{'vodka','vermouth'},\n",
    "    'black russian':{'vodka','kahlua'},\n",
    "    'white russian':{'cream','kahlua','vodka'},\n",
    "    'manhattan':{'rye','vermouth','bitters'},\n",
    "    'screwdriver':{'orange juice', 'vodka'}\n",
    "}\n",
    "for k,v in drinks.items():\n",
    "    if 'vodka' in v:\n",
    "        print(k)\n",
    "print()\n",
    "for k,v in drinks.items():\n",
    "    if ('vodka' in v) and ('cream' not in v) and ('vermouth' not in v):\n",
    "        print(k)\n",
    "# vodka가 포함된 술 출력하기\n",
    "# vodka는 있지만, cream, vermouth가 없는 술 출력하기"
   ]
  },
  {
   "cell_type": "markdown",
   "id": "34c3f0b7",
   "metadata": {},
   "source": [
    "### 집합의 연산\n",
    "\n",
    "- a = {1,2,3}\n",
    "- b = {2,3,4}\n",
    "\n",
    "#### 교집합 | intersection\n",
    "- a.intersection(b)\n",
    "- a&b\n",
    "\n",
    "#### 합집합 | union\n",
    "- a | b\n",
    "\n",
    "#### 차집합 | difference\n",
    "- a.difference(b)\n",
    "- a - b, b - a"
   ]
  },
  {
   "cell_type": "code",
   "execution_count": 75,
   "id": "1dce033a",
   "metadata": {},
   "outputs": [
    {
     "name": "stdout",
     "output_type": "stream",
     "text": [
      "black russian\n",
      "screwdriver\n"
     ]
    }
   ],
   "source": [
    "# set을 활용해서 바꾸기\n",
    "for k,v in drinks.items():\n",
    "    if {'vodka'} & v and not v & {'cream', 'vermouth'}:\n",
    "    # if 'vodka' in v and not v & {'cream', 'vermouth'}:\n",
    "        print(k)"
   ]
  },
  {
   "cell_type": "code",
   "execution_count": 76,
   "id": "6bacd9ca",
   "metadata": {},
   "outputs": [
    {
     "data": {
      "text/plain": [
       "{0, 1, 2, 3, 4}"
      ]
     },
     "execution_count": 76,
     "metadata": {},
     "output_type": "execute_result"
    }
   ],
   "source": [
    "# set comprehension\n",
    "{s for s in range(5)}"
   ]
  },
  {
   "cell_type": "code",
   "execution_count": 77,
   "id": "9c714cd5",
   "metadata": {},
   "outputs": [
    {
     "data": {
      "text/plain": [
       "frozenset({1, 2})"
      ]
     },
     "execution_count": 77,
     "metadata": {},
     "output_type": "execute_result"
    }
   ],
   "source": [
    "# frozenset\n",
    "set([1,2])\n",
    "frozenset([1,2])"
   ]
  }
 ],
 "metadata": {
  "kernelspec": {
   "display_name": "Python 3 (ipykernel)",
   "language": "python",
   "name": "python3"
  },
  "language_info": {
   "codemirror_mode": {
    "name": "ipython",
    "version": 3
   },
   "file_extension": ".py",
   "mimetype": "text/x-python",
   "name": "python",
   "nbconvert_exporter": "python",
   "pygments_lexer": "ipython3",
   "version": "3.9.7"
  }
 },
 "nbformat": 4,
 "nbformat_minor": 5
}
